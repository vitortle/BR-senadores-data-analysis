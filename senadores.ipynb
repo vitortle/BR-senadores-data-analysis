{
 "cells": [
  {
   "cell_type": "markdown",
   "id": "6771e079-a6ca-4e59-8554-f5704330c875",
   "metadata": {},
   "source": [
    "## Useful libraries"
   ]
  },
  {
   "cell_type": "code",
   "execution_count": 226,
   "id": "ea6f5ec3-3a68-4fe1-b90d-158b73807e14",
   "metadata": {},
   "outputs": [],
   "source": [
    "import requests #used to send request to the API\n",
    "import json #used to read the API response \n",
    "import pandas as pd #used to... Ok... You know, right?!\n",
    "import psycopg2 #used to work with PostgreSQL\n",
    "from sqlalchemy import create_engine \n",
    "import plotly.express as px\n",
    "import datetime \n",
    "from plotly.subplots import make_subplots\n",
    "import plotly.graph_objects as go"
   ]
  },
  {
   "cell_type": "markdown",
   "id": "8c5214c8-4922-4962-ba59-f23f24f303ca",
   "metadata": {},
   "source": [
    "## First part - defining basic variables and functions\n",
    "The goal of this part is to define some variables and functions that will be important during code execution."
   ]
  },
  {
   "cell_type": "code",
   "execution_count": 2,
   "id": "5fac6c6d-8c30-47c2-bf6e-7f87c0a2fa33",
   "metadata": {},
   "outputs": [],
   "source": [
    "#defining basic variables\n",
    "base_url = 'https://dadosabertos.camara.leg.br/api/v2'\n",
    "filter_url = '/deputados?ordem=ASC&ordenarPor=nome'\n",
    "\n",
    "api_url = base_url + filter_url\n",
    "api_url\n",
    "\n",
    "#defining some basic functions\n",
    "## This function will be used to request data and append to a list. Nothing fancy, by will simplify our code's readeability \n",
    "def getdata(link, explist):\n",
    "    expenses = requests.get(link).json()\n",
    "    return explist.append(expenses['dados'])\n",
    "\n",
    "## This function will get the next link to the next page of our request stored in a dict (the default way python stores an API response)\n",
    "def nextlinkfromdict(pdf):\n",
    "    for row in pdf['links']:\n",
    "        if row['rel'] == \"next\":\n",
    "            return row['href']\n",
    "    return None\n",
    "\n",
    "## This function calls our previous function. You just have to send the link to the function and it will do the work. \n",
    "## I separated the two functions so I can use the remain dict from a previous call in the first function (so I don't over request the API).\n",
    "## The default function is this one, though. \n",
    "def nextlinkfromurl(link):\n",
    "    pdf = requests.get(link).json()\n",
    "    return nextlinkfromdict(pdf)"
   ]
  },
  {
   "cell_type": "code",
   "execution_count": 3,
   "id": "150f5e46-d610-40f9-83ed-54f18b089a28",
   "metadata": {},
   "outputs": [],
   "source": [
    "response = requests.get(api_url)\n",
    "deputadosdf = pd.DataFrame(response.json()['dados'])"
   ]
  },
  {
   "cell_type": "code",
   "execution_count": 5,
   "id": "249c10d4-bd8c-43fb-9d56-9cdce56d5a8e",
   "metadata": {
    "scrolled": true,
    "tags": []
   },
   "outputs": [
    {
     "name": "stdout",
     "output_type": "stream",
     "text": [
      "Starting dep 1\n",
      "Starting dep 2\n",
      "Starting dep 3\n",
      "Starting dep 4\n",
      "Starting dep 5\n",
      "Starting dep 6\n",
      "Starting dep 7\n",
      "Starting dep 8\n",
      "Starting dep 9\n",
      "Starting dep 10\n",
      "Starting dep 11\n",
      "Starting dep 12\n",
      "Starting dep 13\n",
      "Starting dep 14\n",
      "Starting dep 15\n",
      "Starting dep 16\n",
      "Starting dep 17\n",
      "Starting dep 18\n",
      "Starting dep 19\n",
      "Starting dep 20\n",
      "Starting dep 21\n",
      "Starting dep 22\n",
      "Starting dep 23\n",
      "Starting dep 24\n",
      "Starting dep 25\n",
      "Starting dep 26\n",
      "Starting dep 27\n",
      "Starting dep 28\n",
      "Starting dep 29\n",
      "Starting dep 30\n",
      "Starting dep 31\n",
      "Starting dep 32\n",
      "Starting dep 33\n",
      "Starting dep 34\n",
      "Starting dep 35\n",
      "Starting dep 36\n",
      "Starting dep 37\n",
      "Starting dep 38\n",
      "Starting dep 39\n",
      "Starting dep 40\n",
      "Starting dep 41\n",
      "Starting dep 42\n",
      "Starting dep 43\n",
      "Starting dep 44\n",
      "Starting dep 45\n",
      "Starting dep 46\n",
      "Starting dep 47\n",
      "Starting dep 48\n",
      "Starting dep 49\n",
      "Starting dep 50\n",
      "Starting dep 51\n",
      "Starting dep 52\n",
      "Starting dep 53\n",
      "Starting dep 54\n",
      "Starting dep 55\n",
      "Starting dep 56\n",
      "Starting dep 57\n",
      "Starting dep 58\n",
      "Starting dep 59\n",
      "Starting dep 60\n",
      "Starting dep 61\n",
      "Starting dep 62\n",
      "Starting dep 63\n",
      "Starting dep 64\n",
      "Starting dep 65\n",
      "Starting dep 66\n",
      "Starting dep 67\n",
      "Starting dep 68\n",
      "Starting dep 69\n",
      "Starting dep 70\n",
      "Starting dep 71\n",
      "Starting dep 72\n",
      "Starting dep 73\n",
      "Starting dep 74\n",
      "Starting dep 75\n",
      "Starting dep 76\n",
      "Starting dep 77\n",
      "Starting dep 78\n",
      "Starting dep 79\n",
      "Starting dep 80\n",
      "Starting dep 81\n",
      "Starting dep 82\n",
      "Starting dep 83\n",
      "Starting dep 84\n",
      "Starting dep 85\n",
      "Starting dep 86\n",
      "Starting dep 87\n",
      "Starting dep 88\n",
      "Starting dep 89\n",
      "Starting dep 90\n",
      "Starting dep 91\n",
      "Starting dep 92\n",
      "Starting dep 93\n",
      "Starting dep 94\n",
      "Starting dep 95\n",
      "Starting dep 96\n",
      "Starting dep 97\n",
      "Starting dep 98\n",
      "Starting dep 99\n",
      "Starting dep 100\n",
      "Starting dep 101\n",
      "Starting dep 102\n",
      "Starting dep 103\n",
      "Starting dep 104\n",
      "Starting dep 105\n",
      "Starting dep 106\n",
      "Starting dep 107\n",
      "Starting dep 108\n",
      "Starting dep 109\n",
      "Starting dep 110\n",
      "Starting dep 111\n",
      "Starting dep 112\n",
      "Starting dep 113\n",
      "Starting dep 114\n",
      "Starting dep 115\n",
      "Starting dep 116\n",
      "Starting dep 117\n",
      "Starting dep 118\n",
      "Starting dep 119\n",
      "Starting dep 120\n",
      "Starting dep 121\n",
      "Starting dep 122\n",
      "Starting dep 123\n",
      "Starting dep 124\n",
      "Starting dep 125\n",
      "Starting dep 126\n",
      "Starting dep 127\n",
      "Starting dep 128\n",
      "Starting dep 129\n",
      "Starting dep 130\n",
      "Starting dep 131\n",
      "Starting dep 132\n",
      "Starting dep 133\n",
      "Starting dep 134\n",
      "Starting dep 135\n",
      "Starting dep 136\n",
      "Starting dep 137\n",
      "Starting dep 138\n",
      "Starting dep 139\n",
      "Starting dep 140\n",
      "Starting dep 141\n",
      "Starting dep 142\n",
      "Starting dep 143\n",
      "Starting dep 144\n",
      "Starting dep 145\n",
      "Starting dep 146\n",
      "Starting dep 147\n",
      "Starting dep 148\n",
      "Starting dep 149\n",
      "Starting dep 150\n",
      "Starting dep 151\n",
      "Starting dep 152\n",
      "Starting dep 153\n",
      "Starting dep 154\n",
      "Starting dep 155\n",
      "Starting dep 156\n",
      "Starting dep 157\n",
      "Starting dep 158\n",
      "Starting dep 159\n",
      "Starting dep 160\n",
      "Starting dep 161\n",
      "Starting dep 162\n",
      "Starting dep 163\n",
      "Starting dep 164\n",
      "Starting dep 165\n",
      "Starting dep 166\n",
      "Starting dep 167\n",
      "Starting dep 168\n",
      "Starting dep 169\n",
      "Starting dep 170\n",
      "Starting dep 171\n",
      "Starting dep 172\n",
      "Starting dep 173\n",
      "Starting dep 174\n",
      "Starting dep 175\n",
      "Starting dep 176\n",
      "Starting dep 177\n",
      "Starting dep 178\n",
      "Starting dep 179\n",
      "Starting dep 180\n",
      "Starting dep 181\n",
      "Starting dep 182\n",
      "Starting dep 183\n",
      "Starting dep 184\n",
      "Starting dep 185\n",
      "Starting dep 186\n",
      "Starting dep 187\n",
      "Starting dep 188\n",
      "Starting dep 189\n",
      "Starting dep 190\n",
      "Starting dep 191\n",
      "Starting dep 192\n",
      "Starting dep 193\n",
      "Starting dep 194\n",
      "Starting dep 195\n",
      "Starting dep 196\n",
      "Starting dep 197\n",
      "Starting dep 198\n",
      "Starting dep 199\n",
      "Starting dep 200\n",
      "Starting dep 201\n",
      "Starting dep 202\n",
      "Starting dep 203\n",
      "Starting dep 204\n",
      "Starting dep 205\n",
      "Starting dep 206\n",
      "Starting dep 207\n",
      "Starting dep 208\n",
      "Starting dep 209\n",
      "Starting dep 210\n",
      "Starting dep 211\n",
      "Starting dep 212\n",
      "Starting dep 213\n",
      "Starting dep 214\n",
      "Starting dep 215\n",
      "Starting dep 216\n",
      "Starting dep 217\n",
      "Starting dep 218\n",
      "Starting dep 219\n",
      "Starting dep 220\n",
      "Starting dep 221\n",
      "Starting dep 222\n",
      "Starting dep 223\n",
      "Starting dep 224\n",
      "Starting dep 225\n",
      "Starting dep 226\n",
      "Starting dep 227\n",
      "Starting dep 228\n",
      "Starting dep 229\n",
      "Starting dep 230\n",
      "Starting dep 231\n",
      "Starting dep 232\n",
      "Starting dep 233\n",
      "Starting dep 234\n",
      "Starting dep 235\n",
      "Starting dep 236\n",
      "Starting dep 237\n",
      "Starting dep 238\n",
      "Starting dep 239\n",
      "Starting dep 240\n",
      "Starting dep 241\n",
      "Starting dep 242\n",
      "Starting dep 243\n",
      "Starting dep 244\n",
      "Starting dep 245\n",
      "Starting dep 246\n",
      "Starting dep 247\n",
      "Starting dep 248\n",
      "Starting dep 249\n",
      "Starting dep 250\n",
      "Starting dep 251\n",
      "Starting dep 252\n",
      "Starting dep 253\n",
      "Starting dep 254\n",
      "Starting dep 255\n",
      "Starting dep 256\n",
      "Starting dep 257\n",
      "Starting dep 258\n",
      "Starting dep 259\n",
      "Starting dep 260\n",
      "Starting dep 261\n",
      "Starting dep 262\n",
      "Starting dep 263\n",
      "Starting dep 264\n",
      "Starting dep 265\n",
      "Starting dep 266\n",
      "Starting dep 267\n",
      "Starting dep 268\n",
      "Starting dep 269\n",
      "Starting dep 270\n",
      "Starting dep 271\n",
      "Starting dep 272\n",
      "Starting dep 273\n",
      "Starting dep 274\n",
      "Starting dep 275\n",
      "Starting dep 276\n",
      "Starting dep 277\n",
      "Starting dep 278\n",
      "Starting dep 279\n",
      "Starting dep 280\n",
      "Starting dep 281\n",
      "Starting dep 282\n",
      "Starting dep 283\n",
      "Starting dep 284\n",
      "Starting dep 285\n",
      "Starting dep 286\n",
      "Starting dep 287\n",
      "Starting dep 288\n",
      "Starting dep 289\n",
      "Starting dep 290\n",
      "Starting dep 291\n",
      "Starting dep 292\n",
      "Starting dep 293\n",
      "Starting dep 294\n",
      "Starting dep 295\n",
      "Starting dep 296\n",
      "Starting dep 297\n",
      "Starting dep 298\n",
      "Starting dep 299\n",
      "Starting dep 300\n",
      "Starting dep 301\n",
      "Starting dep 302\n",
      "Starting dep 303\n",
      "Starting dep 304\n",
      "Starting dep 305\n",
      "Starting dep 306\n",
      "Starting dep 307\n",
      "Starting dep 308\n",
      "Starting dep 309\n",
      "Starting dep 310\n",
      "Starting dep 311\n",
      "Starting dep 312\n",
      "Starting dep 313\n",
      "Starting dep 314\n",
      "Starting dep 315\n",
      "Starting dep 316\n",
      "Starting dep 317\n",
      "Starting dep 318\n",
      "Starting dep 319\n",
      "Starting dep 320\n",
      "Starting dep 321\n",
      "Starting dep 322\n",
      "Starting dep 323\n",
      "Starting dep 324\n",
      "Starting dep 325\n",
      "Starting dep 326\n",
      "Starting dep 327\n",
      "Starting dep 328\n",
      "Starting dep 329\n",
      "Starting dep 330\n",
      "Starting dep 331\n",
      "Starting dep 332\n",
      "Starting dep 333\n",
      "Starting dep 334\n",
      "Starting dep 335\n",
      "Starting dep 336\n",
      "Starting dep 337\n",
      "Starting dep 338\n",
      "Starting dep 339\n",
      "Starting dep 340\n",
      "Starting dep 341\n",
      "Starting dep 342\n",
      "Starting dep 343\n",
      "Starting dep 344\n",
      "Starting dep 345\n",
      "Starting dep 346\n",
      "Starting dep 347\n",
      "Starting dep 348\n",
      "Starting dep 349\n",
      "Starting dep 350\n",
      "Starting dep 351\n",
      "Starting dep 352\n",
      "Starting dep 353\n",
      "Starting dep 354\n",
      "Starting dep 355\n",
      "Starting dep 356\n",
      "Starting dep 357\n",
      "Starting dep 358\n",
      "Starting dep 359\n",
      "Starting dep 360\n",
      "Starting dep 361\n",
      "Starting dep 362\n",
      "Starting dep 363\n",
      "Starting dep 364\n",
      "Starting dep 365\n",
      "Starting dep 366\n",
      "Starting dep 367\n",
      "Starting dep 368\n",
      "Starting dep 369\n",
      "Starting dep 370\n",
      "Starting dep 371\n",
      "Starting dep 372\n",
      "Starting dep 373\n",
      "Starting dep 374\n",
      "Starting dep 375\n",
      "Starting dep 376\n",
      "Starting dep 377\n",
      "Starting dep 378\n",
      "Starting dep 379\n",
      "Starting dep 380\n",
      "Starting dep 381\n",
      "Starting dep 382\n",
      "Starting dep 383\n",
      "Starting dep 384\n",
      "Starting dep 385\n",
      "Starting dep 386\n",
      "Starting dep 387\n",
      "Starting dep 388\n",
      "Starting dep 389\n",
      "Starting dep 390\n",
      "Starting dep 391\n",
      "Starting dep 392\n",
      "Starting dep 393\n",
      "Starting dep 394\n",
      "Starting dep 395\n",
      "Starting dep 396\n",
      "Starting dep 397\n",
      "Starting dep 398\n",
      "Starting dep 399\n",
      "Starting dep 400\n",
      "Starting dep 401\n",
      "Starting dep 402\n",
      "Starting dep 403\n",
      "Starting dep 404\n",
      "Starting dep 405\n",
      "Starting dep 406\n",
      "Starting dep 407\n",
      "Starting dep 408\n",
      "Starting dep 409\n",
      "Starting dep 410\n",
      "Starting dep 411\n",
      "Starting dep 412\n",
      "Starting dep 413\n",
      "Starting dep 414\n",
      "Starting dep 415\n",
      "Starting dep 416\n",
      "Starting dep 417\n",
      "Starting dep 418\n",
      "Starting dep 419\n",
      "Starting dep 420\n",
      "Starting dep 421\n",
      "Starting dep 422\n",
      "Starting dep 423\n",
      "Starting dep 424\n",
      "Starting dep 425\n",
      "Starting dep 426\n",
      "Starting dep 427\n",
      "Starting dep 428\n",
      "Starting dep 429\n",
      "Starting dep 430\n",
      "Starting dep 431\n",
      "Starting dep 432\n",
      "Starting dep 433\n",
      "Starting dep 434\n",
      "Starting dep 435\n",
      "Starting dep 436\n",
      "Starting dep 437\n",
      "Starting dep 438\n",
      "Starting dep 439\n",
      "Starting dep 440\n",
      "Starting dep 441\n",
      "Starting dep 442\n",
      "Starting dep 443\n",
      "Starting dep 444\n",
      "Starting dep 445\n",
      "Starting dep 446\n",
      "Starting dep 447\n",
      "Starting dep 448\n",
      "Starting dep 449\n",
      "Starting dep 450\n",
      "Starting dep 451\n",
      "Starting dep 452\n",
      "Starting dep 453\n",
      "Starting dep 454\n",
      "Starting dep 455\n",
      "Starting dep 456\n",
      "Starting dep 457\n",
      "Starting dep 458\n",
      "Starting dep 459\n",
      "Starting dep 460\n",
      "Starting dep 461\n",
      "Starting dep 462\n",
      "Starting dep 463\n",
      "Starting dep 464\n",
      "Starting dep 465\n",
      "Starting dep 466\n",
      "Starting dep 467\n",
      "Starting dep 468\n",
      "Starting dep 469\n",
      "Starting dep 470\n",
      "Starting dep 471\n",
      "Starting dep 472\n",
      "Starting dep 473\n",
      "Starting dep 474\n",
      "Starting dep 475\n",
      "Starting dep 476\n",
      "Starting dep 477\n",
      "Starting dep 478\n",
      "Starting dep 479\n",
      "Starting dep 480\n",
      "Starting dep 481\n",
      "Starting dep 482\n",
      "Starting dep 483\n",
      "Starting dep 484\n",
      "Starting dep 485\n",
      "Starting dep 486\n",
      "Starting dep 487\n",
      "Starting dep 488\n",
      "Starting dep 489\n",
      "Starting dep 490\n",
      "Starting dep 491\n",
      "Starting dep 492\n",
      "Starting dep 493\n",
      "Starting dep 494\n",
      "Starting dep 495\n",
      "Starting dep 496\n",
      "Starting dep 497\n",
      "Starting dep 498\n",
      "Starting dep 499\n",
      "Starting dep 500\n",
      "Starting dep 501\n",
      "Starting dep 502\n",
      "Starting dep 503\n",
      "Starting dep 504\n",
      "Starting dep 505\n",
      "Starting dep 506\n",
      "Starting dep 507\n",
      "Starting dep 508\n",
      "Starting dep 509\n",
      "Starting dep 510\n",
      "Starting dep 511\n",
      "Starting dep 512\n",
      "Starting dep 513\n"
     ]
    }
   ],
   "source": [
    "## Getting more information \n",
    "i = 0\n",
    "depdf = []\n",
    "\n",
    "for i in range(0, len(deputadosdf)):\n",
    "    print(\"Starting dep \" + str(i+1))\n",
    "    dep_filter_url = base_url + '/deputados/' + str(deputadosdf['id'][i])\n",
    "    depdf.append(requests.get(dep_filter_url).json())\n",
    "\n",
    "#merging the useful columns to the best dataframe\n",
    "depdados = pd.DataFrame(list(pd.DataFrame(depdf)['dados']))\n",
    "deputadosdf = deputadosdf.merge(depdados[['id', 'nomeCivil', 'cpf', 'sexo', 'dataNascimento', 'ufNascimento', 'municipioNascimento', 'escolaridade']], on = 'id')"
   ]
  },
  {
   "cell_type": "code",
   "execution_count": 202,
   "id": "e623462c-2cea-4e61-b5ad-302a040e2a66",
   "metadata": {},
   "outputs": [],
   "source": [
    "deputadosdf['dataNascimento'] = pd.to_datetime(deputadosdf['dataNascimento'])\n",
    "deputadosdf['age'] = round((pd.Timestamp.now().normalize() - deputadosdf['dataNascimento']).astype('timedelta64[Y]'),0)\n",
    "df_sex = deputadosdf[['id', 'sexo']].groupby('sexo').count().reset_index()\n",
    "df_sex['percentage'] = round(df_sex['id']/df_sex['id'].sum(), 2)\n",
    "df_sex['percentage'] = df_sex['percentage'].map(lambda n: '{:.0%}'.format(n))\n",
    "df_sex['sexo'].replace('F', 'Female',inplace=True)\n",
    "df_sex['sexo'].replace('M', 'Male',inplace=True)"
   ]
  },
  {
   "cell_type": "code",
   "execution_count": 259,
   "id": "0b2cf735-ff8c-4f04-83a2-b67ef1391ac3",
   "metadata": {
    "tags": []
   },
   "outputs": [
    {
     "data": {
      "application/vnd.plotly.v1+json": {
       "config": {
        "plotlyServerURL": "https://plot.ly"
       },
       "data": [
        {
         "alignmentgroup": "True",
         "box": {
          "visible": false
         },
         "customdata": [
          [
           "Abílio Santana"
          ],
          [
           "Abou Anni"
          ],
          [
           "Acácio Favacho"
          ],
          [
           "Adolfo Viana"
          ],
          [
           "Adriano do Baldy"
          ],
          [
           "Aécio Neves"
          ],
          [
           "Aelton Freitas"
          ],
          [
           "Afonso Florence"
          ],
          [
           "Afonso Hamm"
          ],
          [
           "Afonso Motta"
          ],
          [
           "Aguinaldo Ribeiro"
          ],
          [
           "Airton Faleiro"
          ],
          [
           "AJ Albuquerque"
          ],
          [
           "Alan Rick"
          ],
          [
           "Alceu Moreira"
          ],
          [
           "Alcides Rodrigues"
          ],
          [
           "Alencar Santana Braga"
          ],
          [
           "Alessandro Molon"
          ],
          [
           "Alex Manente"
          ],
          [
           "Alex Santana"
          ],
          [
           "Alexandre Frota"
          ],
          [
           "Alexandre Leite"
          ],
          [
           "Alexandre Padilha"
          ],
          [
           "Alexis Fonteyne"
          ],
          [
           "Aliel Machado"
          ],
          [
           "Altineu Côrtes"
          ],
          [
           "Aluisio Mendes"
          ],
          [
           "Amaro Neto"
          ],
          [
           "André Abdon"
          ],
          [
           "André de Paula"
          ],
          [
           "André Ferreira"
          ],
          [
           "André Figueiredo"
          ],
          [
           "André Fufuca"
          ],
          [
           "André Janones"
          ],
          [
           "Aníbal Gomes"
          ],
          [
           "Antonio Brito"
          ],
          [
           "Arlindo Chinaglia"
          ],
          [
           "Arnaldo Jardim"
          ],
          [
           "Aroldo Martins"
          ],
          [
           "Arthur Lira"
          ],
          [
           "Arthur Oliveira Maia"
          ],
          [
           "Átila Lins"
          ],
          [
           "Átila Lira"
          ],
          [
           "Augusto Coutinho"
          ],
          [
           "Aureo Ribeiro"
          ],
          [
           "Bacelar"
          ],
          [
           "Baleia Rossi"
          ],
          [
           "Benes Leocádio"
          ],
          [
           "Beto Faro"
          ],
          [
           "Beto Pereira"
          ],
          [
           "Beto Rosado"
          ],
          [
           "Bibo Nunes"
          ],
          [
           "Bilac Pinto"
          ],
          [
           "Bira do Pindaré"
          ],
          [
           "Bohn Gass"
          ],
          [
           "Bosco Costa"
          ],
          [
           "Bosco Saraiva"
          ],
          [
           "Bozzella"
          ],
          [
           "Cacá Leão"
          ],
          [
           "Camilo Capiberibe"
          ],
          [
           "Capitão Alberto Neto"
          ],
          [
           "Capitão Augusto"
          ],
          [
           "Capitão Fábio Abreu"
          ],
          [
           "Capitão Wagner"
          ],
          [
           "Carlos Chiodini"
          ],
          [
           "Carlos Gomes"
          ],
          [
           "Carlos Henrique Gaguim"
          ],
          [
           "Carlos Jordy"
          ],
          [
           "Carlos Sampaio"
          ],
          [
           "Carlos Veras"
          ],
          [
           "Carlos Zarattini"
          ],
          [
           "Cássio Andrade"
          ],
          [
           "Célio Moura"
          ],
          [
           "Célio Silveira"
          ],
          [
           "Célio Studart"
          ],
          [
           "Celso Maldaner"
          ],
          [
           "Celso Russomanno"
          ],
          [
           "Celso Sabino"
          ],
          [
           "Cezinha de Madureira"
          ],
          [
           "Charles Fernandes"
          ],
          [
           "Charlles Evangelista"
          ],
          [
           "Chico D'Angelo"
          ],
          [
           "Chiquinho Brazão"
          ],
          [
           "Christino Aureo"
          ],
          [
           "Claudio Cajado"
          ],
          [
           "Cleber Verde"
          ],
          [
           "Coronel Armando"
          ],
          [
           "Coronel Chrisóstomo"
          ],
          [
           "Coronel Tadeu"
          ],
          [
           "Covatti Filho"
          ],
          [
           "Cristiano Vale"
          ],
          [
           "Da Vitoria"
          ],
          [
           "Dagoberto Nogueira"
          ],
          [
           "Damião Feliciano"
          ],
          [
           "Daniel Almeida"
          ],
          [
           "Daniel Coelho"
          ],
          [
           "Daniel Freitas"
          ],
          [
           "Daniel Silveira"
          ],
          [
           "Daniel Trzeciak"
          ],
          [
           "Danilo Cabral"
          ],
          [
           "Danilo Forte"
          ],
          [
           "Darci de Matos"
          ],
          [
           "David Miranda"
          ],
          [
           "David Soares"
          ],
          [
           "Delegado Antônio Furtado"
          ],
          [
           "Delegado Éder Mauro"
          ],
          [
           "Delegado Marcelo Freitas"
          ],
          [
           "Delegado Pablo"
          ],
          [
           "Delegado Waldir"
          ],
          [
           "Denis Bezerra"
          ],
          [
           "Diego Andrade"
          ],
          [
           "Diego Garcia"
          ],
          [
           "Dimas Fabiano"
          ],
          [
           "Domingos Neto"
          ],
          [
           "Domingos Sávio"
          ],
          [
           "Dr. Frederico"
          ],
          [
           "Dr. Jaziel"
          ],
          [
           "Dr. Leonardo"
          ],
          [
           "Dr. Luiz Antonio Teixeira Jr."
          ],
          [
           "Dr. Luiz Ovando"
          ],
          [
           "Dr. Zacharias Calil"
          ],
          [
           "Edilázio Júnior"
          ],
          [
           "Edio Lopes"
          ],
          [
           "Eduardo Barbosa"
          ],
          [
           "Eduardo Bismarck"
          ],
          [
           "Eduardo Bolsonaro"
          ],
          [
           "Eduardo Costa"
          ],
          [
           "Eduardo Cury"
          ],
          [
           "Eduardo da Fonte"
          ],
          [
           "Efraim Filho"
          ],
          [
           "Eli Borges"
          ],
          [
           "Eli Corrêa Filho"
          ],
          [
           "Elias Vaz"
          ],
          [
           "Elmar Nascimento"
          ],
          [
           "Emanuel Pinheiro Neto"
          ],
          [
           "Emidinho Madeira"
          ],
          [
           "Enio Verri"
          ],
          [
           "Enrico Misasi"
          ],
          [
           "Eros Biondini"
          ],
          [
           "Euclydes Pettersen"
          ],
          [
           "Evair Vieira de Melo"
          ],
          [
           "Expedito Netto"
          ],
          [
           "Fábio Henrique"
          ],
          [
           "Fábio Mitidieri"
          ],
          [
           "Fábio Ramalho"
          ],
          [
           "Fabio Reis"
          ],
          [
           "Fabio Schiochet"
          ],
          [
           "Fábio Trad"
          ],
          [
           "Fausto Pinato"
          ],
          [
           "Felício Laterça"
          ],
          [
           "Felipe Carreras"
          ],
          [
           "Felipe Francischini"
          ],
          [
           "Felipe Rigoni"
          ],
          [
           "Félix Mendonça Júnior"
          ],
          [
           "Fernando Coelho Filho"
          ],
          [
           "Fernando Monteiro"
          ],
          [
           "Fernando Rodolfo"
          ],
          [
           "Filipe Barros"
          ],
          [
           "Flaviano Melo"
          ],
          [
           "Flávio Nogueira"
          ],
          [
           "Francisco Jr."
          ],
          [
           "Franco Cartafina"
          ],
          [
           "Fred Costa"
          ],
          [
           "Frei Anastacio Ribeiro"
          ],
          [
           "Gastão Vieira"
          ],
          [
           "Gelson Azevedo"
          ],
          [
           "Genecias Noronha"
          ],
          [
           "General Girão"
          ],
          [
           "General Peternelli"
          ],
          [
           "Geninho Zuliani"
          ],
          [
           "Gervásio Maia"
          ],
          [
           "Giacobo"
          ],
          [
           "Gil Cutrim"
          ],
          [
           "Gilberto Abramo"
          ],
          [
           "Gilberto Nascimento"
          ],
          [
           "Gilson Marques"
          ],
          [
           "Giovani Cherini"
          ],
          [
           "Giovani Feltes"
          ],
          [
           "Glauber Braga"
          ],
          [
           "Glaustin da Fokus"
          ],
          [
           "Gonzaga Patriota"
          ],
          [
           "Guiga Peixoto"
          ],
          [
           "Guilherme Derrite"
          ],
          [
           "Guilherme Mussi"
          ],
          [
           "Gurgel"
          ],
          [
           "Gustavo Fruet"
          ],
          [
           "Gustinho Ribeiro"
          ],
          [
           "Gutemberg Reis"
          ],
          [
           "Haroldo Cathedral"
          ],
          [
           "Heitor Freire"
          ],
          [
           "Heitor Schuch"
          ],
          [
           "Helder Salomão"
          ],
          [
           "Hélio Costa"
          ],
          [
           "Hélio Leite"
          ],
          [
           "Helio Lopes"
          ],
          [
           "Henrique do Paraíso"
          ],
          [
           "Henrique Fontana"
          ],
          [
           "Hercílio Coelho Diniz"
          ],
          [
           "Herculano Passos"
          ],
          [
           "Hermes Parcianello"
          ],
          [
           "Hildo Rocha"
          ],
          [
           "Hiran Gonçalves"
          ],
          [
           "Hugo Leal"
          ],
          [
           "Hugo Motta"
          ],
          [
           "Idilvan Alencar"
          ],
          [
           "Igor Kannário"
          ],
          [
           "Igor Timo"
          ],
          [
           "Isnaldo Bulhões Jr."
          ],
          [
           "Ivan Valente"
          ],
          [
           "Jefferson Campos"
          ],
          [
           "Jerônimo Goergen"
          ],
          [
           "Jesus Sérgio"
          ],
          [
           "Jhonatan de Jesus"
          ],
          [
           "João Campos"
          ],
          [
           "João Carlos Bacelar"
          ],
          [
           "João Daniel"
          ],
          [
           "João Maia"
          ],
          [
           "João Marcelo Souza"
          ],
          [
           "Joaquim Passarinho"
          ],
          [
           "Jones Moura"
          ],
          [
           "Jorge Braz"
          ],
          [
           "Jorge Solla"
          ],
          [
           "José Airton Félix Cirilo"
          ],
          [
           "José Guimarães"
          ],
          [
           "Jose Mario Schreiner"
          ],
          [
           "José Medeiros"
          ],
          [
           "José Nelto"
          ],
          [
           "José Nunes"
          ],
          [
           "José Priante"
          ],
          [
           "José Ricardo"
          ],
          [
           "José Rocha"
          ],
          [
           "Joseildo Ramos"
          ],
          [
           "Josimar Maranhãozinho"
          ],
          [
           "Josivaldo JP"
          ],
          [
           "Juarez Costa"
          ],
          [
           "Julian Lemos"
          ],
          [
           "Júlio Cesar"
          ],
          [
           "Julio Cesar Ribeiro"
          ],
          [
           "Júlio Delgado"
          ],
          [
           "Julio Lopes"
          ],
          [
           "Junio Amaral"
          ],
          [
           "Júnior Ferrari"
          ],
          [
           "Junior Lourenço"
          ],
          [
           "Júnior Mano"
          ],
          [
           "Juscelino Filho"
          ],
          [
           "Kim Kataguiri"
          ],
          [
           "Laercio Oliveira"
          ],
          [
           "Laerte Bessa"
          ],
          [
           "Lafayette de Andrada"
          ],
          [
           "LEO DE BRITO"
          ],
          [
           "Léo Moraes"
          ],
          [
           "Léo Motta"
          ],
          [
           "Leonardo Monteiro"
          ],
          [
           "Leonardo Picciani"
          ],
          [
           "Leônidas Cristino"
          ],
          [
           "Leur Lomanto Júnior"
          ],
          [
           "Lincoln Portela"
          ],
          [
           "Loester Trutis"
          ],
          [
           "Lourival Gomes"
          ],
          [
           "Lucas Gonzalez"
          ],
          [
           "Lucas Redecker"
          ],
          [
           "Lucas Vergilio"
          ],
          [
           "Luciano Bivar"
          ],
          [
           "Luciano Ducci"
          ],
          [
           "Lucio Mosquini"
          ],
          [
           "Luis Miranda"
          ],
          [
           "Luis Tibé"
          ],
          [
           "Luiz Antônio Corrêa"
          ],
          [
           "Luiz Carlos Motta"
          ],
          [
           "Luiz Lima"
          ],
          [
           "Luiz Nishimori"
          ],
          [
           "Luiz Philippe de Orleans e Bragança"
          ],
          [
           "Luizão Goulart"
          ],
          [
           "Marcel van Hattem"
          ],
          [
           "Marcelo Álvaro Antônio"
          ],
          [
           "Marcelo Aro"
          ],
          [
           "Marcelo Brum"
          ],
          [
           "Marcelo Freixo"
          ],
          [
           "Marcelo Moraes"
          ],
          [
           "Marcelo Nilo"
          ],
          [
           "Marcelo Ramos"
          ],
          [
           "Marcio Alvino"
          ],
          [
           "Márcio Biolchi"
          ],
          [
           "Márcio Labre"
          ],
          [
           "Márcio Marinho"
          ],
          [
           "Marco Bertaiolli"
          ],
          [
           "Marcon"
          ],
          [
           "Marcos Aurélio Sampaio"
          ],
          [
           "Marcos Pereira"
          ],
          [
           "Marcos Soares"
          ],
          [
           "Mário Heringer"
          ],
          [
           "Mário Negromonte Jr."
          ],
          [
           "Marlon Santos"
          ],
          [
           "Marreca Filho"
          ],
          [
           "Marx Beltrão"
          ],
          [
           "Maurício Dziedricki"
          ],
          [
           "Mauro Lopes"
          ],
          [
           "Mauro Nazif"
          ],
          [
           "Merlong Solano"
          ],
          [
           "Miguel Lombardi"
          ],
          [
           "Milton Coelho"
          ],
          [
           "Misael Varella"
          ],
          [
           "Moses Rodrigues"
          ],
          [
           "Nelson Barbudo"
          ],
          [
           "Nereu Crispim"
          ],
          [
           "Neri Geller"
          ],
          [
           "Neucimar Fraga"
          ],
          [
           "Newton Cardoso Jr"
          ],
          [
           "Nicoletti"
          ],
          [
           "Nilson Pinto"
          ],
          [
           "Nilto Tatto"
          ],
          [
           "Nivaldo Albuquerque"
          ],
          [
           "Odair Cunha"
          ],
          [
           "Olival Marques"
          ],
          [
           "Orlando Silva"
          ],
          [
           "Osires Damaso"
          ],
          [
           "Osmar Serraglio"
          ],
          [
           "Osmar Terra"
          ],
          [
           "Ossesio Silva"
          ],
          [
           "Otavio Leite"
          ],
          [
           "Otoni de Paula"
          ],
          [
           "Ottaci Nascimento"
          ],
          [
           "Otto Alencar Filho"
          ],
          [
           "Padre João"
          ],
          [
           "Pastor Eurico"
          ],
          [
           "Pastor Gil"
          ],
          [
           "Pastor Sargento Isidório"
          ],
          [
           "Patrus Ananias"
          ],
          [
           "Paulão"
          ],
          [
           "Paulo Abi-Ackel"
          ],
          [
           "Paulo Azi"
          ],
          [
           "Paulo Bengtson"
          ],
          [
           "Paulo Eduardo Martins"
          ],
          [
           "Paulo Freire Costa"
          ],
          [
           "Paulo Ganime"
          ],
          [
           "Paulo Guedes"
          ],
          [
           "Paulo Magalhães"
          ],
          [
           "Paulo Pereira da Silva"
          ],
          [
           "Paulo Pimenta"
          ],
          [
           "Paulo Ramos"
          ],
          [
           "Paulo Teixeira"
          ],
          [
           "Paulo Vicente Caleffi"
          ],
          [
           "Pedro Augusto Bezerra"
          ],
          [
           "Pedro Augusto Palareti"
          ],
          [
           "Pedro Cunha Lima"
          ],
          [
           "Pedro Dalua"
          ],
          [
           "Pedro Lucas Fernandes"
          ],
          [
           "Pedro Lupion"
          ],
          [
           "Pedro Uczai"
          ],
          [
           "Pedro Vilela"
          ],
          [
           "Pedro Westphalen"
          ],
          [
           "Pinheirinho"
          ],
          [
           "Pompeo de Mattos"
          ],
          [
           "Pr. Marco Feliciano"
          ],
          [
           "Professor Alcides"
          ],
          [
           "Professor Israel Batista"
          ],
          [
           "Professor Joziel"
          ],
          [
           "Rafael Motta"
          ],
          [
           "Raimundo Costa"
          ],
          [
           "Raul Henry"
          ],
          [
           "Reginaldo Lopes"
          ],
          [
           "Reinhold Stephanes Junior"
          ],
          [
           "Renildo Calheiros"
          ],
          [
           "Ricardo Barros"
          ],
          [
           "Ricardo da Karol"
          ],
          [
           "Ricardo Guidi"
          ],
          [
           "Ricardo Izar"
          ],
          [
           "Ricardo Silva"
          ],
          [
           "Ricardo Teobaldo"
          ],
          [
           "Robério Monteiro"
          ],
          [
           "Roberto Alves"
          ],
          [
           "Roberto de Lucena"
          ],
          [
           "Rodrigo Agostinho"
          ],
          [
           "Rodrigo Coelho"
          ],
          [
           "Rodrigo de Castro"
          ],
          [
           "Rogério Correia"
          ],
          [
           "Rogério Peninha Mendonça"
          ],
          [
           "Roman"
          ],
          [
           "Ronaldo Carletto"
          ],
          [
           "Rossoni"
          ],
          [
           "Rubens Bueno"
          ],
          [
           "Rubens Otoni"
          ],
          [
           "Rubens Pereira Júnior"
          ],
          [
           "Rui Falcão"
          ],
          [
           "Ruy Carneiro"
          ],
          [
           "Samuel Moreira"
          ],
          [
           "Sanderson"
          ],
          [
           "Sargento Fahur"
          ],
          [
           "Sebastião Oliveira"
          ],
          [
           "Sérgio Brito"
          ],
          [
           "Sergio Souza"
          ],
          [
           "Sergio Toledo"
          ],
          [
           "Severino Pessoa"
          ],
          [
           "Sidney Leite"
          ],
          [
           "Silas Câmara"
          ],
          [
           "Silvio Costa Filho"
          ],
          [
           "Sóstenes Cavalcante"
          ],
          [
           "Stefano Aguiar"
          ],
          [
           "Subtenente Gonzaga"
          ],
          [
           "Tadeu Alencar"
          ],
          [
           "Ted Conti"
          ],
          [
           "Tiago Dimas"
          ],
          [
           "Tiago Mitraud"
          ],
          [
           "Tiririca"
          ],
          [
           "Tito"
          ],
          [
           "Toninho Wandscheer"
          ],
          [
           "Túlio Gadêlha"
          ],
          [
           "Uldurico Junior"
          ],
          [
           "Vaidon Oliveira"
          ],
          [
           "Valdevan Noventa"
          ],
          [
           "Valmir Assunção"
          ],
          [
           "Valtenir Pereira"
          ],
          [
           "Vander Loubet"
          ],
          [
           "Vanderlei Macris"
          ],
          [
           "Vavá Martins"
          ],
          [
           "Vermelho"
          ],
          [
           "Vicentinho"
          ],
          [
           "Vicentinho Júnior"
          ],
          [
           "Vilson da Fetaemg"
          ],
          [
           "Vinicius Carvalho"
          ],
          [
           "Vinicius Gurgel"
          ],
          [
           "Vinicius Poit"
          ],
          [
           "Vitor Hugo"
          ],
          [
           "Vitor Lippi"
          ],
          [
           "Waldenor Pereira"
          ],
          [
           "Walter Alves"
          ],
          [
           "Weliton Prado"
          ],
          [
           "Wellington Roberto"
          ],
          [
           "Wilson Santiago"
          ],
          [
           "Wolney Queiroz"
          ],
          [
           "Zé Augusto Nalin"
          ],
          [
           "Zé Carlos"
          ],
          [
           "Zé Neto"
          ],
          [
           "Zé Silva"
          ],
          [
           "Zé Vitor"
          ],
          [
           "Zeca Dirceu"
          ]
         ],
         "hovertemplate": "sexo=%{x}<br>age=%{y}<br>nome=%{customdata[0]}<extra></extra>",
         "legendgroup": "M",
         "marker": {
          "color": "#636efa"
         },
         "name": "M",
         "offsetgroup": "M",
         "orientation": "v",
         "points": "all",
         "scalegroup": "True",
         "showlegend": true,
         "type": "violin",
         "x": [
          "M",
          "M",
          "M",
          "M",
          "M",
          "M",
          "M",
          "M",
          "M",
          "M",
          "M",
          "M",
          "M",
          "M",
          "M",
          "M",
          "M",
          "M",
          "M",
          "M",
          "M",
          "M",
          "M",
          "M",
          "M",
          "M",
          "M",
          "M",
          "M",
          "M",
          "M",
          "M",
          "M",
          "M",
          "M",
          "M",
          "M",
          "M",
          "M",
          "M",
          "M",
          "M",
          "M",
          "M",
          "M",
          "M",
          "M",
          "M",
          "M",
          "M",
          "M",
          "M",
          "M",
          "M",
          "M",
          "M",
          "M",
          "M",
          "M",
          "M",
          "M",
          "M",
          "M",
          "M",
          "M",
          "M",
          "M",
          "M",
          "M",
          "M",
          "M",
          "M",
          "M",
          "M",
          "M",
          "M",
          "M",
          "M",
          "M",
          "M",
          "M",
          "M",
          "M",
          "M",
          "M",
          "M",
          "M",
          "M",
          "M",
          "M",
          "M",
          "M",
          "M",
          "M",
          "M",
          "M",
          "M",
          "M",
          "M",
          "M",
          "M",
          "M",
          "M",
          "M",
          "M",
          "M",
          "M",
          "M",
          "M",
          "M",
          "M",
          "M",
          "M",
          "M",
          "M",
          "M",
          "M",
          "M",
          "M",
          "M",
          "M",
          "M",
          "M",
          "M",
          "M",
          "M",
          "M",
          "M",
          "M",
          "M",
          "M",
          "M",
          "M",
          "M",
          "M",
          "M",
          "M",
          "M",
          "M",
          "M",
          "M",
          "M",
          "M",
          "M",
          "M",
          "M",
          "M",
          "M",
          "M",
          "M",
          "M",
          "M",
          "M",
          "M",
          "M",
          "M",
          "M",
          "M",
          "M",
          "M",
          "M",
          "M",
          "M",
          "M",
          "M",
          "M",
          "M",
          "M",
          "M",
          "M",
          "M",
          "M",
          "M",
          "M",
          "M",
          "M",
          "M",
          "M",
          "M",
          "M",
          "M",
          "M",
          "M",
          "M",
          "M",
          "M",
          "M",
          "M",
          "M",
          "M",
          "M",
          "M",
          "M",
          "M",
          "M",
          "M",
          "M",
          "M",
          "M",
          "M",
          "M",
          "M",
          "M",
          "M",
          "M",
          "M",
          "M",
          "M",
          "M",
          "M",
          "M",
          "M",
          "M",
          "M",
          "M",
          "M",
          "M",
          "M",
          "M",
          "M",
          "M",
          "M",
          "M",
          "M",
          "M",
          "M",
          "M",
          "M",
          "M",
          "M",
          "M",
          "M",
          "M",
          "M",
          "M",
          "M",
          "M",
          "M",
          "M",
          "M",
          "M",
          "M",
          "M",
          "M",
          "M",
          "M",
          "M",
          "M",
          "M",
          "M",
          "M",
          "M",
          "M",
          "M",
          "M",
          "M",
          "M",
          "M",
          "M",
          "M",
          "M",
          "M",
          "M",
          "M",
          "M",
          "M",
          "M",
          "M",
          "M",
          "M",
          "M",
          "M",
          "M",
          "M",
          "M",
          "M",
          "M",
          "M",
          "M",
          "M",
          "M",
          "M",
          "M",
          "M",
          "M",
          "M",
          "M",
          "M",
          "M",
          "M",
          "M",
          "M",
          "M",
          "M",
          "M",
          "M",
          "M",
          "M",
          "M",
          "M",
          "M",
          "M",
          "M",
          "M",
          "M",
          "M",
          "M",
          "M",
          "M",
          "M",
          "M",
          "M",
          "M",
          "M",
          "M",
          "M",
          "M",
          "M",
          "M",
          "M",
          "M",
          "M",
          "M",
          "M",
          "M",
          "M",
          "M",
          "M",
          "M",
          "M",
          "M",
          "M",
          "M",
          "M",
          "M",
          "M",
          "M",
          "M",
          "M",
          "M",
          "M",
          "M",
          "M",
          "M",
          "M",
          "M",
          "M",
          "M",
          "M",
          "M",
          "M",
          "M",
          "M",
          "M",
          "M",
          "M",
          "M",
          "M",
          "M",
          "M",
          "M",
          "M",
          "M",
          "M",
          "M",
          "M",
          "M",
          "M",
          "M",
          "M",
          "M",
          "M",
          "M",
          "M",
          "M",
          "M",
          "M",
          "M",
          "M",
          "M",
          "M",
          "M",
          "M",
          "M",
          "M",
          "M",
          "M",
          "M",
          "M",
          "M",
          "M",
          "M",
          "M",
          "M",
          "M",
          "M",
          "M",
          "M",
          "M",
          "M",
          "M",
          "M",
          "M",
          "M",
          "M",
          "M",
          "M",
          "M",
          "M",
          "M",
          "M",
          "M",
          "M",
          "M",
          "M",
          "M",
          "M",
          "M",
          "M",
          "M",
          "M",
          "M",
          "M",
          "M",
          "M",
          "M",
          "M",
          "M",
          "M",
          "M",
          "M",
          "M",
          "M",
          "M",
          "M",
          "M"
         ],
         "x0": " ",
         "xaxis": "x",
         "y": [
          56,
          54,
          37,
          40,
          52,
          61,
          59,
          60,
          59,
          71,
          52,
          62,
          37,
          44,
          67,
          70,
          45,
          49,
          42,
          49,
          57,
          32,
          50,
          54,
          32,
          53,
          59,
          44,
          50,
          60,
          48,
          54,
          32,
          37,
          68,
          52,
          71,
          66,
          60,
          52,
          57,
          70,
          74,
          58,
          42,
          64,
          49,
          55,
          52,
          43,
          39,
          64,
          58,
          52,
          59,
          70,
          61,
          41,
          41,
          49,
          39,
          54,
          48,
          42,
          39,
          49,
          60,
          39,
          58,
          40,
          62,
          40,
          68,
          62,
          34,
          68,
          65,
          43,
          47,
          56,
          36,
          68,
          59,
          59,
          57,
          49,
          64,
          62,
          55,
          34,
          51,
          50,
          66,
          69,
          66,
          42,
          39,
          38,
          34,
          54,
          63,
          59,
          36,
          47,
          49,
          60,
          45,
          45,
          58,
          41,
          44,
          36,
          48,
          33,
          64,
          44,
          60,
          43,
          47,
          71,
          67,
          40,
          69,
          63,
          39,
          37,
          53,
          58,
          48,
          42,
          61,
          45,
          55,
          51,
          26,
          54,
          60,
          27,
          50,
          37,
          49,
          32,
          49,
          44,
          59,
          44,
          33,
          52,
          44,
          54,
          46,
          29,
          30,
          57,
          37,
          45,
          37,
          30,
          71,
          68,
          52,
          34,
          44,
          77,
          75,
          56,
          58,
          66,
          67,
          45,
          46,
          50,
          41,
          55,
          65,
          40,
          61,
          64,
          39,
          47,
          75,
          59,
          36,
          38,
          40,
          58,
          39,
          42,
          68,
          39,
          59,
          57,
          67,
          63,
          52,
          36,
          61,
          58,
          65,
          63,
          61,
          64,
          59,
          32,
          53,
          36,
          39,
          44,
          75,
          56,
          45,
          48,
          38,
          58,
          48,
          54,
          68,
          47,
          59,
          47,
          68,
          60,
          64,
          64,
          60,
          51,
          61,
          70,
          57,
          57,
          73,
          64,
          44,
          37,
          61,
          45,
          73,
          46,
          54,
          62,
          34,
          54,
          42,
          36,
          36,
          25,
          62,
          67,
          54,
          42,
          37,
          47,
          69,
          41,
          64,
          44,
          67,
          39,
          66,
          32,
          40,
          34,
          76,
          66,
          52,
          41,
          50,
          80,
          62,
          43,
          72,
          52,
          59,
          35,
          47,
          34,
          48,
          54,
          42,
          66,
          48,
          52,
          42,
          47,
          50,
          53,
          57,
          30,
          49,
          43,
          66,
          41,
          45,
          29,
          41,
          42,
          85,
          62,
          63,
          57,
          56,
          61,
          43,
          61,
          58,
          52,
          55,
          41,
          40,
          69,
          58,
          33,
          45,
          39,
          50,
          58,
          73,
          71,
          66,
          60,
          44,
          44,
          44,
          54,
          59,
          49,
          59,
          69,
          64,
          58,
          58,
          47,
          40,
          66,
          38,
          50,
          68,
          65,
          56,
          76,
          60,
          73,
          40,
          58,
          33,
          44,
          41,
          38,
          58,
          36,
          70,
          30,
          63,
          48,
          67,
          39,
          55,
          35,
          60,
          57,
          48,
          56,
          62,
          61,
          61,
          43,
          53,
          36,
          55,
          51,
          61,
          55,
          43,
          41,
          50,
          63,
          68,
          48,
          61,
          68,
          73,
          65,
          37,
          77,
          51,
          58,
          51,
          57,
          53,
          60,
          50,
          59,
          51,
          54,
          58,
          39,
          46,
          45,
          59,
          58,
          56,
          33,
          35,
          56,
          44,
          71,
          33,
          29,
          46,
          52,
          56,
          49,
          57,
          71,
          39,
          62,
          65,
          36,
          64,
          55,
          43,
          35,
          44,
          62,
          67,
          41,
          46,
          62,
          64,
          48,
          65,
          66,
          57,
          58,
          36,
          43
         ],
         "y0": " ",
         "yaxis": "y"
        },
        {
         "alignmentgroup": "True",
         "box": {
          "visible": false
         },
         "customdata": [
          [
           "Adriana Ventura"
          ],
          [
           "Alê Silva"
          ],
          [
           "Alice Portugal"
          ],
          [
           "Aline Gurgel"
          ],
          [
           "Aline Sleutjes"
          ],
          [
           "Angela Amin"
          ],
          [
           "Áurea Carolina"
          ],
          [
           "Benedita da Silva"
          ],
          [
           "Bia Cavassa"
          ],
          [
           "Bia Kicis"
          ],
          [
           "Bruna Furlan"
          ],
          [
           "Carla Dickson"
          ],
          [
           "Carla Zambelli"
          ],
          [
           "Carmen Zanotto"
          ],
          [
           "Caroline de Toni"
          ],
          [
           "Celina Leão"
          ],
          [
           "Chris Tonietto"
          ],
          [
           "Christiane de Souza Yared"
          ],
          [
           "Clarissa Garotinho"
          ],
          [
           "Daniela do Waguinho"
          ],
          [
           "Dra. Soraya Manato"
          ],
          [
           "Dra. Vanda Milani"
          ],
          [
           "Dulce Miranda"
          ],
          [
           "Edna Henrique"
          ],
          [
           "Elcione Barbalho"
          ],
          [
           "Erika Kokay"
          ],
          [
           "Fernanda Melchionna"
          ],
          [
           "Flávia Morais"
          ],
          [
           "Geovania de Sá"
          ],
          [
           "Gleisi Hoffmann"
          ],
          [
           "Greyce Elias"
          ],
          [
           "Iracema Portella"
          ],
          [
           "Jandira Feghali"
          ],
          [
           "Jaqueline Cassol"
          ],
          [
           "Jéssica Sales"
          ],
          [
           "Joenia Wapichana"
          ],
          [
           "Joice Hasselmann"
          ],
          [
           "Lauriete"
          ],
          [
           "Leandre"
          ],
          [
           "Leda Sadala"
          ],
          [
           "Lídice da Mata"
          ],
          [
           "Liziane Bayer"
          ],
          [
           "Luisa Canziani"
          ],
          [
           "Luiza Erundina"
          ],
          [
           "Luizianne Lins"
          ],
          [
           "Magda Mofatto"
          ],
          [
           "Major Fabiana"
          ],
          [
           "Mara Rocha"
          ],
          [
           "Margarete Coelho"
          ],
          [
           "Maria do Rosário"
          ],
          [
           "Maria Rosas"
          ],
          [
           "Mariana Carvalho"
          ],
          [
           "Marília Arraes"
          ],
          [
           "Marina Santos"
          ],
          [
           "Natália Bonavides"
          ],
          [
           "Norma Ayub"
          ],
          [
           "Paula Belmonte"
          ],
          [
           "Perpétua Almeida"
          ],
          [
           "Policial Katia Sastre"
          ],
          [
           "Professora Dayane Pimentel"
          ],
          [
           "Professora Dorinha Seabra Rezende"
          ],
          [
           "Professora Marcivania"
          ],
          [
           "Professora Rosa Neide"
          ],
          [
           "Rejane Dias"
          ],
          [
           "Renata Abreu"
          ],
          [
           "Rosana Valle"
          ],
          [
           "Rosangela Gomes"
          ],
          [
           "Rose Modesto"
          ],
          [
           "Sâmia Bomfim"
          ],
          [
           "Shéridan"
          ],
          [
           "Silvia Cristina"
          ],
          [
           "Soraya Santos"
          ],
          [
           "Tabata Amaral"
          ],
          [
           "Talíria Petrone"
          ],
          [
           "Tereza Nelma"
          ],
          [
           "Tia Eron"
          ],
          [
           "Vivi Reis"
          ]
         ],
         "hovertemplate": "sexo=%{x}<br>age=%{y}<br>nome=%{customdata[0]}<extra></extra>",
         "legendgroup": "F",
         "marker": {
          "color": "#EF553B"
         },
         "name": "F",
         "offsetgroup": "F",
         "orientation": "v",
         "points": "all",
         "scalegroup": "True",
         "showlegend": true,
         "type": "violin",
         "x": [
          "F",
          "F",
          "F",
          "F",
          "F",
          "F",
          "F",
          "F",
          "F",
          "F",
          "F",
          "F",
          "F",
          "F",
          "F",
          "F",
          "F",
          "F",
          "F",
          "F",
          "F",
          "F",
          "F",
          "F",
          "F",
          "F",
          "F",
          "F",
          "F",
          "F",
          "F",
          "F",
          "F",
          "F",
          "F",
          "F",
          "F",
          "F",
          "F",
          "F",
          "F",
          "F",
          "F",
          "F",
          "F",
          "F",
          "F",
          "F",
          "F",
          "F",
          "F",
          "F",
          "F",
          "F",
          "F",
          "F",
          "F",
          "F",
          "F",
          "F",
          "F",
          "F",
          "F",
          "F",
          "F",
          "F",
          "F",
          "F",
          "F",
          "F",
          "F",
          "F",
          "F",
          "F",
          "F",
          "F",
          "F"
         ],
         "x0": " ",
         "xaxis": "x",
         "y": [
          52,
          47,
          62,
          40,
          42,
          67,
          37,
          79,
          52,
          60,
          38,
          45,
          41,
          58,
          35,
          44,
          30,
          61,
          39,
          45,
          60,
          68,
          57,
          63,
          76,
          64,
          37,
          52,
          49,
          56,
          39,
          55,
          64,
          46,
          40,
          48,
          43,
          51,
          45,
          55,
          65,
          40,
          25,
          86,
          52,
          72,
          41,
          48,
          60,
          54,
          55,
          34,
          37,
          41,
          33,
          62,
          48,
          56,
          45,
          35,
          56,
          48,
          58,
          49,
          39,
          52,
          54,
          43,
          32,
          37,
          47,
          62,
          27,
          36,
          63,
          49,
          30
         ],
         "y0": " ",
         "yaxis": "y"
        }
       ],
       "layout": {
        "height": 700,
        "legend": {
         "title": {
          "text": "sexo"
         },
         "tracegroupgap": 0
        },
        "margin": {
         "t": 60
        },
        "paper_bgcolor": "LightSteelBlue",
        "template": {
         "data": {
          "bar": [
           {
            "error_x": {
             "color": "#2a3f5f"
            },
            "error_y": {
             "color": "#2a3f5f"
            },
            "marker": {
             "line": {
              "color": "#E5ECF6",
              "width": 0.5
             },
             "pattern": {
              "fillmode": "overlay",
              "size": 10,
              "solidity": 0.2
             }
            },
            "type": "bar"
           }
          ],
          "barpolar": [
           {
            "marker": {
             "line": {
              "color": "#E5ECF6",
              "width": 0.5
             },
             "pattern": {
              "fillmode": "overlay",
              "size": 10,
              "solidity": 0.2
             }
            },
            "type": "barpolar"
           }
          ],
          "carpet": [
           {
            "aaxis": {
             "endlinecolor": "#2a3f5f",
             "gridcolor": "white",
             "linecolor": "white",
             "minorgridcolor": "white",
             "startlinecolor": "#2a3f5f"
            },
            "baxis": {
             "endlinecolor": "#2a3f5f",
             "gridcolor": "white",
             "linecolor": "white",
             "minorgridcolor": "white",
             "startlinecolor": "#2a3f5f"
            },
            "type": "carpet"
           }
          ],
          "choropleth": [
           {
            "colorbar": {
             "outlinewidth": 0,
             "ticks": ""
            },
            "type": "choropleth"
           }
          ],
          "contour": [
           {
            "colorbar": {
             "outlinewidth": 0,
             "ticks": ""
            },
            "colorscale": [
             [
              0,
              "#0d0887"
             ],
             [
              0.1111111111111111,
              "#46039f"
             ],
             [
              0.2222222222222222,
              "#7201a8"
             ],
             [
              0.3333333333333333,
              "#9c179e"
             ],
             [
              0.4444444444444444,
              "#bd3786"
             ],
             [
              0.5555555555555556,
              "#d8576b"
             ],
             [
              0.6666666666666666,
              "#ed7953"
             ],
             [
              0.7777777777777778,
              "#fb9f3a"
             ],
             [
              0.8888888888888888,
              "#fdca26"
             ],
             [
              1,
              "#f0f921"
             ]
            ],
            "type": "contour"
           }
          ],
          "contourcarpet": [
           {
            "colorbar": {
             "outlinewidth": 0,
             "ticks": ""
            },
            "type": "contourcarpet"
           }
          ],
          "heatmap": [
           {
            "colorbar": {
             "outlinewidth": 0,
             "ticks": ""
            },
            "colorscale": [
             [
              0,
              "#0d0887"
             ],
             [
              0.1111111111111111,
              "#46039f"
             ],
             [
              0.2222222222222222,
              "#7201a8"
             ],
             [
              0.3333333333333333,
              "#9c179e"
             ],
             [
              0.4444444444444444,
              "#bd3786"
             ],
             [
              0.5555555555555556,
              "#d8576b"
             ],
             [
              0.6666666666666666,
              "#ed7953"
             ],
             [
              0.7777777777777778,
              "#fb9f3a"
             ],
             [
              0.8888888888888888,
              "#fdca26"
             ],
             [
              1,
              "#f0f921"
             ]
            ],
            "type": "heatmap"
           }
          ],
          "heatmapgl": [
           {
            "colorbar": {
             "outlinewidth": 0,
             "ticks": ""
            },
            "colorscale": [
             [
              0,
              "#0d0887"
             ],
             [
              0.1111111111111111,
              "#46039f"
             ],
             [
              0.2222222222222222,
              "#7201a8"
             ],
             [
              0.3333333333333333,
              "#9c179e"
             ],
             [
              0.4444444444444444,
              "#bd3786"
             ],
             [
              0.5555555555555556,
              "#d8576b"
             ],
             [
              0.6666666666666666,
              "#ed7953"
             ],
             [
              0.7777777777777778,
              "#fb9f3a"
             ],
             [
              0.8888888888888888,
              "#fdca26"
             ],
             [
              1,
              "#f0f921"
             ]
            ],
            "type": "heatmapgl"
           }
          ],
          "histogram": [
           {
            "marker": {
             "pattern": {
              "fillmode": "overlay",
              "size": 10,
              "solidity": 0.2
             }
            },
            "type": "histogram"
           }
          ],
          "histogram2d": [
           {
            "colorbar": {
             "outlinewidth": 0,
             "ticks": ""
            },
            "colorscale": [
             [
              0,
              "#0d0887"
             ],
             [
              0.1111111111111111,
              "#46039f"
             ],
             [
              0.2222222222222222,
              "#7201a8"
             ],
             [
              0.3333333333333333,
              "#9c179e"
             ],
             [
              0.4444444444444444,
              "#bd3786"
             ],
             [
              0.5555555555555556,
              "#d8576b"
             ],
             [
              0.6666666666666666,
              "#ed7953"
             ],
             [
              0.7777777777777778,
              "#fb9f3a"
             ],
             [
              0.8888888888888888,
              "#fdca26"
             ],
             [
              1,
              "#f0f921"
             ]
            ],
            "type": "histogram2d"
           }
          ],
          "histogram2dcontour": [
           {
            "colorbar": {
             "outlinewidth": 0,
             "ticks": ""
            },
            "colorscale": [
             [
              0,
              "#0d0887"
             ],
             [
              0.1111111111111111,
              "#46039f"
             ],
             [
              0.2222222222222222,
              "#7201a8"
             ],
             [
              0.3333333333333333,
              "#9c179e"
             ],
             [
              0.4444444444444444,
              "#bd3786"
             ],
             [
              0.5555555555555556,
              "#d8576b"
             ],
             [
              0.6666666666666666,
              "#ed7953"
             ],
             [
              0.7777777777777778,
              "#fb9f3a"
             ],
             [
              0.8888888888888888,
              "#fdca26"
             ],
             [
              1,
              "#f0f921"
             ]
            ],
            "type": "histogram2dcontour"
           }
          ],
          "mesh3d": [
           {
            "colorbar": {
             "outlinewidth": 0,
             "ticks": ""
            },
            "type": "mesh3d"
           }
          ],
          "parcoords": [
           {
            "line": {
             "colorbar": {
              "outlinewidth": 0,
              "ticks": ""
             }
            },
            "type": "parcoords"
           }
          ],
          "pie": [
           {
            "automargin": true,
            "type": "pie"
           }
          ],
          "scatter": [
           {
            "marker": {
             "colorbar": {
              "outlinewidth": 0,
              "ticks": ""
             }
            },
            "type": "scatter"
           }
          ],
          "scatter3d": [
           {
            "line": {
             "colorbar": {
              "outlinewidth": 0,
              "ticks": ""
             }
            },
            "marker": {
             "colorbar": {
              "outlinewidth": 0,
              "ticks": ""
             }
            },
            "type": "scatter3d"
           }
          ],
          "scattercarpet": [
           {
            "marker": {
             "colorbar": {
              "outlinewidth": 0,
              "ticks": ""
             }
            },
            "type": "scattercarpet"
           }
          ],
          "scattergeo": [
           {
            "marker": {
             "colorbar": {
              "outlinewidth": 0,
              "ticks": ""
             }
            },
            "type": "scattergeo"
           }
          ],
          "scattergl": [
           {
            "marker": {
             "colorbar": {
              "outlinewidth": 0,
              "ticks": ""
             }
            },
            "type": "scattergl"
           }
          ],
          "scattermapbox": [
           {
            "marker": {
             "colorbar": {
              "outlinewidth": 0,
              "ticks": ""
             }
            },
            "type": "scattermapbox"
           }
          ],
          "scatterpolar": [
           {
            "marker": {
             "colorbar": {
              "outlinewidth": 0,
              "ticks": ""
             }
            },
            "type": "scatterpolar"
           }
          ],
          "scatterpolargl": [
           {
            "marker": {
             "colorbar": {
              "outlinewidth": 0,
              "ticks": ""
             }
            },
            "type": "scatterpolargl"
           }
          ],
          "scatterternary": [
           {
            "marker": {
             "colorbar": {
              "outlinewidth": 0,
              "ticks": ""
             }
            },
            "type": "scatterternary"
           }
          ],
          "surface": [
           {
            "colorbar": {
             "outlinewidth": 0,
             "ticks": ""
            },
            "colorscale": [
             [
              0,
              "#0d0887"
             ],
             [
              0.1111111111111111,
              "#46039f"
             ],
             [
              0.2222222222222222,
              "#7201a8"
             ],
             [
              0.3333333333333333,
              "#9c179e"
             ],
             [
              0.4444444444444444,
              "#bd3786"
             ],
             [
              0.5555555555555556,
              "#d8576b"
             ],
             [
              0.6666666666666666,
              "#ed7953"
             ],
             [
              0.7777777777777778,
              "#fb9f3a"
             ],
             [
              0.8888888888888888,
              "#fdca26"
             ],
             [
              1,
              "#f0f921"
             ]
            ],
            "type": "surface"
           }
          ],
          "table": [
           {
            "cells": {
             "fill": {
              "color": "#EBF0F8"
             },
             "line": {
              "color": "white"
             }
            },
            "header": {
             "fill": {
              "color": "#C8D4E3"
             },
             "line": {
              "color": "white"
             }
            },
            "type": "table"
           }
          ]
         },
         "layout": {
          "annotationdefaults": {
           "arrowcolor": "#2a3f5f",
           "arrowhead": 0,
           "arrowwidth": 1
          },
          "autotypenumbers": "strict",
          "coloraxis": {
           "colorbar": {
            "outlinewidth": 0,
            "ticks": ""
           }
          },
          "colorscale": {
           "diverging": [
            [
             0,
             "#8e0152"
            ],
            [
             0.1,
             "#c51b7d"
            ],
            [
             0.2,
             "#de77ae"
            ],
            [
             0.3,
             "#f1b6da"
            ],
            [
             0.4,
             "#fde0ef"
            ],
            [
             0.5,
             "#f7f7f7"
            ],
            [
             0.6,
             "#e6f5d0"
            ],
            [
             0.7,
             "#b8e186"
            ],
            [
             0.8,
             "#7fbc41"
            ],
            [
             0.9,
             "#4d9221"
            ],
            [
             1,
             "#276419"
            ]
           ],
           "sequential": [
            [
             0,
             "#0d0887"
            ],
            [
             0.1111111111111111,
             "#46039f"
            ],
            [
             0.2222222222222222,
             "#7201a8"
            ],
            [
             0.3333333333333333,
             "#9c179e"
            ],
            [
             0.4444444444444444,
             "#bd3786"
            ],
            [
             0.5555555555555556,
             "#d8576b"
            ],
            [
             0.6666666666666666,
             "#ed7953"
            ],
            [
             0.7777777777777778,
             "#fb9f3a"
            ],
            [
             0.8888888888888888,
             "#fdca26"
            ],
            [
             1,
             "#f0f921"
            ]
           ],
           "sequentialminus": [
            [
             0,
             "#0d0887"
            ],
            [
             0.1111111111111111,
             "#46039f"
            ],
            [
             0.2222222222222222,
             "#7201a8"
            ],
            [
             0.3333333333333333,
             "#9c179e"
            ],
            [
             0.4444444444444444,
             "#bd3786"
            ],
            [
             0.5555555555555556,
             "#d8576b"
            ],
            [
             0.6666666666666666,
             "#ed7953"
            ],
            [
             0.7777777777777778,
             "#fb9f3a"
            ],
            [
             0.8888888888888888,
             "#fdca26"
            ],
            [
             1,
             "#f0f921"
            ]
           ]
          },
          "colorway": [
           "#636efa",
           "#EF553B",
           "#00cc96",
           "#ab63fa",
           "#FFA15A",
           "#19d3f3",
           "#FF6692",
           "#B6E880",
           "#FF97FF",
           "#FECB52"
          ],
          "font": {
           "color": "#2a3f5f"
          },
          "geo": {
           "bgcolor": "white",
           "lakecolor": "white",
           "landcolor": "#E5ECF6",
           "showlakes": true,
           "showland": true,
           "subunitcolor": "white"
          },
          "hoverlabel": {
           "align": "left"
          },
          "hovermode": "closest",
          "mapbox": {
           "style": "light"
          },
          "paper_bgcolor": "white",
          "plot_bgcolor": "#E5ECF6",
          "polar": {
           "angularaxis": {
            "gridcolor": "white",
            "linecolor": "white",
            "ticks": ""
           },
           "bgcolor": "#E5ECF6",
           "radialaxis": {
            "gridcolor": "white",
            "linecolor": "white",
            "ticks": ""
           }
          },
          "scene": {
           "xaxis": {
            "backgroundcolor": "#E5ECF6",
            "gridcolor": "white",
            "gridwidth": 2,
            "linecolor": "white",
            "showbackground": true,
            "ticks": "",
            "zerolinecolor": "white"
           },
           "yaxis": {
            "backgroundcolor": "#E5ECF6",
            "gridcolor": "white",
            "gridwidth": 2,
            "linecolor": "white",
            "showbackground": true,
            "ticks": "",
            "zerolinecolor": "white"
           },
           "zaxis": {
            "backgroundcolor": "#E5ECF6",
            "gridcolor": "white",
            "gridwidth": 2,
            "linecolor": "white",
            "showbackground": true,
            "ticks": "",
            "zerolinecolor": "white"
           }
          },
          "shapedefaults": {
           "line": {
            "color": "#2a3f5f"
           }
          },
          "ternary": {
           "aaxis": {
            "gridcolor": "white",
            "linecolor": "white",
            "ticks": ""
           },
           "baxis": {
            "gridcolor": "white",
            "linecolor": "white",
            "ticks": ""
           },
           "bgcolor": "#E5ECF6",
           "caxis": {
            "gridcolor": "white",
            "linecolor": "white",
            "ticks": ""
           }
          },
          "title": {
           "x": 0.05
          },
          "xaxis": {
           "automargin": true,
           "gridcolor": "white",
           "linecolor": "white",
           "ticks": "",
           "title": {
            "standoff": 15
           },
           "zerolinecolor": "white",
           "zerolinewidth": 2
          },
          "yaxis": {
           "automargin": true,
           "gridcolor": "white",
           "linecolor": "white",
           "ticks": "",
           "title": {
            "standoff": 15
           },
           "zerolinecolor": "white",
           "zerolinewidth": 2
          }
         }
        },
        "violinmode": "overlay",
        "width": 900,
        "xaxis": {
         "anchor": "y",
         "autorange": true,
         "categoryarray": [
          "M",
          "F"
         ],
         "categoryorder": "array",
         "domain": [
          0,
          1
         ],
         "range": [
          -0.5081967213114754,
          1.5
         ],
         "title": {
          "text": "sexo"
         },
         "type": "category"
        },
        "yaxis": {
         "anchor": "x",
         "autorange": true,
         "domain": [
          0,
          1
         ],
         "range": [
          9.384298161668669,
          101.61570183833133
         ],
         "title": {
          "text": "age"
         },
         "type": "linear"
        }
       }
      },
      "image/png": "[encoded data removed]",
      "text/html": [
       "<div>                            <div id=\"122ffd3a-2ba4-4443-b610-56abe9252abd\" class=\"plotly-graph-div\" style=\"height:700px; width:900px;\"></div>            <script type=\"text/javascript\">                require([\"plotly\"], function(Plotly) {                    window.PLOTLYENV=window.PLOTLYENV || {};                                    if (document.getElementById(\"122ffd3a-2ba4-4443-b610-56abe9252abd\")) {                    Plotly.newPlot(                        \"122ffd3a-2ba4-4443-b610-56abe9252abd\",                        [{\"alignmentgroup\":\"True\",\"box\":{\"visible\":false},\"customdata\":[[\"Ab\\u00edlio Santana\"],[\"Abou Anni\"],[\"Ac\\u00e1cio Favacho\"],[\"Adolfo Viana\"],[\"Adriano do Baldy\"],[\"A\\u00e9cio Neves\"],[\"Aelton Freitas\"],[\"Afonso Florence\"],[\"Afonso Hamm\"],[\"Afonso Motta\"],[\"Aguinaldo Ribeiro\"],[\"Airton Faleiro\"],[\"AJ Albuquerque\"],[\"Alan Rick\"],[\"Alceu Moreira\"],[\"Alcides Rodrigues\"],[\"Alencar Santana Braga\"],[\"Alessandro Molon\"],[\"Alex Manente\"],[\"Alex Santana\"],[\"Alexandre Frota\"],[\"Alexandre Leite\"],[\"Alexandre Padilha\"],[\"Alexis Fonteyne\"],[\"Aliel Machado\"],[\"Altineu C\\u00f4rtes\"],[\"Aluisio Mendes\"],[\"Amaro Neto\"],[\"Andr\\u00e9 Abdon\"],[\"Andr\\u00e9 de Paula\"],[\"Andr\\u00e9 Ferreira\"],[\"Andr\\u00e9 Figueiredo\"],[\"Andr\\u00e9 Fufuca\"],[\"Andr\\u00e9 Janones\"],[\"An\\u00edbal Gomes\"],[\"Antonio Brito\"],[\"Arlindo Chinaglia\"],[\"Arnaldo Jardim\"],[\"Aroldo Martins\"],[\"Arthur Lira\"],[\"Arthur Oliveira Maia\"],[\"\\u00c1tila Lins\"],[\"\\u00c1tila Lira\"],[\"Augusto Coutinho\"],[\"Aureo Ribeiro\"],[\"Bacelar\"],[\"Baleia Rossi\"],[\"Benes Leoc\\u00e1dio\"],[\"Beto Faro\"],[\"Beto Pereira\"],[\"Beto Rosado\"],[\"Bibo Nunes\"],[\"Bilac Pinto\"],[\"Bira do Pindar\\u00e9\"],[\"Bohn Gass\"],[\"Bosco Costa\"],[\"Bosco Saraiva\"],[\"Bozzella\"],[\"Cac\\u00e1 Le\\u00e3o\"],[\"Camilo Capiberibe\"],[\"Capit\\u00e3o Alberto Neto\"],[\"Capit\\u00e3o Augusto\"],[\"Capit\\u00e3o F\\u00e1bio Abreu\"],[\"Capit\\u00e3o Wagner\"],[\"Carlos Chiodini\"],[\"Carlos Gomes\"],[\"Carlos Henrique Gaguim\"],[\"Carlos Jordy\"],[\"Carlos Sampaio\"],[\"Carlos Veras\"],[\"Carlos Zarattini\"],[\"C\\u00e1ssio Andrade\"],[\"C\\u00e9lio Moura\"],[\"C\\u00e9lio Silveira\"],[\"C\\u00e9lio Studart\"],[\"Celso Maldaner\"],[\"Celso Russomanno\"],[\"Celso Sabino\"],[\"Cezinha de Madureira\"],[\"Charles Fernandes\"],[\"Charlles Evangelista\"],[\"Chico D'Angelo\"],[\"Chiquinho Braz\\u00e3o\"],[\"Christino Aureo\"],[\"Claudio Cajado\"],[\"Cleber Verde\"],[\"Coronel Armando\"],[\"Coronel Chris\\u00f3stomo\"],[\"Coronel Tadeu\"],[\"Covatti Filho\"],[\"Cristiano Vale\"],[\"Da Vitoria\"],[\"Dagoberto Nogueira\"],[\"Dami\\u00e3o Feliciano\"],[\"Daniel Almeida\"],[\"Daniel Coelho\"],[\"Daniel Freitas\"],[\"Daniel Silveira\"],[\"Daniel Trzeciak\"],[\"Danilo Cabral\"],[\"Danilo Forte\"],[\"Darci de Matos\"],[\"David Miranda\"],[\"David Soares\"],[\"Delegado Ant\\u00f4nio Furtado\"],[\"Delegado \\u00c9der Mauro\"],[\"Delegado Marcelo Freitas\"],[\"Delegado Pablo\"],[\"Delegado Waldir\"],[\"Denis Bezerra\"],[\"Diego Andrade\"],[\"Diego Garcia\"],[\"Dimas Fabiano\"],[\"Domingos Neto\"],[\"Domingos S\\u00e1vio\"],[\"Dr. Frederico\"],[\"Dr. Jaziel\"],[\"Dr. Leonardo\"],[\"Dr. Luiz Antonio Teixeira Jr.\"],[\"Dr. Luiz Ovando\"],[\"Dr. Zacharias Calil\"],[\"Edil\\u00e1zio J\\u00fanior\"],[\"Edio Lopes\"],[\"Eduardo Barbosa\"],[\"Eduardo Bismarck\"],[\"Eduardo Bolsonaro\"],[\"Eduardo Costa\"],[\"Eduardo Cury\"],[\"Eduardo da Fonte\"],[\"Efraim Filho\"],[\"Eli Borges\"],[\"Eli Corr\\u00eaa Filho\"],[\"Elias Vaz\"],[\"Elmar Nascimento\"],[\"Emanuel Pinheiro Neto\"],[\"Emidinho Madeira\"],[\"Enio Verri\"],[\"Enrico Misasi\"],[\"Eros Biondini\"],[\"Euclydes Pettersen\"],[\"Evair Vieira de Melo\"],[\"Expedito Netto\"],[\"F\\u00e1bio Henrique\"],[\"F\\u00e1bio Mitidieri\"],[\"F\\u00e1bio Ramalho\"],[\"Fabio Reis\"],[\"Fabio Schiochet\"],[\"F\\u00e1bio Trad\"],[\"Fausto Pinato\"],[\"Fel\\u00edcio Later\\u00e7a\"],[\"Felipe Carreras\"],[\"Felipe Francischini\"],[\"Felipe Rigoni\"],[\"F\\u00e9lix Mendon\\u00e7a J\\u00fanior\"],[\"Fernando Coelho Filho\"],[\"Fernando Monteiro\"],[\"Fernando Rodolfo\"],[\"Filipe Barros\"],[\"Flaviano Melo\"],[\"Fl\\u00e1vio Nogueira\"],[\"Francisco Jr.\"],[\"Franco Cartafina\"],[\"Fred Costa\"],[\"Frei Anastacio Ribeiro\"],[\"Gast\\u00e3o Vieira\"],[\"Gelson Azevedo\"],[\"Genecias Noronha\"],[\"General Gir\\u00e3o\"],[\"General Peternelli\"],[\"Geninho Zuliani\"],[\"Gerv\\u00e1sio Maia\"],[\"Giacobo\"],[\"Gil Cutrim\"],[\"Gilberto Abramo\"],[\"Gilberto Nascimento\"],[\"Gilson Marques\"],[\"Giovani Cherini\"],[\"Giovani Feltes\"],[\"Glauber Braga\"],[\"Glaustin da Fokus\"],[\"Gonzaga Patriota\"],[\"Guiga Peixoto\"],[\"Guilherme Derrite\"],[\"Guilherme Mussi\"],[\"Gurgel\"],[\"Gustavo Fruet\"],[\"Gustinho Ribeiro\"],[\"Gutemberg Reis\"],[\"Haroldo Cathedral\"],[\"Heitor Freire\"],[\"Heitor Schuch\"],[\"Helder Salom\\u00e3o\"],[\"H\\u00e9lio Costa\"],[\"H\\u00e9lio Leite\"],[\"Helio Lopes\"],[\"Henrique do Para\\u00edso\"],[\"Henrique Fontana\"],[\"Herc\\u00edlio Coelho Diniz\"],[\"Herculano Passos\"],[\"Hermes Parcianello\"],[\"Hildo Rocha\"],[\"Hiran Gon\\u00e7alves\"],[\"Hugo Leal\"],[\"Hugo Motta\"],[\"Idilvan Alencar\"],[\"Igor Kann\\u00e1rio\"],[\"Igor Timo\"],[\"Isnaldo Bulh\\u00f5es Jr.\"],[\"Ivan Valente\"],[\"Jefferson Campos\"],[\"Jer\\u00f4nimo Goergen\"],[\"Jesus S\\u00e9rgio\"],[\"Jhonatan de Jesus\"],[\"Jo\\u00e3o Campos\"],[\"Jo\\u00e3o Carlos Bacelar\"],[\"Jo\\u00e3o Daniel\"],[\"Jo\\u00e3o Maia\"],[\"Jo\\u00e3o Marcelo Souza\"],[\"Joaquim Passarinho\"],[\"Jones Moura\"],[\"Jorge Braz\"],[\"Jorge Solla\"],[\"Jos\\u00e9 Airton F\\u00e9lix Cirilo\"],[\"Jos\\u00e9 Guimar\\u00e3es\"],[\"Jose Mario Schreiner\"],[\"Jos\\u00e9 Medeiros\"],[\"Jos\\u00e9 Nelto\"],[\"Jos\\u00e9 Nunes\"],[\"Jos\\u00e9 Priante\"],[\"Jos\\u00e9 Ricardo\"],[\"Jos\\u00e9 Rocha\"],[\"Joseildo Ramos\"],[\"Josimar Maranh\\u00e3ozinho\"],[\"Josivaldo JP\"],[\"Juarez Costa\"],[\"Julian Lemos\"],[\"J\\u00falio Cesar\"],[\"Julio Cesar Ribeiro\"],[\"J\\u00falio Delgado\"],[\"Julio Lopes\"],[\"Junio Amaral\"],[\"J\\u00fanior Ferrari\"],[\"Junior Louren\\u00e7o\"],[\"J\\u00fanior Mano\"],[\"Juscelino Filho\"],[\"Kim Kataguiri\"],[\"Laercio Oliveira\"],[\"Laerte Bessa\"],[\"Lafayette de Andrada\"],[\"LEO DE BRITO\"],[\"L\\u00e9o Moraes\"],[\"L\\u00e9o Motta\"],[\"Leonardo Monteiro\"],[\"Leonardo Picciani\"],[\"Le\\u00f4nidas Cristino\"],[\"Leur Lomanto J\\u00fanior\"],[\"Lincoln Portela\"],[\"Loester Trutis\"],[\"Lourival Gomes\"],[\"Lucas Gonzalez\"],[\"Lucas Redecker\"],[\"Lucas Vergilio\"],[\"Luciano Bivar\"],[\"Luciano Ducci\"],[\"Lucio Mosquini\"],[\"Luis Miranda\"],[\"Luis Tib\\u00e9\"],[\"Luiz Ant\\u00f4nio Corr\\u00eaa\"],[\"Luiz Carlos Motta\"],[\"Luiz Lima\"],[\"Luiz Nishimori\"],[\"Luiz Philippe de Orleans e Bragan\\u00e7a\"],[\"Luiz\\u00e3o Goulart\"],[\"Marcel van Hattem\"],[\"Marcelo \\u00c1lvaro Ant\\u00f4nio\"],[\"Marcelo Aro\"],[\"Marcelo Brum\"],[\"Marcelo Freixo\"],[\"Marcelo Moraes\"],[\"Marcelo Nilo\"],[\"Marcelo Ramos\"],[\"Marcio Alvino\"],[\"M\\u00e1rcio Biolchi\"],[\"M\\u00e1rcio Labre\"],[\"M\\u00e1rcio Marinho\"],[\"Marco Bertaiolli\"],[\"Marcon\"],[\"Marcos Aur\\u00e9lio Sampaio\"],[\"Marcos Pereira\"],[\"Marcos Soares\"],[\"M\\u00e1rio Heringer\"],[\"M\\u00e1rio Negromonte Jr.\"],[\"Marlon Santos\"],[\"Marreca Filho\"],[\"Marx Beltr\\u00e3o\"],[\"Maur\\u00edcio Dziedricki\"],[\"Mauro Lopes\"],[\"Mauro Nazif\"],[\"Merlong Solano\"],[\"Miguel Lombardi\"],[\"Milton Coelho\"],[\"Misael Varella\"],[\"Moses Rodrigues\"],[\"Nelson Barbudo\"],[\"Nereu Crispim\"],[\"Neri Geller\"],[\"Neucimar Fraga\"],[\"Newton Cardoso Jr\"],[\"Nicoletti\"],[\"Nilson Pinto\"],[\"Nilto Tatto\"],[\"Nivaldo Albuquerque\"],[\"Odair Cunha\"],[\"Olival Marques\"],[\"Orlando Silva\"],[\"Osires Damaso\"],[\"Osmar Serraglio\"],[\"Osmar Terra\"],[\"Ossesio Silva\"],[\"Otavio Leite\"],[\"Otoni de Paula\"],[\"Ottaci Nascimento\"],[\"Otto Alencar Filho\"],[\"Padre Jo\\u00e3o\"],[\"Pastor Eurico\"],[\"Pastor Gil\"],[\"Pastor Sargento Isid\\u00f3rio\"],[\"Patrus Ananias\"],[\"Paul\\u00e3o\"],[\"Paulo Abi-Ackel\"],[\"Paulo Azi\"],[\"Paulo Bengtson\"],[\"Paulo Eduardo Martins\"],[\"Paulo Freire Costa\"],[\"Paulo Ganime\"],[\"Paulo Guedes\"],[\"Paulo Magalh\\u00e3es\"],[\"Paulo Pereira da Silva\"],[\"Paulo Pimenta\"],[\"Paulo Ramos\"],[\"Paulo Teixeira\"],[\"Paulo Vicente Caleffi\"],[\"Pedro Augusto Bezerra\"],[\"Pedro Augusto Palareti\"],[\"Pedro Cunha Lima\"],[\"Pedro Dalua\"],[\"Pedro Lucas Fernandes\"],[\"Pedro Lupion\"],[\"Pedro Uczai\"],[\"Pedro Vilela\"],[\"Pedro Westphalen\"],[\"Pinheirinho\"],[\"Pompeo de Mattos\"],[\"Pr. Marco Feliciano\"],[\"Professor Alcides\"],[\"Professor Israel Batista\"],[\"Professor Joziel\"],[\"Rafael Motta\"],[\"Raimundo Costa\"],[\"Raul Henry\"],[\"Reginaldo Lopes\"],[\"Reinhold Stephanes Junior\"],[\"Renildo Calheiros\"],[\"Ricardo Barros\"],[\"Ricardo da Karol\"],[\"Ricardo Guidi\"],[\"Ricardo Izar\"],[\"Ricardo Silva\"],[\"Ricardo Teobaldo\"],[\"Rob\\u00e9rio Monteiro\"],[\"Roberto Alves\"],[\"Roberto de Lucena\"],[\"Rodrigo Agostinho\"],[\"Rodrigo Coelho\"],[\"Rodrigo de Castro\"],[\"Rog\\u00e9rio Correia\"],[\"Rog\\u00e9rio Peninha Mendon\\u00e7a\"],[\"Roman\"],[\"Ronaldo Carletto\"],[\"Rossoni\"],[\"Rubens Bueno\"],[\"Rubens Otoni\"],[\"Rubens Pereira J\\u00fanior\"],[\"Rui Falc\\u00e3o\"],[\"Ruy Carneiro\"],[\"Samuel Moreira\"],[\"Sanderson\"],[\"Sargento Fahur\"],[\"Sebasti\\u00e3o Oliveira\"],[\"S\\u00e9rgio Brito\"],[\"Sergio Souza\"],[\"Sergio Toledo\"],[\"Severino Pessoa\"],[\"Sidney Leite\"],[\"Silas C\\u00e2mara\"],[\"Silvio Costa Filho\"],[\"S\\u00f3stenes Cavalcante\"],[\"Stefano Aguiar\"],[\"Subtenente Gonzaga\"],[\"Tadeu Alencar\"],[\"Ted Conti\"],[\"Tiago Dimas\"],[\"Tiago Mitraud\"],[\"Tiririca\"],[\"Tito\"],[\"Toninho Wandscheer\"],[\"T\\u00falio Gad\\u00ealha\"],[\"Uldurico Junior\"],[\"Vaidon Oliveira\"],[\"Valdevan Noventa\"],[\"Valmir Assun\\u00e7\\u00e3o\"],[\"Valtenir Pereira\"],[\"Vander Loubet\"],[\"Vanderlei Macris\"],[\"Vav\\u00e1 Martins\"],[\"Vermelho\"],[\"Vicentinho\"],[\"Vicentinho J\\u00fanior\"],[\"Vilson da Fetaemg\"],[\"Vinicius Carvalho\"],[\"Vinicius Gurgel\"],[\"Vinicius Poit\"],[\"Vitor Hugo\"],[\"Vitor Lippi\"],[\"Waldenor Pereira\"],[\"Walter Alves\"],[\"Weliton Prado\"],[\"Wellington Roberto\"],[\"Wilson Santiago\"],[\"Wolney Queiroz\"],[\"Z\\u00e9 Augusto Nalin\"],[\"Z\\u00e9 Carlos\"],[\"Z\\u00e9 Neto\"],[\"Z\\u00e9 Silva\"],[\"Z\\u00e9 Vitor\"],[\"Zeca Dirceu\"]],\"hovertemplate\":\"sexo=%{x}<br>age=%{y}<br>nome=%{customdata[0]}<extra></extra>\",\"legendgroup\":\"M\",\"marker\":{\"color\":\"#636efa\"},\"name\":\"M\",\"offsetgroup\":\"M\",\"orientation\":\"v\",\"points\":\"all\",\"scalegroup\":\"True\",\"showlegend\":true,\"type\":\"violin\",\"x\":[\"M\",\"M\",\"M\",\"M\",\"M\",\"M\",\"M\",\"M\",\"M\",\"M\",\"M\",\"M\",\"M\",\"M\",\"M\",\"M\",\"M\",\"M\",\"M\",\"M\",\"M\",\"M\",\"M\",\"M\",\"M\",\"M\",\"M\",\"M\",\"M\",\"M\",\"M\",\"M\",\"M\",\"M\",\"M\",\"M\",\"M\",\"M\",\"M\",\"M\",\"M\",\"M\",\"M\",\"M\",\"M\",\"M\",\"M\",\"M\",\"M\",\"M\",\"M\",\"M\",\"M\",\"M\",\"M\",\"M\",\"M\",\"M\",\"M\",\"M\",\"M\",\"M\",\"M\",\"M\",\"M\",\"M\",\"M\",\"M\",\"M\",\"M\",\"M\",\"M\",\"M\",\"M\",\"M\",\"M\",\"M\",\"M\",\"M\",\"M\",\"M\",\"M\",\"M\",\"M\",\"M\",\"M\",\"M\",\"M\",\"M\",\"M\",\"M\",\"M\",\"M\",\"M\",\"M\",\"M\",\"M\",\"M\",\"M\",\"M\",\"M\",\"M\",\"M\",\"M\",\"M\",\"M\",\"M\",\"M\",\"M\",\"M\",\"M\",\"M\",\"M\",\"M\",\"M\",\"M\",\"M\",\"M\",\"M\",\"M\",\"M\",\"M\",\"M\",\"M\",\"M\",\"M\",\"M\",\"M\",\"M\",\"M\",\"M\",\"M\",\"M\",\"M\",\"M\",\"M\",\"M\",\"M\",\"M\",\"M\",\"M\",\"M\",\"M\",\"M\",\"M\",\"M\",\"M\",\"M\",\"M\",\"M\",\"M\",\"M\",\"M\",\"M\",\"M\",\"M\",\"M\",\"M\",\"M\",\"M\",\"M\",\"M\",\"M\",\"M\",\"M\",\"M\",\"M\",\"M\",\"M\",\"M\",\"M\",\"M\",\"M\",\"M\",\"M\",\"M\",\"M\",\"M\",\"M\",\"M\",\"M\",\"M\",\"M\",\"M\",\"M\",\"M\",\"M\",\"M\",\"M\",\"M\",\"M\",\"M\",\"M\",\"M\",\"M\",\"M\",\"M\",\"M\",\"M\",\"M\",\"M\",\"M\",\"M\",\"M\",\"M\",\"M\",\"M\",\"M\",\"M\",\"M\",\"M\",\"M\",\"M\",\"M\",\"M\",\"M\",\"M\",\"M\",\"M\",\"M\",\"M\",\"M\",\"M\",\"M\",\"M\",\"M\",\"M\",\"M\",\"M\",\"M\",\"M\",\"M\",\"M\",\"M\",\"M\",\"M\",\"M\",\"M\",\"M\",\"M\",\"M\",\"M\",\"M\",\"M\",\"M\",\"M\",\"M\",\"M\",\"M\",\"M\",\"M\",\"M\",\"M\",\"M\",\"M\",\"M\",\"M\",\"M\",\"M\",\"M\",\"M\",\"M\",\"M\",\"M\",\"M\",\"M\",\"M\",\"M\",\"M\",\"M\",\"M\",\"M\",\"M\",\"M\",\"M\",\"M\",\"M\",\"M\",\"M\",\"M\",\"M\",\"M\",\"M\",\"M\",\"M\",\"M\",\"M\",\"M\",\"M\",\"M\",\"M\",\"M\",\"M\",\"M\",\"M\",\"M\",\"M\",\"M\",\"M\",\"M\",\"M\",\"M\",\"M\",\"M\",\"M\",\"M\",\"M\",\"M\",\"M\",\"M\",\"M\",\"M\",\"M\",\"M\",\"M\",\"M\",\"M\",\"M\",\"M\",\"M\",\"M\",\"M\",\"M\",\"M\",\"M\",\"M\",\"M\",\"M\",\"M\",\"M\",\"M\",\"M\",\"M\",\"M\",\"M\",\"M\",\"M\",\"M\",\"M\",\"M\",\"M\",\"M\",\"M\",\"M\",\"M\",\"M\",\"M\",\"M\",\"M\",\"M\",\"M\",\"M\",\"M\",\"M\",\"M\",\"M\",\"M\",\"M\",\"M\",\"M\",\"M\",\"M\",\"M\",\"M\",\"M\",\"M\",\"M\",\"M\",\"M\",\"M\",\"M\",\"M\",\"M\",\"M\",\"M\",\"M\",\"M\",\"M\",\"M\",\"M\",\"M\",\"M\",\"M\",\"M\",\"M\",\"M\",\"M\",\"M\",\"M\",\"M\",\"M\",\"M\",\"M\",\"M\",\"M\",\"M\",\"M\",\"M\",\"M\",\"M\",\"M\",\"M\",\"M\",\"M\",\"M\",\"M\",\"M\",\"M\",\"M\",\"M\",\"M\",\"M\",\"M\",\"M\",\"M\",\"M\",\"M\",\"M\",\"M\",\"M\",\"M\",\"M\",\"M\",\"M\",\"M\",\"M\",\"M\",\"M\",\"M\",\"M\",\"M\",\"M\",\"M\",\"M\",\"M\",\"M\"],\"x0\":\" \",\"xaxis\":\"x\",\"y\":[56.0,54.0,37.0,40.0,52.0,61.0,59.0,60.0,59.0,71.0,52.0,62.0,37.0,44.0,67.0,70.0,45.0,49.0,42.0,49.0,57.0,32.0,50.0,54.0,32.0,53.0,59.0,44.0,50.0,60.0,48.0,54.0,32.0,37.0,68.0,52.0,71.0,66.0,60.0,52.0,57.0,70.0,74.0,58.0,42.0,64.0,49.0,55.0,52.0,43.0,39.0,64.0,58.0,52.0,59.0,70.0,61.0,41.0,41.0,49.0,39.0,54.0,48.0,42.0,39.0,49.0,60.0,39.0,58.0,40.0,62.0,40.0,68.0,62.0,34.0,68.0,65.0,43.0,47.0,56.0,36.0,68.0,59.0,59.0,57.0,49.0,64.0,62.0,55.0,34.0,51.0,50.0,66.0,69.0,66.0,42.0,39.0,38.0,34.0,54.0,63.0,59.0,36.0,47.0,49.0,60.0,45.0,45.0,58.0,41.0,44.0,36.0,48.0,33.0,64.0,44.0,60.0,43.0,47.0,71.0,67.0,40.0,69.0,63.0,39.0,37.0,53.0,58.0,48.0,42.0,61.0,45.0,55.0,51.0,26.0,54.0,60.0,27.0,50.0,37.0,49.0,32.0,49.0,44.0,59.0,44.0,33.0,52.0,44.0,54.0,46.0,29.0,30.0,57.0,37.0,45.0,37.0,30.0,71.0,68.0,52.0,34.0,44.0,77.0,75.0,56.0,58.0,66.0,67.0,45.0,46.0,50.0,41.0,55.0,65.0,40.0,61.0,64.0,39.0,47.0,75.0,59.0,36.0,38.0,40.0,58.0,39.0,42.0,68.0,39.0,59.0,57.0,67.0,63.0,52.0,36.0,61.0,58.0,65.0,63.0,61.0,64.0,59.0,32.0,53.0,36.0,39.0,44.0,75.0,56.0,45.0,48.0,38.0,58.0,48.0,54.0,68.0,47.0,59.0,47.0,68.0,60.0,64.0,64.0,60.0,51.0,61.0,70.0,57.0,57.0,73.0,64.0,44.0,37.0,61.0,45.0,73.0,46.0,54.0,62.0,34.0,54.0,42.0,36.0,36.0,25.0,62.0,67.0,54.0,42.0,37.0,47.0,69.0,41.0,64.0,44.0,67.0,39.0,66.0,32.0,40.0,34.0,76.0,66.0,52.0,41.0,50.0,80.0,62.0,43.0,72.0,52.0,59.0,35.0,47.0,34.0,48.0,54.0,42.0,66.0,48.0,52.0,42.0,47.0,50.0,53.0,57.0,30.0,49.0,43.0,66.0,41.0,45.0,29.0,41.0,42.0,85.0,62.0,63.0,57.0,56.0,61.0,43.0,61.0,58.0,52.0,55.0,41.0,40.0,69.0,58.0,33.0,45.0,39.0,50.0,58.0,73.0,71.0,66.0,60.0,44.0,44.0,44.0,54.0,59.0,49.0,59.0,69.0,64.0,58.0,58.0,47.0,40.0,66.0,38.0,50.0,68.0,65.0,56.0,76.0,60.0,73.0,40.0,58.0,33.0,44.0,41.0,38.0,58.0,36.0,70.0,30.0,63.0,48.0,67.0,39.0,55.0,35.0,60.0,57.0,48.0,56.0,62.0,61.0,61.0,43.0,53.0,36.0,55.0,51.0,61.0,55.0,43.0,41.0,50.0,63.0,68.0,48.0,61.0,68.0,73.0,65.0,37.0,77.0,51.0,58.0,51.0,57.0,53.0,60.0,50.0,59.0,51.0,54.0,58.0,39.0,46.0,45.0,59.0,58.0,56.0,33.0,35.0,56.0,44.0,71.0,33.0,29.0,46.0,52.0,56.0,49.0,57.0,71.0,39.0,62.0,65.0,36.0,64.0,55.0,43.0,35.0,44.0,62.0,67.0,41.0,46.0,62.0,64.0,48.0,65.0,66.0,57.0,58.0,36.0,43.0],\"y0\":\" \",\"yaxis\":\"y\"},{\"alignmentgroup\":\"True\",\"box\":{\"visible\":false},\"customdata\":[[\"Adriana Ventura\"],[\"Al\\u00ea Silva\"],[\"Alice Portugal\"],[\"Aline Gurgel\"],[\"Aline Sleutjes\"],[\"Angela Amin\"],[\"\\u00c1urea Carolina\"],[\"Benedita da Silva\"],[\"Bia Cavassa\"],[\"Bia Kicis\"],[\"Bruna Furlan\"],[\"Carla Dickson\"],[\"Carla Zambelli\"],[\"Carmen Zanotto\"],[\"Caroline de Toni\"],[\"Celina Le\\u00e3o\"],[\"Chris Tonietto\"],[\"Christiane de Souza Yared\"],[\"Clarissa Garotinho\"],[\"Daniela do Waguinho\"],[\"Dra. Soraya Manato\"],[\"Dra. Vanda Milani\"],[\"Dulce Miranda\"],[\"Edna Henrique\"],[\"Elcione Barbalho\"],[\"Erika Kokay\"],[\"Fernanda Melchionna\"],[\"Fl\\u00e1via Morais\"],[\"Geovania de S\\u00e1\"],[\"Gleisi Hoffmann\"],[\"Greyce Elias\"],[\"Iracema Portella\"],[\"Jandira Feghali\"],[\"Jaqueline Cassol\"],[\"J\\u00e9ssica Sales\"],[\"Joenia Wapichana\"],[\"Joice Hasselmann\"],[\"Lauriete\"],[\"Leandre\"],[\"Leda Sadala\"],[\"L\\u00eddice da Mata\"],[\"Liziane Bayer\"],[\"Luisa Canziani\"],[\"Luiza Erundina\"],[\"Luizianne Lins\"],[\"Magda Mofatto\"],[\"Major Fabiana\"],[\"Mara Rocha\"],[\"Margarete Coelho\"],[\"Maria do Ros\\u00e1rio\"],[\"Maria Rosas\"],[\"Mariana Carvalho\"],[\"Mar\\u00edlia Arraes\"],[\"Marina Santos\"],[\"Nat\\u00e1lia Bonavides\"],[\"Norma Ayub\"],[\"Paula Belmonte\"],[\"Perp\\u00e9tua Almeida\"],[\"Policial Katia Sastre\"],[\"Professora Dayane Pimentel\"],[\"Professora Dorinha Seabra Rezende\"],[\"Professora Marcivania\"],[\"Professora Rosa Neide\"],[\"Rejane Dias\"],[\"Renata Abreu\"],[\"Rosana Valle\"],[\"Rosangela Gomes\"],[\"Rose Modesto\"],[\"S\\u00e2mia Bomfim\"],[\"Sh\\u00e9ridan\"],[\"Silvia Cristina\"],[\"Soraya Santos\"],[\"Tabata Amaral\"],[\"Tal\\u00edria Petrone\"],[\"Tereza Nelma\"],[\"Tia Eron\"],[\"Vivi Reis\"]],\"hovertemplate\":\"sexo=%{x}<br>age=%{y}<br>nome=%{customdata[0]}<extra></extra>\",\"legendgroup\":\"F\",\"marker\":{\"color\":\"#EF553B\"},\"name\":\"F\",\"offsetgroup\":\"F\",\"orientation\":\"v\",\"points\":\"all\",\"scalegroup\":\"True\",\"showlegend\":true,\"type\":\"violin\",\"x\":[\"F\",\"F\",\"F\",\"F\",\"F\",\"F\",\"F\",\"F\",\"F\",\"F\",\"F\",\"F\",\"F\",\"F\",\"F\",\"F\",\"F\",\"F\",\"F\",\"F\",\"F\",\"F\",\"F\",\"F\",\"F\",\"F\",\"F\",\"F\",\"F\",\"F\",\"F\",\"F\",\"F\",\"F\",\"F\",\"F\",\"F\",\"F\",\"F\",\"F\",\"F\",\"F\",\"F\",\"F\",\"F\",\"F\",\"F\",\"F\",\"F\",\"F\",\"F\",\"F\",\"F\",\"F\",\"F\",\"F\",\"F\",\"F\",\"F\",\"F\",\"F\",\"F\",\"F\",\"F\",\"F\",\"F\",\"F\",\"F\",\"F\",\"F\",\"F\",\"F\",\"F\",\"F\",\"F\",\"F\",\"F\"],\"x0\":\" \",\"xaxis\":\"x\",\"y\":[52.0,47.0,62.0,40.0,42.0,67.0,37.0,79.0,52.0,60.0,38.0,45.0,41.0,58.0,35.0,44.0,30.0,61.0,39.0,45.0,60.0,68.0,57.0,63.0,76.0,64.0,37.0,52.0,49.0,56.0,39.0,55.0,64.0,46.0,40.0,48.0,43.0,51.0,45.0,55.0,65.0,40.0,25.0,86.0,52.0,72.0,41.0,48.0,60.0,54.0,55.0,34.0,37.0,41.0,33.0,62.0,48.0,56.0,45.0,35.0,56.0,48.0,58.0,49.0,39.0,52.0,54.0,43.0,32.0,37.0,47.0,62.0,27.0,36.0,63.0,49.0,30.0],\"y0\":\" \",\"yaxis\":\"y\"}],                        {\"height\":700,\"legend\":{\"title\":{\"text\":\"sexo\"},\"tracegroupgap\":0},\"margin\":{\"t\":60},\"paper_bgcolor\":\"LightSteelBlue\",\"template\":{\"data\":{\"bar\":[{\"error_x\":{\"color\":\"#2a3f5f\"},\"error_y\":{\"color\":\"#2a3f5f\"},\"marker\":{\"line\":{\"color\":\"#E5ECF6\",\"width\":0.5},\"pattern\":{\"fillmode\":\"overlay\",\"size\":10,\"solidity\":0.2}},\"type\":\"bar\"}],\"barpolar\":[{\"marker\":{\"line\":{\"color\":\"#E5ECF6\",\"width\":0.5},\"pattern\":{\"fillmode\":\"overlay\",\"size\":10,\"solidity\":0.2}},\"type\":\"barpolar\"}],\"carpet\":[{\"aaxis\":{\"endlinecolor\":\"#2a3f5f\",\"gridcolor\":\"white\",\"linecolor\":\"white\",\"minorgridcolor\":\"white\",\"startlinecolor\":\"#2a3f5f\"},\"baxis\":{\"endlinecolor\":\"#2a3f5f\",\"gridcolor\":\"white\",\"linecolor\":\"white\",\"minorgridcolor\":\"white\",\"startlinecolor\":\"#2a3f5f\"},\"type\":\"carpet\"}],\"choropleth\":[{\"colorbar\":{\"outlinewidth\":0,\"ticks\":\"\"},\"type\":\"choropleth\"}],\"contour\":[{\"colorbar\":{\"outlinewidth\":0,\"ticks\":\"\"},\"colorscale\":[[0.0,\"#0d0887\"],[0.1111111111111111,\"#46039f\"],[0.2222222222222222,\"#7201a8\"],[0.3333333333333333,\"#9c179e\"],[0.4444444444444444,\"#bd3786\"],[0.5555555555555556,\"#d8576b\"],[0.6666666666666666,\"#ed7953\"],[0.7777777777777778,\"#fb9f3a\"],[0.8888888888888888,\"#fdca26\"],[1.0,\"#f0f921\"]],\"type\":\"contour\"}],\"contourcarpet\":[{\"colorbar\":{\"outlinewidth\":0,\"ticks\":\"\"},\"type\":\"contourcarpet\"}],\"heatmap\":[{\"colorbar\":{\"outlinewidth\":0,\"ticks\":\"\"},\"colorscale\":[[0.0,\"#0d0887\"],[0.1111111111111111,\"#46039f\"],[0.2222222222222222,\"#7201a8\"],[0.3333333333333333,\"#9c179e\"],[0.4444444444444444,\"#bd3786\"],[0.5555555555555556,\"#d8576b\"],[0.6666666666666666,\"#ed7953\"],[0.7777777777777778,\"#fb9f3a\"],[0.8888888888888888,\"#fdca26\"],[1.0,\"#f0f921\"]],\"type\":\"heatmap\"}],\"heatmapgl\":[{\"colorbar\":{\"outlinewidth\":0,\"ticks\":\"\"},\"colorscale\":[[0.0,\"#0d0887\"],[0.1111111111111111,\"#46039f\"],[0.2222222222222222,\"#7201a8\"],[0.3333333333333333,\"#9c179e\"],[0.4444444444444444,\"#bd3786\"],[0.5555555555555556,\"#d8576b\"],[0.6666666666666666,\"#ed7953\"],[0.7777777777777778,\"#fb9f3a\"],[0.8888888888888888,\"#fdca26\"],[1.0,\"#f0f921\"]],\"type\":\"heatmapgl\"}],\"histogram\":[{\"marker\":{\"pattern\":{\"fillmode\":\"overlay\",\"size\":10,\"solidity\":0.2}},\"type\":\"histogram\"}],\"histogram2d\":[{\"colorbar\":{\"outlinewidth\":0,\"ticks\":\"\"},\"colorscale\":[[0.0,\"#0d0887\"],[0.1111111111111111,\"#46039f\"],[0.2222222222222222,\"#7201a8\"],[0.3333333333333333,\"#9c179e\"],[0.4444444444444444,\"#bd3786\"],[0.5555555555555556,\"#d8576b\"],[0.6666666666666666,\"#ed7953\"],[0.7777777777777778,\"#fb9f3a\"],[0.8888888888888888,\"#fdca26\"],[1.0,\"#f0f921\"]],\"type\":\"histogram2d\"}],\"histogram2dcontour\":[{\"colorbar\":{\"outlinewidth\":0,\"ticks\":\"\"},\"colorscale\":[[0.0,\"#0d0887\"],[0.1111111111111111,\"#46039f\"],[0.2222222222222222,\"#7201a8\"],[0.3333333333333333,\"#9c179e\"],[0.4444444444444444,\"#bd3786\"],[0.5555555555555556,\"#d8576b\"],[0.6666666666666666,\"#ed7953\"],[0.7777777777777778,\"#fb9f3a\"],[0.8888888888888888,\"#fdca26\"],[1.0,\"#f0f921\"]],\"type\":\"histogram2dcontour\"}],\"mesh3d\":[{\"colorbar\":{\"outlinewidth\":0,\"ticks\":\"\"},\"type\":\"mesh3d\"}],\"parcoords\":[{\"line\":{\"colorbar\":{\"outlinewidth\":0,\"ticks\":\"\"}},\"type\":\"parcoords\"}],\"pie\":[{\"automargin\":true,\"type\":\"pie\"}],\"scatter\":[{\"marker\":{\"colorbar\":{\"outlinewidth\":0,\"ticks\":\"\"}},\"type\":\"scatter\"}],\"scatter3d\":[{\"line\":{\"colorbar\":{\"outlinewidth\":0,\"ticks\":\"\"}},\"marker\":{\"colorbar\":{\"outlinewidth\":0,\"ticks\":\"\"}},\"type\":\"scatter3d\"}],\"scattercarpet\":[{\"marker\":{\"colorbar\":{\"outlinewidth\":0,\"ticks\":\"\"}},\"type\":\"scattercarpet\"}],\"scattergeo\":[{\"marker\":{\"colorbar\":{\"outlinewidth\":0,\"ticks\":\"\"}},\"type\":\"scattergeo\"}],\"scattergl\":[{\"marker\":{\"colorbar\":{\"outlinewidth\":0,\"ticks\":\"\"}},\"type\":\"scattergl\"}],\"scattermapbox\":[{\"marker\":{\"colorbar\":{\"outlinewidth\":0,\"ticks\":\"\"}},\"type\":\"scattermapbox\"}],\"scatterpolar\":[{\"marker\":{\"colorbar\":{\"outlinewidth\":0,\"ticks\":\"\"}},\"type\":\"scatterpolar\"}],\"scatterpolargl\":[{\"marker\":{\"colorbar\":{\"outlinewidth\":0,\"ticks\":\"\"}},\"type\":\"scatterpolargl\"}],\"scatterternary\":[{\"marker\":{\"colorbar\":{\"outlinewidth\":0,\"ticks\":\"\"}},\"type\":\"scatterternary\"}],\"surface\":[{\"colorbar\":{\"outlinewidth\":0,\"ticks\":\"\"},\"colorscale\":[[0.0,\"#0d0887\"],[0.1111111111111111,\"#46039f\"],[0.2222222222222222,\"#7201a8\"],[0.3333333333333333,\"#9c179e\"],[0.4444444444444444,\"#bd3786\"],[0.5555555555555556,\"#d8576b\"],[0.6666666666666666,\"#ed7953\"],[0.7777777777777778,\"#fb9f3a\"],[0.8888888888888888,\"#fdca26\"],[1.0,\"#f0f921\"]],\"type\":\"surface\"}],\"table\":[{\"cells\":{\"fill\":{\"color\":\"#EBF0F8\"},\"line\":{\"color\":\"white\"}},\"header\":{\"fill\":{\"color\":\"#C8D4E3\"},\"line\":{\"color\":\"white\"}},\"type\":\"table\"}]},\"layout\":{\"annotationdefaults\":{\"arrowcolor\":\"#2a3f5f\",\"arrowhead\":0,\"arrowwidth\":1},\"autotypenumbers\":\"strict\",\"coloraxis\":{\"colorbar\":{\"outlinewidth\":0,\"ticks\":\"\"}},\"colorscale\":{\"diverging\":[[0,\"#8e0152\"],[0.1,\"#c51b7d\"],[0.2,\"#de77ae\"],[0.3,\"#f1b6da\"],[0.4,\"#fde0ef\"],[0.5,\"#f7f7f7\"],[0.6,\"#e6f5d0\"],[0.7,\"#b8e186\"],[0.8,\"#7fbc41\"],[0.9,\"#4d9221\"],[1,\"#276419\"]],\"sequential\":[[0.0,\"#0d0887\"],[0.1111111111111111,\"#46039f\"],[0.2222222222222222,\"#7201a8\"],[0.3333333333333333,\"#9c179e\"],[0.4444444444444444,\"#bd3786\"],[0.5555555555555556,\"#d8576b\"],[0.6666666666666666,\"#ed7953\"],[0.7777777777777778,\"#fb9f3a\"],[0.8888888888888888,\"#fdca26\"],[1.0,\"#f0f921\"]],\"sequentialminus\":[[0.0,\"#0d0887\"],[0.1111111111111111,\"#46039f\"],[0.2222222222222222,\"#7201a8\"],[0.3333333333333333,\"#9c179e\"],[0.4444444444444444,\"#bd3786\"],[0.5555555555555556,\"#d8576b\"],[0.6666666666666666,\"#ed7953\"],[0.7777777777777778,\"#fb9f3a\"],[0.8888888888888888,\"#fdca26\"],[1.0,\"#f0f921\"]]},\"colorway\":[\"#636efa\",\"#EF553B\",\"#00cc96\",\"#ab63fa\",\"#FFA15A\",\"#19d3f3\",\"#FF6692\",\"#B6E880\",\"#FF97FF\",\"#FECB52\"],\"font\":{\"color\":\"#2a3f5f\"},\"geo\":{\"bgcolor\":\"white\",\"lakecolor\":\"white\",\"landcolor\":\"#E5ECF6\",\"showlakes\":true,\"showland\":true,\"subunitcolor\":\"white\"},\"hoverlabel\":{\"align\":\"left\"},\"hovermode\":\"closest\",\"mapbox\":{\"style\":\"light\"},\"paper_bgcolor\":\"white\",\"plot_bgcolor\":\"#E5ECF6\",\"polar\":{\"angularaxis\":{\"gridcolor\":\"white\",\"linecolor\":\"white\",\"ticks\":\"\"},\"bgcolor\":\"#E5ECF6\",\"radialaxis\":{\"gridcolor\":\"white\",\"linecolor\":\"white\",\"ticks\":\"\"}},\"scene\":{\"xaxis\":{\"backgroundcolor\":\"#E5ECF6\",\"gridcolor\":\"white\",\"gridwidth\":2,\"linecolor\":\"white\",\"showbackground\":true,\"ticks\":\"\",\"zerolinecolor\":\"white\"},\"yaxis\":{\"backgroundcolor\":\"#E5ECF6\",\"gridcolor\":\"white\",\"gridwidth\":2,\"linecolor\":\"white\",\"showbackground\":true,\"ticks\":\"\",\"zerolinecolor\":\"white\"},\"zaxis\":{\"backgroundcolor\":\"#E5ECF6\",\"gridcolor\":\"white\",\"gridwidth\":2,\"linecolor\":\"white\",\"showbackground\":true,\"ticks\":\"\",\"zerolinecolor\":\"white\"}},\"shapedefaults\":{\"line\":{\"color\":\"#2a3f5f\"}},\"ternary\":{\"aaxis\":{\"gridcolor\":\"white\",\"linecolor\":\"white\",\"ticks\":\"\"},\"baxis\":{\"gridcolor\":\"white\",\"linecolor\":\"white\",\"ticks\":\"\"},\"bgcolor\":\"#E5ECF6\",\"caxis\":{\"gridcolor\":\"white\",\"linecolor\":\"white\",\"ticks\":\"\"}},\"title\":{\"x\":0.05},\"xaxis\":{\"automargin\":true,\"gridcolor\":\"white\",\"linecolor\":\"white\",\"ticks\":\"\",\"title\":{\"standoff\":15},\"zerolinecolor\":\"white\",\"zerolinewidth\":2},\"yaxis\":{\"automargin\":true,\"gridcolor\":\"white\",\"linecolor\":\"white\",\"ticks\":\"\",\"title\":{\"standoff\":15},\"zerolinecolor\":\"white\",\"zerolinewidth\":2}}},\"violinmode\":\"overlay\",\"width\":900,\"xaxis\":{\"anchor\":\"y\",\"categoryarray\":[\"M\",\"F\"],\"categoryorder\":\"array\",\"domain\":[0.0,1.0],\"title\":{\"text\":\"sexo\"}},\"yaxis\":{\"anchor\":\"x\",\"domain\":[0.0,1.0],\"title\":{\"text\":\"age\"}}},                        {\"responsive\": true}                    ).then(function(){\n",
       "                            \n",
       "var gd = document.getElementById('122ffd3a-2ba4-4443-b610-56abe9252abd');\n",
       "var x = new MutationObserver(function (mutations, observer) {{\n",
       "        var display = window.getComputedStyle(gd).display;\n",
       "        if (!display || display === 'none') {{\n",
       "            console.log([gd, 'removed!']);\n",
       "            Plotly.purge(gd);\n",
       "            observer.disconnect();\n",
       "        }}\n",
       "}});\n",
       "\n",
       "// Listen for the removal of the full notebook cells\n",
       "var notebookContainer = gd.closest('#notebook-container');\n",
       "if (notebookContainer) {{\n",
       "    x.observe(notebookContainer, {childList: true});\n",
       "}}\n",
       "\n",
       "// Listen for the clearing of the current output cell\n",
       "var outputEl = gd.closest('.output');\n",
       "if (outputEl) {{\n",
       "    x.observe(outputEl, {childList: true});\n",
       "}}\n",
       "\n",
       "                        })                };                });            </script>        </div>"
      ]
     },
     "metadata": {},
     "output_type": "display_data"
    }
   ],
   "source": [
    "fig_group = px.violin(\n",
    "    deputadosdf, \n",
    "    y=\"age\", \n",
    "    x=\"sexo\", \n",
    "    color=\"sexo\", \n",
    "    points=\"all\",\n",
    "    hover_data=['nome'])\n",
    "\n",
    "fig_group.update_layout(\n",
    "    width=900,\n",
    "    height=700,\n",
    "    paper_bgcolor=\"LightSteelBlue\",\n",
    ")\n",
    "\n",
    "fig_group.show()"
   ]
  },
  {
   "cell_type": "code",
   "execution_count": 231,
   "id": "b170a548-2aa2-4eb0-b318-d059c96a74d1",
   "metadata": {},
   "outputs": [
    {
     "data": {
      "application/vnd.plotly.v1+json": {
       "config": {
        "plotlyServerURL": "https://plot.ly"
       },
       "data": [
        {
         "alignmentgroup": "True",
         "box": {
          "visible": false
         },
         "hovertemplate": "sexo=M<br>age=%{y}<extra></extra>",
         "legendgroup": "M",
         "marker": {
          "color": "#636efa"
         },
         "name": "M",
         "offsetgroup": "M",
         "orientation": "v",
         "scalegroup": "True",
         "showlegend": true,
         "type": "violin",
         "x0": " ",
         "xaxis": "x",
         "y": [
          56,
          54,
          37,
          40,
          52,
          61,
          59,
          60,
          59,
          71,
          52,
          62,
          37,
          44,
          67,
          70,
          45,
          49,
          42,
          49,
          57,
          32,
          50,
          54,
          32,
          53,
          59,
          44,
          50,
          60,
          48,
          54,
          32,
          37,
          68,
          52,
          71,
          66,
          60,
          52,
          57,
          70,
          74,
          58,
          42,
          64,
          49,
          55,
          52,
          43,
          39,
          64,
          58,
          52,
          59,
          70,
          61,
          41,
          41,
          49,
          39,
          54,
          48,
          42,
          39,
          49,
          60,
          39,
          58,
          40,
          62,
          40,
          68,
          62,
          34,
          68,
          65,
          43,
          47,
          56,
          36,
          68,
          59,
          59,
          57,
          49,
          64,
          62,
          55,
          34,
          51,
          50,
          66,
          69,
          66,
          42,
          39,
          38,
          34,
          54,
          63,
          59,
          36,
          47,
          49,
          60,
          45,
          45,
          58,
          41,
          44,
          36,
          48,
          33,
          64,
          44,
          60,
          43,
          47,
          71,
          67,
          40,
          69,
          63,
          39,
          37,
          53,
          58,
          48,
          42,
          61,
          45,
          55,
          51,
          26,
          54,
          60,
          27,
          50,
          37,
          49,
          32,
          49,
          44,
          59,
          44,
          33,
          52,
          44,
          54,
          46,
          29,
          30,
          57,
          37,
          45,
          37,
          30,
          71,
          68,
          52,
          34,
          44,
          77,
          75,
          56,
          58,
          66,
          67,
          45,
          46,
          50,
          41,
          55,
          65,
          40,
          61,
          64,
          39,
          47,
          75,
          59,
          36,
          38,
          40,
          58,
          39,
          42,
          68,
          39,
          59,
          57,
          67,
          63,
          52,
          36,
          61,
          58,
          65,
          63,
          61,
          64,
          59,
          32,
          53,
          36,
          39,
          44,
          75,
          56,
          45,
          48,
          38,
          58,
          48,
          54,
          68,
          47,
          59,
          47,
          68,
          60,
          64,
          64,
          60,
          51,
          61,
          70,
          57,
          57,
          73,
          64,
          44,
          37,
          61,
          45,
          73,
          46,
          54,
          62,
          34,
          54,
          42,
          36,
          36,
          25,
          62,
          67,
          54,
          42,
          37,
          47,
          69,
          41,
          64,
          44,
          67,
          39,
          66,
          32,
          40,
          34,
          76,
          66,
          52,
          41,
          50,
          80,
          62,
          43,
          72,
          52,
          59,
          35,
          47,
          34,
          48,
          54,
          42,
          66,
          48,
          52,
          42,
          47,
          50,
          53,
          57,
          30,
          49,
          43,
          66,
          41,
          45,
          29,
          41,
          42,
          85,
          62,
          63,
          57,
          56,
          61,
          43,
          61,
          58,
          52,
          55,
          41,
          40,
          69,
          58,
          33,
          45,
          39,
          50,
          58,
          73,
          71,
          66,
          60,
          44,
          44,
          44,
          54,
          59,
          49,
          59,
          69,
          64,
          58,
          58,
          47,
          40,
          66,
          38,
          50,
          68,
          65,
          56,
          76,
          60,
          73,
          40,
          58,
          33,
          44,
          41,
          38,
          58,
          36,
          70,
          30,
          63,
          48,
          67,
          39,
          55,
          35,
          60,
          57,
          48,
          56,
          62,
          61,
          61,
          43,
          53,
          36,
          55,
          51,
          61,
          55,
          43,
          41,
          50,
          63,
          68,
          48,
          61,
          68,
          73,
          65,
          37,
          77,
          51,
          58,
          51,
          57,
          53,
          60,
          50,
          59,
          51,
          54,
          58,
          39,
          46,
          45,
          59,
          58,
          56,
          33,
          35,
          56,
          44,
          71,
          33,
          29,
          46,
          52,
          56,
          49,
          57,
          71,
          39,
          62,
          65,
          36,
          64,
          55,
          43,
          35,
          44,
          62,
          67,
          41,
          46,
          62,
          64,
          48,
          65,
          66,
          57,
          58,
          36,
          43
         ],
         "y0": " ",
         "yaxis": "y"
        },
        {
         "alignmentgroup": "True",
         "box": {
          "visible": false
         },
         "hovertemplate": "sexo=F<br>age=%{y}<extra></extra>",
         "legendgroup": "F",
         "marker": {
          "color": "#EF553B"
         },
         "name": "F",
         "offsetgroup": "F",
         "orientation": "v",
         "scalegroup": "True",
         "showlegend": true,
         "type": "violin",
         "x0": " ",
         "xaxis": "x",
         "y": [
          52,
          47,
          62,
          40,
          42,
          67,
          37,
          79,
          52,
          60,
          38,
          45,
          41,
          58,
          35,
          44,
          30,
          61,
          39,
          45,
          60,
          68,
          57,
          63,
          76,
          64,
          37,
          52,
          49,
          56,
          39,
          55,
          64,
          46,
          40,
          48,
          43,
          51,
          45,
          55,
          65,
          40,
          25,
          86,
          52,
          72,
          41,
          48,
          60,
          54,
          55,
          34,
          37,
          41,
          33,
          62,
          48,
          56,
          45,
          35,
          56,
          48,
          58,
          49,
          39,
          52,
          54,
          43,
          32,
          37,
          47,
          62,
          27,
          36,
          63,
          49,
          30
         ],
         "y0": " ",
         "yaxis": "y"
        }
       ],
       "layout": {
        "height": 700,
        "legend": {
         "title": {
          "text": "sexo"
         },
         "tracegroupgap": 0
        },
        "margin": {
         "t": 60
        },
        "paper_bgcolor": "LightSteelBlue",
        "template": {
         "data": {
          "bar": [
           {
            "error_x": {
             "color": "#2a3f5f"
            },
            "error_y": {
             "color": "#2a3f5f"
            },
            "marker": {
             "line": {
              "color": "#E5ECF6",
              "width": 0.5
             },
             "pattern": {
              "fillmode": "overlay",
              "size": 10,
              "solidity": 0.2
             }
            },
            "type": "bar"
           }
          ],
          "barpolar": [
           {
            "marker": {
             "line": {
              "color": "#E5ECF6",
              "width": 0.5
             },
             "pattern": {
              "fillmode": "overlay",
              "size": 10,
              "solidity": 0.2
             }
            },
            "type": "barpolar"
           }
          ],
          "carpet": [
           {
            "aaxis": {
             "endlinecolor": "#2a3f5f",
             "gridcolor": "white",
             "linecolor": "white",
             "minorgridcolor": "white",
             "startlinecolor": "#2a3f5f"
            },
            "baxis": {
             "endlinecolor": "#2a3f5f",
             "gridcolor": "white",
             "linecolor": "white",
             "minorgridcolor": "white",
             "startlinecolor": "#2a3f5f"
            },
            "type": "carpet"
           }
          ],
          "choropleth": [
           {
            "colorbar": {
             "outlinewidth": 0,
             "ticks": ""
            },
            "type": "choropleth"
           }
          ],
          "contour": [
           {
            "colorbar": {
             "outlinewidth": 0,
             "ticks": ""
            },
            "colorscale": [
             [
              0,
              "#0d0887"
             ],
             [
              0.1111111111111111,
              "#46039f"
             ],
             [
              0.2222222222222222,
              "#7201a8"
             ],
             [
              0.3333333333333333,
              "#9c179e"
             ],
             [
              0.4444444444444444,
              "#bd3786"
             ],
             [
              0.5555555555555556,
              "#d8576b"
             ],
             [
              0.6666666666666666,
              "#ed7953"
             ],
             [
              0.7777777777777778,
              "#fb9f3a"
             ],
             [
              0.8888888888888888,
              "#fdca26"
             ],
             [
              1,
              "#f0f921"
             ]
            ],
            "type": "contour"
           }
          ],
          "contourcarpet": [
           {
            "colorbar": {
             "outlinewidth": 0,
             "ticks": ""
            },
            "type": "contourcarpet"
           }
          ],
          "heatmap": [
           {
            "colorbar": {
             "outlinewidth": 0,
             "ticks": ""
            },
            "colorscale": [
             [
              0,
              "#0d0887"
             ],
             [
              0.1111111111111111,
              "#46039f"
             ],
             [
              0.2222222222222222,
              "#7201a8"
             ],
             [
              0.3333333333333333,
              "#9c179e"
             ],
             [
              0.4444444444444444,
              "#bd3786"
             ],
             [
              0.5555555555555556,
              "#d8576b"
             ],
             [
              0.6666666666666666,
              "#ed7953"
             ],
             [
              0.7777777777777778,
              "#fb9f3a"
             ],
             [
              0.8888888888888888,
              "#fdca26"
             ],
             [
              1,
              "#f0f921"
             ]
            ],
            "type": "heatmap"
           }
          ],
          "heatmapgl": [
           {
            "colorbar": {
             "outlinewidth": 0,
             "ticks": ""
            },
            "colorscale": [
             [
              0,
              "#0d0887"
             ],
             [
              0.1111111111111111,
              "#46039f"
             ],
             [
              0.2222222222222222,
              "#7201a8"
             ],
             [
              0.3333333333333333,
              "#9c179e"
             ],
             [
              0.4444444444444444,
              "#bd3786"
             ],
             [
              0.5555555555555556,
              "#d8576b"
             ],
             [
              0.6666666666666666,
              "#ed7953"
             ],
             [
              0.7777777777777778,
              "#fb9f3a"
             ],
             [
              0.8888888888888888,
              "#fdca26"
             ],
             [
              1,
              "#f0f921"
             ]
            ],
            "type": "heatmapgl"
           }
          ],
          "histogram": [
           {
            "marker": {
             "pattern": {
              "fillmode": "overlay",
              "size": 10,
              "solidity": 0.2
             }
            },
            "type": "histogram"
           }
          ],
          "histogram2d": [
           {
            "colorbar": {
             "outlinewidth": 0,
             "ticks": ""
            },
            "colorscale": [
             [
              0,
              "#0d0887"
             ],
             [
              0.1111111111111111,
              "#46039f"
             ],
             [
              0.2222222222222222,
              "#7201a8"
             ],
             [
              0.3333333333333333,
              "#9c179e"
             ],
             [
              0.4444444444444444,
              "#bd3786"
             ],
             [
              0.5555555555555556,
              "#d8576b"
             ],
             [
              0.6666666666666666,
              "#ed7953"
             ],
             [
              0.7777777777777778,
              "#fb9f3a"
             ],
             [
              0.8888888888888888,
              "#fdca26"
             ],
             [
              1,
              "#f0f921"
             ]
            ],
            "type": "histogram2d"
           }
          ],
          "histogram2dcontour": [
           {
            "colorbar": {
             "outlinewidth": 0,
             "ticks": ""
            },
            "colorscale": [
             [
              0,
              "#0d0887"
             ],
             [
              0.1111111111111111,
              "#46039f"
             ],
             [
              0.2222222222222222,
              "#7201a8"
             ],
             [
              0.3333333333333333,
              "#9c179e"
             ],
             [
              0.4444444444444444,
              "#bd3786"
             ],
             [
              0.5555555555555556,
              "#d8576b"
             ],
             [
              0.6666666666666666,
              "#ed7953"
             ],
             [
              0.7777777777777778,
              "#fb9f3a"
             ],
             [
              0.8888888888888888,
              "#fdca26"
             ],
             [
              1,
              "#f0f921"
             ]
            ],
            "type": "histogram2dcontour"
           }
          ],
          "mesh3d": [
           {
            "colorbar": {
             "outlinewidth": 0,
             "ticks": ""
            },
            "type": "mesh3d"
           }
          ],
          "parcoords": [
           {
            "line": {
             "colorbar": {
              "outlinewidth": 0,
              "ticks": ""
             }
            },
            "type": "parcoords"
           }
          ],
          "pie": [
           {
            "automargin": true,
            "type": "pie"
           }
          ],
          "scatter": [
           {
            "marker": {
             "colorbar": {
              "outlinewidth": 0,
              "ticks": ""
             }
            },
            "type": "scatter"
           }
          ],
          "scatter3d": [
           {
            "line": {
             "colorbar": {
              "outlinewidth": 0,
              "ticks": ""
             }
            },
            "marker": {
             "colorbar": {
              "outlinewidth": 0,
              "ticks": ""
             }
            },
            "type": "scatter3d"
           }
          ],
          "scattercarpet": [
           {
            "marker": {
             "colorbar": {
              "outlinewidth": 0,
              "ticks": ""
             }
            },
            "type": "scattercarpet"
           }
          ],
          "scattergeo": [
           {
            "marker": {
             "colorbar": {
              "outlinewidth": 0,
              "ticks": ""
             }
            },
            "type": "scattergeo"
           }
          ],
          "scattergl": [
           {
            "marker": {
             "colorbar": {
              "outlinewidth": 0,
              "ticks": ""
             }
            },
            "type": "scattergl"
           }
          ],
          "scattermapbox": [
           {
            "marker": {
             "colorbar": {
              "outlinewidth": 0,
              "ticks": ""
             }
            },
            "type": "scattermapbox"
           }
          ],
          "scatterpolar": [
           {
            "marker": {
             "colorbar": {
              "outlinewidth": 0,
              "ticks": ""
             }
            },
            "type": "scatterpolar"
           }
          ],
          "scatterpolargl": [
           {
            "marker": {
             "colorbar": {
              "outlinewidth": 0,
              "ticks": ""
             }
            },
            "type": "scatterpolargl"
           }
          ],
          "scatterternary": [
           {
            "marker": {
             "colorbar": {
              "outlinewidth": 0,
              "ticks": ""
             }
            },
            "type": "scatterternary"
           }
          ],
          "surface": [
           {
            "colorbar": {
             "outlinewidth": 0,
             "ticks": ""
            },
            "colorscale": [
             [
              0,
              "#0d0887"
             ],
             [
              0.1111111111111111,
              "#46039f"
             ],
             [
              0.2222222222222222,
              "#7201a8"
             ],
             [
              0.3333333333333333,
              "#9c179e"
             ],
             [
              0.4444444444444444,
              "#bd3786"
             ],
             [
              0.5555555555555556,
              "#d8576b"
             ],
             [
              0.6666666666666666,
              "#ed7953"
             ],
             [
              0.7777777777777778,
              "#fb9f3a"
             ],
             [
              0.8888888888888888,
              "#fdca26"
             ],
             [
              1,
              "#f0f921"
             ]
            ],
            "type": "surface"
           }
          ],
          "table": [
           {
            "cells": {
             "fill": {
              "color": "#EBF0F8"
             },
             "line": {
              "color": "white"
             }
            },
            "header": {
             "fill": {
              "color": "#C8D4E3"
             },
             "line": {
              "color": "white"
             }
            },
            "type": "table"
           }
          ]
         },
         "layout": {
          "annotationdefaults": {
           "arrowcolor": "#2a3f5f",
           "arrowhead": 0,
           "arrowwidth": 1
          },
          "autotypenumbers": "strict",
          "coloraxis": {
           "colorbar": {
            "outlinewidth": 0,
            "ticks": ""
           }
          },
          "colorscale": {
           "diverging": [
            [
             0,
             "#8e0152"
            ],
            [
             0.1,
             "#c51b7d"
            ],
            [
             0.2,
             "#de77ae"
            ],
            [
             0.3,
             "#f1b6da"
            ],
            [
             0.4,
             "#fde0ef"
            ],
            [
             0.5,
             "#f7f7f7"
            ],
            [
             0.6,
             "#e6f5d0"
            ],
            [
             0.7,
             "#b8e186"
            ],
            [
             0.8,
             "#7fbc41"
            ],
            [
             0.9,
             "#4d9221"
            ],
            [
             1,
             "#276419"
            ]
           ],
           "sequential": [
            [
             0,
             "#0d0887"
            ],
            [
             0.1111111111111111,
             "#46039f"
            ],
            [
             0.2222222222222222,
             "#7201a8"
            ],
            [
             0.3333333333333333,
             "#9c179e"
            ],
            [
             0.4444444444444444,
             "#bd3786"
            ],
            [
             0.5555555555555556,
             "#d8576b"
            ],
            [
             0.6666666666666666,
             "#ed7953"
            ],
            [
             0.7777777777777778,
             "#fb9f3a"
            ],
            [
             0.8888888888888888,
             "#fdca26"
            ],
            [
             1,
             "#f0f921"
            ]
           ],
           "sequentialminus": [
            [
             0,
             "#0d0887"
            ],
            [
             0.1111111111111111,
             "#46039f"
            ],
            [
             0.2222222222222222,
             "#7201a8"
            ],
            [
             0.3333333333333333,
             "#9c179e"
            ],
            [
             0.4444444444444444,
             "#bd3786"
            ],
            [
             0.5555555555555556,
             "#d8576b"
            ],
            [
             0.6666666666666666,
             "#ed7953"
            ],
            [
             0.7777777777777778,
             "#fb9f3a"
            ],
            [
             0.8888888888888888,
             "#fdca26"
            ],
            [
             1,
             "#f0f921"
            ]
           ]
          },
          "colorway": [
           "#636efa",
           "#EF553B",
           "#00cc96",
           "#ab63fa",
           "#FFA15A",
           "#19d3f3",
           "#FF6692",
           "#B6E880",
           "#FF97FF",
           "#FECB52"
          ],
          "font": {
           "color": "#2a3f5f"
          },
          "geo": {
           "bgcolor": "white",
           "lakecolor": "white",
           "landcolor": "#E5ECF6",
           "showlakes": true,
           "showland": true,
           "subunitcolor": "white"
          },
          "hoverlabel": {
           "align": "left"
          },
          "hovermode": "closest",
          "mapbox": {
           "style": "light"
          },
          "paper_bgcolor": "white",
          "plot_bgcolor": "#E5ECF6",
          "polar": {
           "angularaxis": {
            "gridcolor": "white",
            "linecolor": "white",
            "ticks": ""
           },
           "bgcolor": "#E5ECF6",
           "radialaxis": {
            "gridcolor": "white",
            "linecolor": "white",
            "ticks": ""
           }
          },
          "scene": {
           "xaxis": {
            "backgroundcolor": "#E5ECF6",
            "gridcolor": "white",
            "gridwidth": 2,
            "linecolor": "white",
            "showbackground": true,
            "ticks": "",
            "zerolinecolor": "white"
           },
           "yaxis": {
            "backgroundcolor": "#E5ECF6",
            "gridcolor": "white",
            "gridwidth": 2,
            "linecolor": "white",
            "showbackground": true,
            "ticks": "",
            "zerolinecolor": "white"
           },
           "zaxis": {
            "backgroundcolor": "#E5ECF6",
            "gridcolor": "white",
            "gridwidth": 2,
            "linecolor": "white",
            "showbackground": true,
            "ticks": "",
            "zerolinecolor": "white"
           }
          },
          "shapedefaults": {
           "line": {
            "color": "#2a3f5f"
           }
          },
          "ternary": {
           "aaxis": {
            "gridcolor": "white",
            "linecolor": "white",
            "ticks": ""
           },
           "baxis": {
            "gridcolor": "white",
            "linecolor": "white",
            "ticks": ""
           },
           "bgcolor": "#E5ECF6",
           "caxis": {
            "gridcolor": "white",
            "linecolor": "white",
            "ticks": ""
           }
          },
          "title": {
           "x": 0.05
          },
          "xaxis": {
           "automargin": true,
           "gridcolor": "white",
           "linecolor": "white",
           "ticks": "",
           "title": {
            "standoff": 15
           },
           "zerolinecolor": "white",
           "zerolinewidth": 2
          },
          "yaxis": {
           "automargin": true,
           "gridcolor": "white",
           "linecolor": "white",
           "ticks": "",
           "title": {
            "standoff": 15
           },
           "zerolinecolor": "white",
           "zerolinewidth": 2
          }
         }
        },
        "violinmode": "overlay",
        "width": 900,
        "xaxis": {
         "anchor": "y",
         "autorange": true,
         "domain": [
          0,
          1
         ],
         "range": [
          -0.5,
          0.5
         ],
         "type": "category"
        },
        "yaxis": {
         "anchor": "x",
         "autorange": true,
         "domain": [
          0,
          1
         ],
         "range": [
          9.384298161668669,
          101.61570183833133
         ],
         "title": {
          "text": "age"
         },
         "type": "linear"
        }
       }
      },
      "image/png": "[encoded data removed]",
      "text/html": [
       "<div>                            <div id=\"0fb42932-37ee-4b36-8580-8c940b2687e5\" class=\"plotly-graph-div\" style=\"height:700px; width:900px;\"></div>            <script type=\"text/javascript\">                require([\"plotly\"], function(Plotly) {                    window.PLOTLYENV=window.PLOTLYENV || {};                                    if (document.getElementById(\"0fb42932-37ee-4b36-8580-8c940b2687e5\")) {                    Plotly.newPlot(                        \"0fb42932-37ee-4b36-8580-8c940b2687e5\",                        [{\"alignmentgroup\":\"True\",\"box\":{\"visible\":false},\"hovertemplate\":\"sexo=M<br>age=%{y}<extra></extra>\",\"legendgroup\":\"M\",\"marker\":{\"color\":\"#636efa\"},\"name\":\"M\",\"offsetgroup\":\"M\",\"orientation\":\"v\",\"scalegroup\":\"True\",\"showlegend\":true,\"type\":\"violin\",\"x0\":\" \",\"xaxis\":\"x\",\"y\":[56.0,54.0,37.0,40.0,52.0,61.0,59.0,60.0,59.0,71.0,52.0,62.0,37.0,44.0,67.0,70.0,45.0,49.0,42.0,49.0,57.0,32.0,50.0,54.0,32.0,53.0,59.0,44.0,50.0,60.0,48.0,54.0,32.0,37.0,68.0,52.0,71.0,66.0,60.0,52.0,57.0,70.0,74.0,58.0,42.0,64.0,49.0,55.0,52.0,43.0,39.0,64.0,58.0,52.0,59.0,70.0,61.0,41.0,41.0,49.0,39.0,54.0,48.0,42.0,39.0,49.0,60.0,39.0,58.0,40.0,62.0,40.0,68.0,62.0,34.0,68.0,65.0,43.0,47.0,56.0,36.0,68.0,59.0,59.0,57.0,49.0,64.0,62.0,55.0,34.0,51.0,50.0,66.0,69.0,66.0,42.0,39.0,38.0,34.0,54.0,63.0,59.0,36.0,47.0,49.0,60.0,45.0,45.0,58.0,41.0,44.0,36.0,48.0,33.0,64.0,44.0,60.0,43.0,47.0,71.0,67.0,40.0,69.0,63.0,39.0,37.0,53.0,58.0,48.0,42.0,61.0,45.0,55.0,51.0,26.0,54.0,60.0,27.0,50.0,37.0,49.0,32.0,49.0,44.0,59.0,44.0,33.0,52.0,44.0,54.0,46.0,29.0,30.0,57.0,37.0,45.0,37.0,30.0,71.0,68.0,52.0,34.0,44.0,77.0,75.0,56.0,58.0,66.0,67.0,45.0,46.0,50.0,41.0,55.0,65.0,40.0,61.0,64.0,39.0,47.0,75.0,59.0,36.0,38.0,40.0,58.0,39.0,42.0,68.0,39.0,59.0,57.0,67.0,63.0,52.0,36.0,61.0,58.0,65.0,63.0,61.0,64.0,59.0,32.0,53.0,36.0,39.0,44.0,75.0,56.0,45.0,48.0,38.0,58.0,48.0,54.0,68.0,47.0,59.0,47.0,68.0,60.0,64.0,64.0,60.0,51.0,61.0,70.0,57.0,57.0,73.0,64.0,44.0,37.0,61.0,45.0,73.0,46.0,54.0,62.0,34.0,54.0,42.0,36.0,36.0,25.0,62.0,67.0,54.0,42.0,37.0,47.0,69.0,41.0,64.0,44.0,67.0,39.0,66.0,32.0,40.0,34.0,76.0,66.0,52.0,41.0,50.0,80.0,62.0,43.0,72.0,52.0,59.0,35.0,47.0,34.0,48.0,54.0,42.0,66.0,48.0,52.0,42.0,47.0,50.0,53.0,57.0,30.0,49.0,43.0,66.0,41.0,45.0,29.0,41.0,42.0,85.0,62.0,63.0,57.0,56.0,61.0,43.0,61.0,58.0,52.0,55.0,41.0,40.0,69.0,58.0,33.0,45.0,39.0,50.0,58.0,73.0,71.0,66.0,60.0,44.0,44.0,44.0,54.0,59.0,49.0,59.0,69.0,64.0,58.0,58.0,47.0,40.0,66.0,38.0,50.0,68.0,65.0,56.0,76.0,60.0,73.0,40.0,58.0,33.0,44.0,41.0,38.0,58.0,36.0,70.0,30.0,63.0,48.0,67.0,39.0,55.0,35.0,60.0,57.0,48.0,56.0,62.0,61.0,61.0,43.0,53.0,36.0,55.0,51.0,61.0,55.0,43.0,41.0,50.0,63.0,68.0,48.0,61.0,68.0,73.0,65.0,37.0,77.0,51.0,58.0,51.0,57.0,53.0,60.0,50.0,59.0,51.0,54.0,58.0,39.0,46.0,45.0,59.0,58.0,56.0,33.0,35.0,56.0,44.0,71.0,33.0,29.0,46.0,52.0,56.0,49.0,57.0,71.0,39.0,62.0,65.0,36.0,64.0,55.0,43.0,35.0,44.0,62.0,67.0,41.0,46.0,62.0,64.0,48.0,65.0,66.0,57.0,58.0,36.0,43.0],\"y0\":\" \",\"yaxis\":\"y\"},{\"alignmentgroup\":\"True\",\"box\":{\"visible\":false},\"hovertemplate\":\"sexo=F<br>age=%{y}<extra></extra>\",\"legendgroup\":\"F\",\"marker\":{\"color\":\"#EF553B\"},\"name\":\"F\",\"offsetgroup\":\"F\",\"orientation\":\"v\",\"scalegroup\":\"True\",\"showlegend\":true,\"type\":\"violin\",\"x0\":\" \",\"xaxis\":\"x\",\"y\":[52.0,47.0,62.0,40.0,42.0,67.0,37.0,79.0,52.0,60.0,38.0,45.0,41.0,58.0,35.0,44.0,30.0,61.0,39.0,45.0,60.0,68.0,57.0,63.0,76.0,64.0,37.0,52.0,49.0,56.0,39.0,55.0,64.0,46.0,40.0,48.0,43.0,51.0,45.0,55.0,65.0,40.0,25.0,86.0,52.0,72.0,41.0,48.0,60.0,54.0,55.0,34.0,37.0,41.0,33.0,62.0,48.0,56.0,45.0,35.0,56.0,48.0,58.0,49.0,39.0,52.0,54.0,43.0,32.0,37.0,47.0,62.0,27.0,36.0,63.0,49.0,30.0],\"y0\":\" \",\"yaxis\":\"y\"}],                        {\"height\":700,\"legend\":{\"title\":{\"text\":\"sexo\"},\"tracegroupgap\":0},\"margin\":{\"t\":60},\"paper_bgcolor\":\"LightSteelBlue\",\"template\":{\"data\":{\"bar\":[{\"error_x\":{\"color\":\"#2a3f5f\"},\"error_y\":{\"color\":\"#2a3f5f\"},\"marker\":{\"line\":{\"color\":\"#E5ECF6\",\"width\":0.5},\"pattern\":{\"fillmode\":\"overlay\",\"size\":10,\"solidity\":0.2}},\"type\":\"bar\"}],\"barpolar\":[{\"marker\":{\"line\":{\"color\":\"#E5ECF6\",\"width\":0.5},\"pattern\":{\"fillmode\":\"overlay\",\"size\":10,\"solidity\":0.2}},\"type\":\"barpolar\"}],\"carpet\":[{\"aaxis\":{\"endlinecolor\":\"#2a3f5f\",\"gridcolor\":\"white\",\"linecolor\":\"white\",\"minorgridcolor\":\"white\",\"startlinecolor\":\"#2a3f5f\"},\"baxis\":{\"endlinecolor\":\"#2a3f5f\",\"gridcolor\":\"white\",\"linecolor\":\"white\",\"minorgridcolor\":\"white\",\"startlinecolor\":\"#2a3f5f\"},\"type\":\"carpet\"}],\"choropleth\":[{\"colorbar\":{\"outlinewidth\":0,\"ticks\":\"\"},\"type\":\"choropleth\"}],\"contour\":[{\"colorbar\":{\"outlinewidth\":0,\"ticks\":\"\"},\"colorscale\":[[0.0,\"#0d0887\"],[0.1111111111111111,\"#46039f\"],[0.2222222222222222,\"#7201a8\"],[0.3333333333333333,\"#9c179e\"],[0.4444444444444444,\"#bd3786\"],[0.5555555555555556,\"#d8576b\"],[0.6666666666666666,\"#ed7953\"],[0.7777777777777778,\"#fb9f3a\"],[0.8888888888888888,\"#fdca26\"],[1.0,\"#f0f921\"]],\"type\":\"contour\"}],\"contourcarpet\":[{\"colorbar\":{\"outlinewidth\":0,\"ticks\":\"\"},\"type\":\"contourcarpet\"}],\"heatmap\":[{\"colorbar\":{\"outlinewidth\":0,\"ticks\":\"\"},\"colorscale\":[[0.0,\"#0d0887\"],[0.1111111111111111,\"#46039f\"],[0.2222222222222222,\"#7201a8\"],[0.3333333333333333,\"#9c179e\"],[0.4444444444444444,\"#bd3786\"],[0.5555555555555556,\"#d8576b\"],[0.6666666666666666,\"#ed7953\"],[0.7777777777777778,\"#fb9f3a\"],[0.8888888888888888,\"#fdca26\"],[1.0,\"#f0f921\"]],\"type\":\"heatmap\"}],\"heatmapgl\":[{\"colorbar\":{\"outlinewidth\":0,\"ticks\":\"\"},\"colorscale\":[[0.0,\"#0d0887\"],[0.1111111111111111,\"#46039f\"],[0.2222222222222222,\"#7201a8\"],[0.3333333333333333,\"#9c179e\"],[0.4444444444444444,\"#bd3786\"],[0.5555555555555556,\"#d8576b\"],[0.6666666666666666,\"#ed7953\"],[0.7777777777777778,\"#fb9f3a\"],[0.8888888888888888,\"#fdca26\"],[1.0,\"#f0f921\"]],\"type\":\"heatmapgl\"}],\"histogram\":[{\"marker\":{\"pattern\":{\"fillmode\":\"overlay\",\"size\":10,\"solidity\":0.2}},\"type\":\"histogram\"}],\"histogram2d\":[{\"colorbar\":{\"outlinewidth\":0,\"ticks\":\"\"},\"colorscale\":[[0.0,\"#0d0887\"],[0.1111111111111111,\"#46039f\"],[0.2222222222222222,\"#7201a8\"],[0.3333333333333333,\"#9c179e\"],[0.4444444444444444,\"#bd3786\"],[0.5555555555555556,\"#d8576b\"],[0.6666666666666666,\"#ed7953\"],[0.7777777777777778,\"#fb9f3a\"],[0.8888888888888888,\"#fdca26\"],[1.0,\"#f0f921\"]],\"type\":\"histogram2d\"}],\"histogram2dcontour\":[{\"colorbar\":{\"outlinewidth\":0,\"ticks\":\"\"},\"colorscale\":[[0.0,\"#0d0887\"],[0.1111111111111111,\"#46039f\"],[0.2222222222222222,\"#7201a8\"],[0.3333333333333333,\"#9c179e\"],[0.4444444444444444,\"#bd3786\"],[0.5555555555555556,\"#d8576b\"],[0.6666666666666666,\"#ed7953\"],[0.7777777777777778,\"#fb9f3a\"],[0.8888888888888888,\"#fdca26\"],[1.0,\"#f0f921\"]],\"type\":\"histogram2dcontour\"}],\"mesh3d\":[{\"colorbar\":{\"outlinewidth\":0,\"ticks\":\"\"},\"type\":\"mesh3d\"}],\"parcoords\":[{\"line\":{\"colorbar\":{\"outlinewidth\":0,\"ticks\":\"\"}},\"type\":\"parcoords\"}],\"pie\":[{\"automargin\":true,\"type\":\"pie\"}],\"scatter\":[{\"marker\":{\"colorbar\":{\"outlinewidth\":0,\"ticks\":\"\"}},\"type\":\"scatter\"}],\"scatter3d\":[{\"line\":{\"colorbar\":{\"outlinewidth\":0,\"ticks\":\"\"}},\"marker\":{\"colorbar\":{\"outlinewidth\":0,\"ticks\":\"\"}},\"type\":\"scatter3d\"}],\"scattercarpet\":[{\"marker\":{\"colorbar\":{\"outlinewidth\":0,\"ticks\":\"\"}},\"type\":\"scattercarpet\"}],\"scattergeo\":[{\"marker\":{\"colorbar\":{\"outlinewidth\":0,\"ticks\":\"\"}},\"type\":\"scattergeo\"}],\"scattergl\":[{\"marker\":{\"colorbar\":{\"outlinewidth\":0,\"ticks\":\"\"}},\"type\":\"scattergl\"}],\"scattermapbox\":[{\"marker\":{\"colorbar\":{\"outlinewidth\":0,\"ticks\":\"\"}},\"type\":\"scattermapbox\"}],\"scatterpolar\":[{\"marker\":{\"colorbar\":{\"outlinewidth\":0,\"ticks\":\"\"}},\"type\":\"scatterpolar\"}],\"scatterpolargl\":[{\"marker\":{\"colorbar\":{\"outlinewidth\":0,\"ticks\":\"\"}},\"type\":\"scatterpolargl\"}],\"scatterternary\":[{\"marker\":{\"colorbar\":{\"outlinewidth\":0,\"ticks\":\"\"}},\"type\":\"scatterternary\"}],\"surface\":[{\"colorbar\":{\"outlinewidth\":0,\"ticks\":\"\"},\"colorscale\":[[0.0,\"#0d0887\"],[0.1111111111111111,\"#46039f\"],[0.2222222222222222,\"#7201a8\"],[0.3333333333333333,\"#9c179e\"],[0.4444444444444444,\"#bd3786\"],[0.5555555555555556,\"#d8576b\"],[0.6666666666666666,\"#ed7953\"],[0.7777777777777778,\"#fb9f3a\"],[0.8888888888888888,\"#fdca26\"],[1.0,\"#f0f921\"]],\"type\":\"surface\"}],\"table\":[{\"cells\":{\"fill\":{\"color\":\"#EBF0F8\"},\"line\":{\"color\":\"white\"}},\"header\":{\"fill\":{\"color\":\"#C8D4E3\"},\"line\":{\"color\":\"white\"}},\"type\":\"table\"}]},\"layout\":{\"annotationdefaults\":{\"arrowcolor\":\"#2a3f5f\",\"arrowhead\":0,\"arrowwidth\":1},\"autotypenumbers\":\"strict\",\"coloraxis\":{\"colorbar\":{\"outlinewidth\":0,\"ticks\":\"\"}},\"colorscale\":{\"diverging\":[[0,\"#8e0152\"],[0.1,\"#c51b7d\"],[0.2,\"#de77ae\"],[0.3,\"#f1b6da\"],[0.4,\"#fde0ef\"],[0.5,\"#f7f7f7\"],[0.6,\"#e6f5d0\"],[0.7,\"#b8e186\"],[0.8,\"#7fbc41\"],[0.9,\"#4d9221\"],[1,\"#276419\"]],\"sequential\":[[0.0,\"#0d0887\"],[0.1111111111111111,\"#46039f\"],[0.2222222222222222,\"#7201a8\"],[0.3333333333333333,\"#9c179e\"],[0.4444444444444444,\"#bd3786\"],[0.5555555555555556,\"#d8576b\"],[0.6666666666666666,\"#ed7953\"],[0.7777777777777778,\"#fb9f3a\"],[0.8888888888888888,\"#fdca26\"],[1.0,\"#f0f921\"]],\"sequentialminus\":[[0.0,\"#0d0887\"],[0.1111111111111111,\"#46039f\"],[0.2222222222222222,\"#7201a8\"],[0.3333333333333333,\"#9c179e\"],[0.4444444444444444,\"#bd3786\"],[0.5555555555555556,\"#d8576b\"],[0.6666666666666666,\"#ed7953\"],[0.7777777777777778,\"#fb9f3a\"],[0.8888888888888888,\"#fdca26\"],[1.0,\"#f0f921\"]]},\"colorway\":[\"#636efa\",\"#EF553B\",\"#00cc96\",\"#ab63fa\",\"#FFA15A\",\"#19d3f3\",\"#FF6692\",\"#B6E880\",\"#FF97FF\",\"#FECB52\"],\"font\":{\"color\":\"#2a3f5f\"},\"geo\":{\"bgcolor\":\"white\",\"lakecolor\":\"white\",\"landcolor\":\"#E5ECF6\",\"showlakes\":true,\"showland\":true,\"subunitcolor\":\"white\"},\"hoverlabel\":{\"align\":\"left\"},\"hovermode\":\"closest\",\"mapbox\":{\"style\":\"light\"},\"paper_bgcolor\":\"white\",\"plot_bgcolor\":\"#E5ECF6\",\"polar\":{\"angularaxis\":{\"gridcolor\":\"white\",\"linecolor\":\"white\",\"ticks\":\"\"},\"bgcolor\":\"#E5ECF6\",\"radialaxis\":{\"gridcolor\":\"white\",\"linecolor\":\"white\",\"ticks\":\"\"}},\"scene\":{\"xaxis\":{\"backgroundcolor\":\"#E5ECF6\",\"gridcolor\":\"white\",\"gridwidth\":2,\"linecolor\":\"white\",\"showbackground\":true,\"ticks\":\"\",\"zerolinecolor\":\"white\"},\"yaxis\":{\"backgroundcolor\":\"#E5ECF6\",\"gridcolor\":\"white\",\"gridwidth\":2,\"linecolor\":\"white\",\"showbackground\":true,\"ticks\":\"\",\"zerolinecolor\":\"white\"},\"zaxis\":{\"backgroundcolor\":\"#E5ECF6\",\"gridcolor\":\"white\",\"gridwidth\":2,\"linecolor\":\"white\",\"showbackground\":true,\"ticks\":\"\",\"zerolinecolor\":\"white\"}},\"shapedefaults\":{\"line\":{\"color\":\"#2a3f5f\"}},\"ternary\":{\"aaxis\":{\"gridcolor\":\"white\",\"linecolor\":\"white\",\"ticks\":\"\"},\"baxis\":{\"gridcolor\":\"white\",\"linecolor\":\"white\",\"ticks\":\"\"},\"bgcolor\":\"#E5ECF6\",\"caxis\":{\"gridcolor\":\"white\",\"linecolor\":\"white\",\"ticks\":\"\"}},\"title\":{\"x\":0.05},\"xaxis\":{\"automargin\":true,\"gridcolor\":\"white\",\"linecolor\":\"white\",\"ticks\":\"\",\"title\":{\"standoff\":15},\"zerolinecolor\":\"white\",\"zerolinewidth\":2},\"yaxis\":{\"automargin\":true,\"gridcolor\":\"white\",\"linecolor\":\"white\",\"ticks\":\"\",\"title\":{\"standoff\":15},\"zerolinecolor\":\"white\",\"zerolinewidth\":2}}},\"violinmode\":\"overlay\",\"width\":900,\"xaxis\":{\"anchor\":\"y\",\"domain\":[0.0,1.0]},\"yaxis\":{\"anchor\":\"x\",\"domain\":[0.0,1.0],\"title\":{\"text\":\"age\"}}},                        {\"responsive\": true}                    ).then(function(){\n",
       "                            \n",
       "var gd = document.getElementById('0fb42932-37ee-4b36-8580-8c940b2687e5');\n",
       "var x = new MutationObserver(function (mutations, observer) {{\n",
       "        var display = window.getComputedStyle(gd).display;\n",
       "        if (!display || display === 'none') {{\n",
       "            console.log([gd, 'removed!']);\n",
       "            Plotly.purge(gd);\n",
       "            observer.disconnect();\n",
       "        }}\n",
       "}});\n",
       "\n",
       "// Listen for the removal of the full notebook cells\n",
       "var notebookContainer = gd.closest('#notebook-container');\n",
       "if (notebookContainer) {{\n",
       "    x.observe(notebookContainer, {childList: true});\n",
       "}}\n",
       "\n",
       "// Listen for the clearing of the current output cell\n",
       "var outputEl = gd.closest('.output');\n",
       "if (outputEl) {{\n",
       "    x.observe(outputEl, {childList: true});\n",
       "}}\n",
       "\n",
       "                        })                };                });            </script>        </div>"
      ]
     },
     "metadata": {},
     "output_type": "display_data"
    }
   ],
   "source": [
    "fig = px.violin(\n",
    "    deputadosdf, \n",
    "    y=\"age\", \n",
    "    color=\"sexo\",\n",
    "    violinmode='overlay')\n",
    "\n",
    "fig.update_layout(\n",
    "    width=900,\n",
    "    height=700,\n",
    "    paper_bgcolor=\"LightSteelBlue\",\n",
    ")\n",
    "\n",
    "fig.show()"
   ]
  },
  {
   "cell_type": "code",
   "execution_count": 317,
   "id": "50fb372d-3962-408e-a81d-75649b69972e",
   "metadata": {},
   "outputs": [
    {
     "data": {
      "application/vnd.plotly.v1+json": {
       "config": {
        "plotlyServerURL": "https://plot.ly"
       },
       "data": [
        {
         "alignmentgroup": "True",
         "hovertemplate": "sexo=M<br>siglaPartido=%{x}<br>id=%{y}<extra></extra>",
         "legendgroup": "M",
         "marker": {
          "color": "#636efa",
          "pattern": {
           "shape": ""
          }
         },
         "name": "M",
         "offsetgroup": "M",
         "orientation": "v",
         "showlegend": true,
         "textposition": "auto",
         "type": "bar",
         "x": [
          "PATRIOTA",
          "PSD",
          "DEM",
          "PSC",
          "PL",
          "PODE",
          "PSB",
          "PTB",
          "MDB",
          "NOVO",
          "PDT",
          "PP",
          "REPUBLICANOS",
          "SOLIDARIEDADE",
          "PT",
          "PSL",
          "PROS",
          "AVANTE",
          "PV",
          "PSDB",
          "CIDADANIA",
          "PCdoB",
          "PSOL"
         ],
         "xaxis": "x",
         "y": [
          100,
          100,
          93,
          91,
          90,
          90,
          90,
          90,
          88,
          88,
          88,
          88,
          87,
          86,
          83,
          81,
          80,
          75,
          75,
          72,
          71,
          50,
          33
         ],
         "yaxis": "y"
        },
        {
         "alignmentgroup": "True",
         "hovertemplate": "sexo=F<br>siglaPartido=%{x}<br>id=%{y}<extra></extra>",
         "legendgroup": "F",
         "marker": {
          "color": "#EF553B",
          "pattern": {
           "shape": ""
          }
         },
         "name": "F",
         "offsetgroup": "F",
         "orientation": "v",
         "showlegend": true,
         "textposition": "auto",
         "type": "bar",
         "x": [
          "REDE",
          "PSOL",
          "PCdoB",
          "CIDADANIA",
          "PSDB",
          "AVANTE",
          "PV",
          "PROS",
          "PSL",
          "PT",
          "SOLIDARIEDADE",
          "REPUBLICANOS",
          "MDB",
          "NOVO",
          "PDT",
          "PP",
          "PL",
          "PODE",
          "PSB",
          "PTB",
          "PSC",
          "DEM"
         ],
         "xaxis": "x",
         "y": [
          100,
          67,
          50,
          29,
          28,
          25,
          25,
          20,
          19,
          17,
          14,
          13,
          12,
          12,
          12,
          12,
          10,
          10,
          10,
          10,
          9,
          7
         ],
         "yaxis": "y"
        }
       ],
       "layout": {
        "autosize": true,
        "barmode": "relative",
        "legend": {
         "title": {
          "text": "sexo"
         },
         "tracegroupgap": 0
        },
        "margin": {
         "t": 60
        },
        "template": {
         "data": {
          "bar": [
           {
            "error_x": {
             "color": "#2a3f5f"
            },
            "error_y": {
             "color": "#2a3f5f"
            },
            "marker": {
             "line": {
              "color": "#E5ECF6",
              "width": 0.5
             },
             "pattern": {
              "fillmode": "overlay",
              "size": 10,
              "solidity": 0.2
             }
            },
            "type": "bar"
           }
          ],
          "barpolar": [
           {
            "marker": {
             "line": {
              "color": "#E5ECF6",
              "width": 0.5
             },
             "pattern": {
              "fillmode": "overlay",
              "size": 10,
              "solidity": 0.2
             }
            },
            "type": "barpolar"
           }
          ],
          "carpet": [
           {
            "aaxis": {
             "endlinecolor": "#2a3f5f",
             "gridcolor": "white",
             "linecolor": "white",
             "minorgridcolor": "white",
             "startlinecolor": "#2a3f5f"
            },
            "baxis": {
             "endlinecolor": "#2a3f5f",
             "gridcolor": "white",
             "linecolor": "white",
             "minorgridcolor": "white",
             "startlinecolor": "#2a3f5f"
            },
            "type": "carpet"
           }
          ],
          "choropleth": [
           {
            "colorbar": {
             "outlinewidth": 0,
             "ticks": ""
            },
            "type": "choropleth"
           }
          ],
          "contour": [
           {
            "colorbar": {
             "outlinewidth": 0,
             "ticks": ""
            },
            "colorscale": [
             [
              0,
              "#0d0887"
             ],
             [
              0.1111111111111111,
              "#46039f"
             ],
             [
              0.2222222222222222,
              "#7201a8"
             ],
             [
              0.3333333333333333,
              "#9c179e"
             ],
             [
              0.4444444444444444,
              "#bd3786"
             ],
             [
              0.5555555555555556,
              "#d8576b"
             ],
             [
              0.6666666666666666,
              "#ed7953"
             ],
             [
              0.7777777777777778,
              "#fb9f3a"
             ],
             [
              0.8888888888888888,
              "#fdca26"
             ],
             [
              1,
              "#f0f921"
             ]
            ],
            "type": "contour"
           }
          ],
          "contourcarpet": [
           {
            "colorbar": {
             "outlinewidth": 0,
             "ticks": ""
            },
            "type": "contourcarpet"
           }
          ],
          "heatmap": [
           {
            "colorbar": {
             "outlinewidth": 0,
             "ticks": ""
            },
            "colorscale": [
             [
              0,
              "#0d0887"
             ],
             [
              0.1111111111111111,
              "#46039f"
             ],
             [
              0.2222222222222222,
              "#7201a8"
             ],
             [
              0.3333333333333333,
              "#9c179e"
             ],
             [
              0.4444444444444444,
              "#bd3786"
             ],
             [
              0.5555555555555556,
              "#d8576b"
             ],
             [
              0.6666666666666666,
              "#ed7953"
             ],
             [
              0.7777777777777778,
              "#fb9f3a"
             ],
             [
              0.8888888888888888,
              "#fdca26"
             ],
             [
              1,
              "#f0f921"
             ]
            ],
            "type": "heatmap"
           }
          ],
          "heatmapgl": [
           {
            "colorbar": {
             "outlinewidth": 0,
             "ticks": ""
            },
            "colorscale": [
             [
              0,
              "#0d0887"
             ],
             [
              0.1111111111111111,
              "#46039f"
             ],
             [
              0.2222222222222222,
              "#7201a8"
             ],
             [
              0.3333333333333333,
              "#9c179e"
             ],
             [
              0.4444444444444444,
              "#bd3786"
             ],
             [
              0.5555555555555556,
              "#d8576b"
             ],
             [
              0.6666666666666666,
              "#ed7953"
             ],
             [
              0.7777777777777778,
              "#fb9f3a"
             ],
             [
              0.8888888888888888,
              "#fdca26"
             ],
             [
              1,
              "#f0f921"
             ]
            ],
            "type": "heatmapgl"
           }
          ],
          "histogram": [
           {
            "marker": {
             "pattern": {
              "fillmode": "overlay",
              "size": 10,
              "solidity": 0.2
             }
            },
            "type": "histogram"
           }
          ],
          "histogram2d": [
           {
            "colorbar": {
             "outlinewidth": 0,
             "ticks": ""
            },
            "colorscale": [
             [
              0,
              "#0d0887"
             ],
             [
              0.1111111111111111,
              "#46039f"
             ],
             [
              0.2222222222222222,
              "#7201a8"
             ],
             [
              0.3333333333333333,
              "#9c179e"
             ],
             [
              0.4444444444444444,
              "#bd3786"
             ],
             [
              0.5555555555555556,
              "#d8576b"
             ],
             [
              0.6666666666666666,
              "#ed7953"
             ],
             [
              0.7777777777777778,
              "#fb9f3a"
             ],
             [
              0.8888888888888888,
              "#fdca26"
             ],
             [
              1,
              "#f0f921"
             ]
            ],
            "type": "histogram2d"
           }
          ],
          "histogram2dcontour": [
           {
            "colorbar": {
             "outlinewidth": 0,
             "ticks": ""
            },
            "colorscale": [
             [
              0,
              "#0d0887"
             ],
             [
              0.1111111111111111,
              "#46039f"
             ],
             [
              0.2222222222222222,
              "#7201a8"
             ],
             [
              0.3333333333333333,
              "#9c179e"
             ],
             [
              0.4444444444444444,
              "#bd3786"
             ],
             [
              0.5555555555555556,
              "#d8576b"
             ],
             [
              0.6666666666666666,
              "#ed7953"
             ],
             [
              0.7777777777777778,
              "#fb9f3a"
             ],
             [
              0.8888888888888888,
              "#fdca26"
             ],
             [
              1,
              "#f0f921"
             ]
            ],
            "type": "histogram2dcontour"
           }
          ],
          "mesh3d": [
           {
            "colorbar": {
             "outlinewidth": 0,
             "ticks": ""
            },
            "type": "mesh3d"
           }
          ],
          "parcoords": [
           {
            "line": {
             "colorbar": {
              "outlinewidth": 0,
              "ticks": ""
             }
            },
            "type": "parcoords"
           }
          ],
          "pie": [
           {
            "automargin": true,
            "type": "pie"
           }
          ],
          "scatter": [
           {
            "marker": {
             "colorbar": {
              "outlinewidth": 0,
              "ticks": ""
             }
            },
            "type": "scatter"
           }
          ],
          "scatter3d": [
           {
            "line": {
             "colorbar": {
              "outlinewidth": 0,
              "ticks": ""
             }
            },
            "marker": {
             "colorbar": {
              "outlinewidth": 0,
              "ticks": ""
             }
            },
            "type": "scatter3d"
           }
          ],
          "scattercarpet": [
           {
            "marker": {
             "colorbar": {
              "outlinewidth": 0,
              "ticks": ""
             }
            },
            "type": "scattercarpet"
           }
          ],
          "scattergeo": [
           {
            "marker": {
             "colorbar": {
              "outlinewidth": 0,
              "ticks": ""
             }
            },
            "type": "scattergeo"
           }
          ],
          "scattergl": [
           {
            "marker": {
             "colorbar": {
              "outlinewidth": 0,
              "ticks": ""
             }
            },
            "type": "scattergl"
           }
          ],
          "scattermapbox": [
           {
            "marker": {
             "colorbar": {
              "outlinewidth": 0,
              "ticks": ""
             }
            },
            "type": "scattermapbox"
           }
          ],
          "scatterpolar": [
           {
            "marker": {
             "colorbar": {
              "outlinewidth": 0,
              "ticks": ""
             }
            },
            "type": "scatterpolar"
           }
          ],
          "scatterpolargl": [
           {
            "marker": {
             "colorbar": {
              "outlinewidth": 0,
              "ticks": ""
             }
            },
            "type": "scatterpolargl"
           }
          ],
          "scatterternary": [
           {
            "marker": {
             "colorbar": {
              "outlinewidth": 0,
              "ticks": ""
             }
            },
            "type": "scatterternary"
           }
          ],
          "surface": [
           {
            "colorbar": {
             "outlinewidth": 0,
             "ticks": ""
            },
            "colorscale": [
             [
              0,
              "#0d0887"
             ],
             [
              0.1111111111111111,
              "#46039f"
             ],
             [
              0.2222222222222222,
              "#7201a8"
             ],
             [
              0.3333333333333333,
              "#9c179e"
             ],
             [
              0.4444444444444444,
              "#bd3786"
             ],
             [
              0.5555555555555556,
              "#d8576b"
             ],
             [
              0.6666666666666666,
              "#ed7953"
             ],
             [
              0.7777777777777778,
              "#fb9f3a"
             ],
             [
              0.8888888888888888,
              "#fdca26"
             ],
             [
              1,
              "#f0f921"
             ]
            ],
            "type": "surface"
           }
          ],
          "table": [
           {
            "cells": {
             "fill": {
              "color": "#EBF0F8"
             },
             "line": {
              "color": "white"
             }
            },
            "header": {
             "fill": {
              "color": "#C8D4E3"
             },
             "line": {
              "color": "white"
             }
            },
            "type": "table"
           }
          ]
         },
         "layout": {
          "annotationdefaults": {
           "arrowcolor": "#2a3f5f",
           "arrowhead": 0,
           "arrowwidth": 1
          },
          "autotypenumbers": "strict",
          "coloraxis": {
           "colorbar": {
            "outlinewidth": 0,
            "ticks": ""
           }
          },
          "colorscale": {
           "diverging": [
            [
             0,
             "#8e0152"
            ],
            [
             0.1,
             "#c51b7d"
            ],
            [
             0.2,
             "#de77ae"
            ],
            [
             0.3,
             "#f1b6da"
            ],
            [
             0.4,
             "#fde0ef"
            ],
            [
             0.5,
             "#f7f7f7"
            ],
            [
             0.6,
             "#e6f5d0"
            ],
            [
             0.7,
             "#b8e186"
            ],
            [
             0.8,
             "#7fbc41"
            ],
            [
             0.9,
             "#4d9221"
            ],
            [
             1,
             "#276419"
            ]
           ],
           "sequential": [
            [
             0,
             "#0d0887"
            ],
            [
             0.1111111111111111,
             "#46039f"
            ],
            [
             0.2222222222222222,
             "#7201a8"
            ],
            [
             0.3333333333333333,
             "#9c179e"
            ],
            [
             0.4444444444444444,
             "#bd3786"
            ],
            [
             0.5555555555555556,
             "#d8576b"
            ],
            [
             0.6666666666666666,
             "#ed7953"
            ],
            [
             0.7777777777777778,
             "#fb9f3a"
            ],
            [
             0.8888888888888888,
             "#fdca26"
            ],
            [
             1,
             "#f0f921"
            ]
           ],
           "sequentialminus": [
            [
             0,
             "#0d0887"
            ],
            [
             0.1111111111111111,
             "#46039f"
            ],
            [
             0.2222222222222222,
             "#7201a8"
            ],
            [
             0.3333333333333333,
             "#9c179e"
            ],
            [
             0.4444444444444444,
             "#bd3786"
            ],
            [
             0.5555555555555556,
             "#d8576b"
            ],
            [
             0.6666666666666666,
             "#ed7953"
            ],
            [
             0.7777777777777778,
             "#fb9f3a"
            ],
            [
             0.8888888888888888,
             "#fdca26"
            ],
            [
             1,
             "#f0f921"
            ]
           ]
          },
          "colorway": [
           "#636efa",
           "#EF553B",
           "#00cc96",
           "#ab63fa",
           "#FFA15A",
           "#19d3f3",
           "#FF6692",
           "#B6E880",
           "#FF97FF",
           "#FECB52"
          ],
          "font": {
           "color": "#2a3f5f"
          },
          "geo": {
           "bgcolor": "white",
           "lakecolor": "white",
           "landcolor": "#E5ECF6",
           "showlakes": true,
           "showland": true,
           "subunitcolor": "white"
          },
          "hoverlabel": {
           "align": "left"
          },
          "hovermode": "closest",
          "mapbox": {
           "style": "light"
          },
          "paper_bgcolor": "white",
          "plot_bgcolor": "#E5ECF6",
          "polar": {
           "angularaxis": {
            "gridcolor": "white",
            "linecolor": "white",
            "ticks": ""
           },
           "bgcolor": "#E5ECF6",
           "radialaxis": {
            "gridcolor": "white",
            "linecolor": "white",
            "ticks": ""
           }
          },
          "scene": {
           "xaxis": {
            "backgroundcolor": "#E5ECF6",
            "gridcolor": "white",
            "gridwidth": 2,
            "linecolor": "white",
            "showbackground": true,
            "ticks": "",
            "zerolinecolor": "white"
           },
           "yaxis": {
            "backgroundcolor": "#E5ECF6",
            "gridcolor": "white",
            "gridwidth": 2,
            "linecolor": "white",
            "showbackground": true,
            "ticks": "",
            "zerolinecolor": "white"
           },
           "zaxis": {
            "backgroundcolor": "#E5ECF6",
            "gridcolor": "white",
            "gridwidth": 2,
            "linecolor": "white",
            "showbackground": true,
            "ticks": "",
            "zerolinecolor": "white"
           }
          },
          "shapedefaults": {
           "line": {
            "color": "#2a3f5f"
           }
          },
          "ternary": {
           "aaxis": {
            "gridcolor": "white",
            "linecolor": "white",
            "ticks": ""
           },
           "baxis": {
            "gridcolor": "white",
            "linecolor": "white",
            "ticks": ""
           },
           "bgcolor": "#E5ECF6",
           "caxis": {
            "gridcolor": "white",
            "linecolor": "white",
            "ticks": ""
           }
          },
          "title": {
           "x": 0.05
          },
          "xaxis": {
           "automargin": true,
           "gridcolor": "white",
           "linecolor": "white",
           "ticks": "",
           "title": {
            "standoff": 15
           },
           "zerolinecolor": "white",
           "zerolinewidth": 2
          },
          "yaxis": {
           "automargin": true,
           "gridcolor": "white",
           "linecolor": "white",
           "ticks": "",
           "title": {
            "standoff": 15
           },
           "zerolinecolor": "white",
           "zerolinewidth": 2
          }
         }
        },
        "xaxis": {
         "anchor": "y",
         "autorange": true,
         "domain": [
          0,
          1
         ],
         "range": [
          -0.5,
          23.5
         ],
         "title": {
          "text": "siglaPartido"
         },
         "type": "category"
        },
        "yaxis": {
         "anchor": "x",
         "autorange": true,
         "domain": [
          0,
          1
         ],
         "range": [
          0,
          105.26315789473685
         ],
         "title": {
          "text": "id"
         },
         "type": "linear"
        }
       }
      },
      "image/png": "[encoded data removed]",
      "text/html": [
       "<div>                            <div id=\"beec0f73-4b2d-4091-a57f-c046b6726c27\" class=\"plotly-graph-div\" style=\"height:525px; width:100%;\"></div>            <script type=\"text/javascript\">                require([\"plotly\"], function(Plotly) {                    window.PLOTLYENV=window.PLOTLYENV || {};                                    if (document.getElementById(\"beec0f73-4b2d-4091-a57f-c046b6726c27\")) {                    Plotly.newPlot(                        \"beec0f73-4b2d-4091-a57f-c046b6726c27\",                        [{\"alignmentgroup\":\"True\",\"hovertemplate\":\"sexo=M<br>siglaPartido=%{x}<br>id=%{y}<extra></extra>\",\"legendgroup\":\"M\",\"marker\":{\"color\":\"#636efa\",\"pattern\":{\"shape\":\"\"}},\"name\":\"M\",\"offsetgroup\":\"M\",\"orientation\":\"v\",\"showlegend\":true,\"textposition\":\"auto\",\"type\":\"bar\",\"x\":[\"PATRIOTA\",\"PSD\",\"DEM\",\"PSC\",\"PL\",\"PODE\",\"PSB\",\"PTB\",\"MDB\",\"NOVO\",\"PDT\",\"PP\",\"REPUBLICANOS\",\"SOLIDARIEDADE\",\"PT\",\"PSL\",\"PROS\",\"AVANTE\",\"PV\",\"PSDB\",\"CIDADANIA\",\"PCdoB\",\"PSOL\"],\"xaxis\":\"x\",\"y\":[100.0,100.0,93.0,91.0,90.0,90.0,90.0,90.0,88.0,88.0,88.0,88.0,87.0,86.0,83.0,81.0,80.0,75.0,75.0,72.0,71.0,50.0,33.0],\"yaxis\":\"y\"},{\"alignmentgroup\":\"True\",\"hovertemplate\":\"sexo=F<br>siglaPartido=%{x}<br>id=%{y}<extra></extra>\",\"legendgroup\":\"F\",\"marker\":{\"color\":\"#EF553B\",\"pattern\":{\"shape\":\"\"}},\"name\":\"F\",\"offsetgroup\":\"F\",\"orientation\":\"v\",\"showlegend\":true,\"textposition\":\"auto\",\"type\":\"bar\",\"x\":[\"REDE\",\"PSOL\",\"PCdoB\",\"CIDADANIA\",\"PSDB\",\"AVANTE\",\"PV\",\"PROS\",\"PSL\",\"PT\",\"SOLIDARIEDADE\",\"REPUBLICANOS\",\"MDB\",\"NOVO\",\"PDT\",\"PP\",\"PL\",\"PODE\",\"PSB\",\"PTB\",\"PSC\",\"DEM\"],\"xaxis\":\"x\",\"y\":[100.0,67.0,50.0,29.0,28.0,25.0,25.0,20.0,19.0,17.0,14.0,13.0,12.0,12.0,12.0,12.0,10.0,10.0,10.0,10.0,9.0,7.0],\"yaxis\":\"y\"}],                        {\"barmode\":\"relative\",\"legend\":{\"title\":{\"text\":\"sexo\"},\"tracegroupgap\":0},\"margin\":{\"t\":60},\"template\":{\"data\":{\"bar\":[{\"error_x\":{\"color\":\"#2a3f5f\"},\"error_y\":{\"color\":\"#2a3f5f\"},\"marker\":{\"line\":{\"color\":\"#E5ECF6\",\"width\":0.5},\"pattern\":{\"fillmode\":\"overlay\",\"size\":10,\"solidity\":0.2}},\"type\":\"bar\"}],\"barpolar\":[{\"marker\":{\"line\":{\"color\":\"#E5ECF6\",\"width\":0.5},\"pattern\":{\"fillmode\":\"overlay\",\"size\":10,\"solidity\":0.2}},\"type\":\"barpolar\"}],\"carpet\":[{\"aaxis\":{\"endlinecolor\":\"#2a3f5f\",\"gridcolor\":\"white\",\"linecolor\":\"white\",\"minorgridcolor\":\"white\",\"startlinecolor\":\"#2a3f5f\"},\"baxis\":{\"endlinecolor\":\"#2a3f5f\",\"gridcolor\":\"white\",\"linecolor\":\"white\",\"minorgridcolor\":\"white\",\"startlinecolor\":\"#2a3f5f\"},\"type\":\"carpet\"}],\"choropleth\":[{\"colorbar\":{\"outlinewidth\":0,\"ticks\":\"\"},\"type\":\"choropleth\"}],\"contour\":[{\"colorbar\":{\"outlinewidth\":0,\"ticks\":\"\"},\"colorscale\":[[0.0,\"#0d0887\"],[0.1111111111111111,\"#46039f\"],[0.2222222222222222,\"#7201a8\"],[0.3333333333333333,\"#9c179e\"],[0.4444444444444444,\"#bd3786\"],[0.5555555555555556,\"#d8576b\"],[0.6666666666666666,\"#ed7953\"],[0.7777777777777778,\"#fb9f3a\"],[0.8888888888888888,\"#fdca26\"],[1.0,\"#f0f921\"]],\"type\":\"contour\"}],\"contourcarpet\":[{\"colorbar\":{\"outlinewidth\":0,\"ticks\":\"\"},\"type\":\"contourcarpet\"}],\"heatmap\":[{\"colorbar\":{\"outlinewidth\":0,\"ticks\":\"\"},\"colorscale\":[[0.0,\"#0d0887\"],[0.1111111111111111,\"#46039f\"],[0.2222222222222222,\"#7201a8\"],[0.3333333333333333,\"#9c179e\"],[0.4444444444444444,\"#bd3786\"],[0.5555555555555556,\"#d8576b\"],[0.6666666666666666,\"#ed7953\"],[0.7777777777777778,\"#fb9f3a\"],[0.8888888888888888,\"#fdca26\"],[1.0,\"#f0f921\"]],\"type\":\"heatmap\"}],\"heatmapgl\":[{\"colorbar\":{\"outlinewidth\":0,\"ticks\":\"\"},\"colorscale\":[[0.0,\"#0d0887\"],[0.1111111111111111,\"#46039f\"],[0.2222222222222222,\"#7201a8\"],[0.3333333333333333,\"#9c179e\"],[0.4444444444444444,\"#bd3786\"],[0.5555555555555556,\"#d8576b\"],[0.6666666666666666,\"#ed7953\"],[0.7777777777777778,\"#fb9f3a\"],[0.8888888888888888,\"#fdca26\"],[1.0,\"#f0f921\"]],\"type\":\"heatmapgl\"}],\"histogram\":[{\"marker\":{\"pattern\":{\"fillmode\":\"overlay\",\"size\":10,\"solidity\":0.2}},\"type\":\"histogram\"}],\"histogram2d\":[{\"colorbar\":{\"outlinewidth\":0,\"ticks\":\"\"},\"colorscale\":[[0.0,\"#0d0887\"],[0.1111111111111111,\"#46039f\"],[0.2222222222222222,\"#7201a8\"],[0.3333333333333333,\"#9c179e\"],[0.4444444444444444,\"#bd3786\"],[0.5555555555555556,\"#d8576b\"],[0.6666666666666666,\"#ed7953\"],[0.7777777777777778,\"#fb9f3a\"],[0.8888888888888888,\"#fdca26\"],[1.0,\"#f0f921\"]],\"type\":\"histogram2d\"}],\"histogram2dcontour\":[{\"colorbar\":{\"outlinewidth\":0,\"ticks\":\"\"},\"colorscale\":[[0.0,\"#0d0887\"],[0.1111111111111111,\"#46039f\"],[0.2222222222222222,\"#7201a8\"],[0.3333333333333333,\"#9c179e\"],[0.4444444444444444,\"#bd3786\"],[0.5555555555555556,\"#d8576b\"],[0.6666666666666666,\"#ed7953\"],[0.7777777777777778,\"#fb9f3a\"],[0.8888888888888888,\"#fdca26\"],[1.0,\"#f0f921\"]],\"type\":\"histogram2dcontour\"}],\"mesh3d\":[{\"colorbar\":{\"outlinewidth\":0,\"ticks\":\"\"},\"type\":\"mesh3d\"}],\"parcoords\":[{\"line\":{\"colorbar\":{\"outlinewidth\":0,\"ticks\":\"\"}},\"type\":\"parcoords\"}],\"pie\":[{\"automargin\":true,\"type\":\"pie\"}],\"scatter\":[{\"marker\":{\"colorbar\":{\"outlinewidth\":0,\"ticks\":\"\"}},\"type\":\"scatter\"}],\"scatter3d\":[{\"line\":{\"colorbar\":{\"outlinewidth\":0,\"ticks\":\"\"}},\"marker\":{\"colorbar\":{\"outlinewidth\":0,\"ticks\":\"\"}},\"type\":\"scatter3d\"}],\"scattercarpet\":[{\"marker\":{\"colorbar\":{\"outlinewidth\":0,\"ticks\":\"\"}},\"type\":\"scattercarpet\"}],\"scattergeo\":[{\"marker\":{\"colorbar\":{\"outlinewidth\":0,\"ticks\":\"\"}},\"type\":\"scattergeo\"}],\"scattergl\":[{\"marker\":{\"colorbar\":{\"outlinewidth\":0,\"ticks\":\"\"}},\"type\":\"scattergl\"}],\"scattermapbox\":[{\"marker\":{\"colorbar\":{\"outlinewidth\":0,\"ticks\":\"\"}},\"type\":\"scattermapbox\"}],\"scatterpolar\":[{\"marker\":{\"colorbar\":{\"outlinewidth\":0,\"ticks\":\"\"}},\"type\":\"scatterpolar\"}],\"scatterpolargl\":[{\"marker\":{\"colorbar\":{\"outlinewidth\":0,\"ticks\":\"\"}},\"type\":\"scatterpolargl\"}],\"scatterternary\":[{\"marker\":{\"colorbar\":{\"outlinewidth\":0,\"ticks\":\"\"}},\"type\":\"scatterternary\"}],\"surface\":[{\"colorbar\":{\"outlinewidth\":0,\"ticks\":\"\"},\"colorscale\":[[0.0,\"#0d0887\"],[0.1111111111111111,\"#46039f\"],[0.2222222222222222,\"#7201a8\"],[0.3333333333333333,\"#9c179e\"],[0.4444444444444444,\"#bd3786\"],[0.5555555555555556,\"#d8576b\"],[0.6666666666666666,\"#ed7953\"],[0.7777777777777778,\"#fb9f3a\"],[0.8888888888888888,\"#fdca26\"],[1.0,\"#f0f921\"]],\"type\":\"surface\"}],\"table\":[{\"cells\":{\"fill\":{\"color\":\"#EBF0F8\"},\"line\":{\"color\":\"white\"}},\"header\":{\"fill\":{\"color\":\"#C8D4E3\"},\"line\":{\"color\":\"white\"}},\"type\":\"table\"}]},\"layout\":{\"annotationdefaults\":{\"arrowcolor\":\"#2a3f5f\",\"arrowhead\":0,\"arrowwidth\":1},\"autotypenumbers\":\"strict\",\"coloraxis\":{\"colorbar\":{\"outlinewidth\":0,\"ticks\":\"\"}},\"colorscale\":{\"diverging\":[[0,\"#8e0152\"],[0.1,\"#c51b7d\"],[0.2,\"#de77ae\"],[0.3,\"#f1b6da\"],[0.4,\"#fde0ef\"],[0.5,\"#f7f7f7\"],[0.6,\"#e6f5d0\"],[0.7,\"#b8e186\"],[0.8,\"#7fbc41\"],[0.9,\"#4d9221\"],[1,\"#276419\"]],\"sequential\":[[0.0,\"#0d0887\"],[0.1111111111111111,\"#46039f\"],[0.2222222222222222,\"#7201a8\"],[0.3333333333333333,\"#9c179e\"],[0.4444444444444444,\"#bd3786\"],[0.5555555555555556,\"#d8576b\"],[0.6666666666666666,\"#ed7953\"],[0.7777777777777778,\"#fb9f3a\"],[0.8888888888888888,\"#fdca26\"],[1.0,\"#f0f921\"]],\"sequentialminus\":[[0.0,\"#0d0887\"],[0.1111111111111111,\"#46039f\"],[0.2222222222222222,\"#7201a8\"],[0.3333333333333333,\"#9c179e\"],[0.4444444444444444,\"#bd3786\"],[0.5555555555555556,\"#d8576b\"],[0.6666666666666666,\"#ed7953\"],[0.7777777777777778,\"#fb9f3a\"],[0.8888888888888888,\"#fdca26\"],[1.0,\"#f0f921\"]]},\"colorway\":[\"#636efa\",\"#EF553B\",\"#00cc96\",\"#ab63fa\",\"#FFA15A\",\"#19d3f3\",\"#FF6692\",\"#B6E880\",\"#FF97FF\",\"#FECB52\"],\"font\":{\"color\":\"#2a3f5f\"},\"geo\":{\"bgcolor\":\"white\",\"lakecolor\":\"white\",\"landcolor\":\"#E5ECF6\",\"showlakes\":true,\"showland\":true,\"subunitcolor\":\"white\"},\"hoverlabel\":{\"align\":\"left\"},\"hovermode\":\"closest\",\"mapbox\":{\"style\":\"light\"},\"paper_bgcolor\":\"white\",\"plot_bgcolor\":\"#E5ECF6\",\"polar\":{\"angularaxis\":{\"gridcolor\":\"white\",\"linecolor\":\"white\",\"ticks\":\"\"},\"bgcolor\":\"#E5ECF6\",\"radialaxis\":{\"gridcolor\":\"white\",\"linecolor\":\"white\",\"ticks\":\"\"}},\"scene\":{\"xaxis\":{\"backgroundcolor\":\"#E5ECF6\",\"gridcolor\":\"white\",\"gridwidth\":2,\"linecolor\":\"white\",\"showbackground\":true,\"ticks\":\"\",\"zerolinecolor\":\"white\"},\"yaxis\":{\"backgroundcolor\":\"#E5ECF6\",\"gridcolor\":\"white\",\"gridwidth\":2,\"linecolor\":\"white\",\"showbackground\":true,\"ticks\":\"\",\"zerolinecolor\":\"white\"},\"zaxis\":{\"backgroundcolor\":\"#E5ECF6\",\"gridcolor\":\"white\",\"gridwidth\":2,\"linecolor\":\"white\",\"showbackground\":true,\"ticks\":\"\",\"zerolinecolor\":\"white\"}},\"shapedefaults\":{\"line\":{\"color\":\"#2a3f5f\"}},\"ternary\":{\"aaxis\":{\"gridcolor\":\"white\",\"linecolor\":\"white\",\"ticks\":\"\"},\"baxis\":{\"gridcolor\":\"white\",\"linecolor\":\"white\",\"ticks\":\"\"},\"bgcolor\":\"#E5ECF6\",\"caxis\":{\"gridcolor\":\"white\",\"linecolor\":\"white\",\"ticks\":\"\"}},\"title\":{\"x\":0.05},\"xaxis\":{\"automargin\":true,\"gridcolor\":\"white\",\"linecolor\":\"white\",\"ticks\":\"\",\"title\":{\"standoff\":15},\"zerolinecolor\":\"white\",\"zerolinewidth\":2},\"yaxis\":{\"automargin\":true,\"gridcolor\":\"white\",\"linecolor\":\"white\",\"ticks\":\"\",\"title\":{\"standoff\":15},\"zerolinecolor\":\"white\",\"zerolinewidth\":2}}},\"xaxis\":{\"anchor\":\"y\",\"domain\":[0.0,1.0],\"title\":{\"text\":\"siglaPartido\"}},\"yaxis\":{\"anchor\":\"x\",\"domain\":[0.0,1.0],\"title\":{\"text\":\"id\"}}},                        {\"responsive\": true}                    ).then(function(){\n",
       "                            \n",
       "var gd = document.getElementById('beec0f73-4b2d-4091-a57f-c046b6726c27');\n",
       "var x = new MutationObserver(function (mutations, observer) {{\n",
       "        var display = window.getComputedStyle(gd).display;\n",
       "        if (!display || display === 'none') {{\n",
       "            console.log([gd, 'removed!']);\n",
       "            Plotly.purge(gd);\n",
       "            observer.disconnect();\n",
       "        }}\n",
       "}});\n",
       "\n",
       "// Listen for the removal of the full notebook cells\n",
       "var notebookContainer = gd.closest('#notebook-container');\n",
       "if (notebookContainer) {{\n",
       "    x.observe(notebookContainer, {childList: true});\n",
       "}}\n",
       "\n",
       "// Listen for the clearing of the current output cell\n",
       "var outputEl = gd.closest('.output');\n",
       "if (outputEl) {{\n",
       "    x.observe(outputEl, {childList: true});\n",
       "}}\n",
       "\n",
       "                        })                };                });            </script>        </div>"
      ]
     },
     "metadata": {},
     "output_type": "display_data"
    }
   ],
   "source": [
    "# fig_sc = px.scatter(deputadosdf, \n",
    "#                     x=\"siglaPartido\", \n",
    "#                     y=\"age\", \n",
    "#                     color=\"sexo\")\n",
    "# fig_sc.update_layout(height=700)\n",
    "# fig_sc.show()\n",
    "\n",
    "partsexdf = deputadosdf[['siglaPartido', 'sexo', 'id']]\\\n",
    "    .groupby(['siglaPartido','sexo'])\\\n",
    "    .agg({'id': 'count'})\\\n",
    "    .groupby(level=0)\\\n",
    "    .apply(lambda x: round(100*x/x.sum(),0))\\\n",
    "    .sort_values(['sexo','id'], ascending=False)\\\n",
    "    .reset_index()\n",
    "\n",
    "partsexfig = px.bar(partsexdf, x='siglaPartido', y='id', color='sexo')\n",
    "\n",
    "partsexfig.show()\n",
    "# partsexdf"
   ]
  },
  {
   "cell_type": "code",
   "execution_count": null,
   "id": "7e23c84e-1527-471f-89f5-9deb0db8d06e",
   "metadata": {
    "scrolled": true,
    "tags": []
   },
   "outputs": [],
   "source": [
    "## Getting more information\n",
    "i = 0\n",
    "desdf = []\n",
    "deputadosdf['despesas'] = None\n",
    "\n",
    "for i in range(0, len(deputadosdf)):\n",
    "    listdesp = []\n",
    "    dep_filter_url = base_url + '/deputados/' + str(deputadosdf['id'][i]) + '/despesas'\n",
    "    listdesp.append(getdata(dep_filter_url, listdesp))\n",
    "    next_url = nextlinkfromurl(dep_filter_url)\n",
    "    print(\"Starting dep \" + str(i+1))\n",
    "    while(next_url is not None):\n",
    "        nextlist = requests.get(next_url).json()\n",
    "        listdesp.append(nextlist['dados'])\n",
    "        next_url = nextlinkfromdict(nextlist)\n",
    "    \n",
    "    deputadosdf['despesas'][i] = listdesp\n",
    "#     time.sleep(1)\n",
    "\n",
    "#merging the useful columns to the best dataframe\n",
    "# deputadosdf"
   ]
  },
  {
   "cell_type": "code",
   "execution_count": null,
   "id": "67389e70-f96b-49ba-a6d4-3d862201fe35",
   "metadata": {},
   "outputs": [],
   "source": [
    "deputadosdf"
   ]
  },
  {
   "cell_type": "code",
   "execution_count": 169,
   "id": "c793cacd-7960-4fa0-9a18-44a765178dc5",
   "metadata": {
    "tags": []
   },
   "outputs": [
    {
     "ename": "DatabaseError",
     "evalue": "Execution failed on sql 'SELECT name FROM sqlite_master WHERE type='table' AND name=?;': relation \"sqlite_master\" does not exist\nLINE 1: SELECT name FROM sqlite_master WHERE type='table' AND name=?...\n                         ^\n",
     "output_type": "error",
     "traceback": [
      "\u001b[0;31m---------------------------------------------------------------------------\u001b[0m",
      "\u001b[0;31mUndefinedTable\u001b[0m                            Traceback (most recent call last)",
      "\u001b[0;32m~/anaconda3/envs/senadores/lib/python3.8/site-packages/pandas/io/sql.py\u001b[0m in \u001b[0;36mexecute\u001b[0;34m(self, *args, **kwargs)\u001b[0m\n\u001b[1;32m   2055\u001b[0m         \u001b[0;32mtry\u001b[0m\u001b[0;34m:\u001b[0m\u001b[0;34m\u001b[0m\u001b[0;34m\u001b[0m\u001b[0m\n\u001b[0;32m-> 2056\u001b[0;31m             \u001b[0mcur\u001b[0m\u001b[0;34m.\u001b[0m\u001b[0mexecute\u001b[0m\u001b[0;34m(\u001b[0m\u001b[0;34m*\u001b[0m\u001b[0margs\u001b[0m\u001b[0;34m,\u001b[0m \u001b[0;34m**\u001b[0m\u001b[0mkwargs\u001b[0m\u001b[0;34m)\u001b[0m\u001b[0;34m\u001b[0m\u001b[0;34m\u001b[0m\u001b[0m\n\u001b[0m\u001b[1;32m   2057\u001b[0m             \u001b[0;32mreturn\u001b[0m \u001b[0mcur\u001b[0m\u001b[0;34m\u001b[0m\u001b[0;34m\u001b[0m\u001b[0m\n",
      "\u001b[0;31mUndefinedTable\u001b[0m: relation \"sqlite_master\" does not exist\nLINE 1: SELECT name FROM sqlite_master WHERE type='table' AND name=?...\n                         ^\n",
      "\nThe above exception was the direct cause of the following exception:\n",
      "\u001b[0;31mDatabaseError\u001b[0m                             Traceback (most recent call last)",
      "\u001b[0;32m<ipython-input-169-98f21eb7e03b>\u001b[0m in \u001b[0;36m<module>\u001b[0;34m\u001b[0m\n\u001b[1;32m      3\u001b[0m \u001b[0;31m# conn = psycopg2.connect(\"dbname='yetusbwb' user='yetusbwb' host='kesavan.db.elephantsql.com'\");\u001b[0m\u001b[0;34m\u001b[0m\u001b[0;34m\u001b[0m\u001b[0;34m\u001b[0m\u001b[0m\n\u001b[1;32m      4\u001b[0m \u001b[0;31m# cursor = conn.cursor()\u001b[0m\u001b[0;34m\u001b[0m\u001b[0;34m\u001b[0m\u001b[0;34m\u001b[0m\u001b[0m\n\u001b[0;32m----> 5\u001b[0;31m \u001b[0mdeputadosdf\u001b[0m\u001b[0;34m.\u001b[0m\u001b[0mdrop\u001b[0m\u001b[0;34m(\u001b[0m\u001b[0;34m[\u001b[0m\u001b[0;34m'despesas'\u001b[0m\u001b[0;34m]\u001b[0m\u001b[0;34m,\u001b[0m \u001b[0maxis\u001b[0m\u001b[0;34m=\u001b[0m\u001b[0;36m1\u001b[0m\u001b[0;34m)\u001b[0m\u001b[0;34m.\u001b[0m\u001b[0mto_sql\u001b[0m\u001b[0;34m(\u001b[0m\u001b[0;34m'deputado'\u001b[0m\u001b[0;34m,\u001b[0m \u001b[0mcon\u001b[0m\u001b[0;34m=\u001b[0m\u001b[0mdb\u001b[0m\u001b[0;34m,\u001b[0m \u001b[0mschema\u001b[0m\u001b[0;34m=\u001b[0m\u001b[0;34m\"yetusbwb\"\u001b[0m\u001b[0;34m,\u001b[0m\u001b[0;34m)\u001b[0m\u001b[0;34m\u001b[0m\u001b[0;34m\u001b[0m\u001b[0m\n\u001b[0m\u001b[1;32m      6\u001b[0m \u001b[0;31m# conn.commit()\u001b[0m\u001b[0;34m\u001b[0m\u001b[0;34m\u001b[0m\u001b[0;34m\u001b[0m\u001b[0m\n\u001b[1;32m      7\u001b[0m \u001b[0;31m# cursor.close()\u001b[0m\u001b[0;34m\u001b[0m\u001b[0;34m\u001b[0m\u001b[0;34m\u001b[0m\u001b[0m\n",
      "\u001b[0;32m~/anaconda3/envs/senadores/lib/python3.8/site-packages/pandas/core/generic.py\u001b[0m in \u001b[0;36mto_sql\u001b[0;34m(self, name, con, schema, if_exists, index, index_label, chunksize, dtype, method)\u001b[0m\n\u001b[1;32m   2867\u001b[0m         \u001b[0;32mfrom\u001b[0m \u001b[0mpandas\u001b[0m\u001b[0;34m.\u001b[0m\u001b[0mio\u001b[0m \u001b[0;32mimport\u001b[0m \u001b[0msql\u001b[0m\u001b[0;34m\u001b[0m\u001b[0;34m\u001b[0m\u001b[0m\n\u001b[1;32m   2868\u001b[0m \u001b[0;34m\u001b[0m\u001b[0m\n\u001b[0;32m-> 2869\u001b[0;31m         sql.to_sql(\n\u001b[0m\u001b[1;32m   2870\u001b[0m             \u001b[0mself\u001b[0m\u001b[0;34m,\u001b[0m\u001b[0;34m\u001b[0m\u001b[0;34m\u001b[0m\u001b[0m\n\u001b[1;32m   2871\u001b[0m             \u001b[0mname\u001b[0m\u001b[0;34m,\u001b[0m\u001b[0;34m\u001b[0m\u001b[0;34m\u001b[0m\u001b[0m\n",
      "\u001b[0;32m~/anaconda3/envs/senadores/lib/python3.8/site-packages/pandas/io/sql.py\u001b[0m in \u001b[0;36mto_sql\u001b[0;34m(frame, name, con, schema, if_exists, index, index_label, chunksize, dtype, method, engine, **engine_kwargs)\u001b[0m\n\u001b[1;32m    715\u001b[0m         )\n\u001b[1;32m    716\u001b[0m \u001b[0;34m\u001b[0m\u001b[0m\n\u001b[0;32m--> 717\u001b[0;31m     pandas_sql.to_sql(\n\u001b[0m\u001b[1;32m    718\u001b[0m         \u001b[0mframe\u001b[0m\u001b[0;34m,\u001b[0m\u001b[0;34m\u001b[0m\u001b[0;34m\u001b[0m\u001b[0m\n\u001b[1;32m    719\u001b[0m         \u001b[0mname\u001b[0m\u001b[0;34m,\u001b[0m\u001b[0;34m\u001b[0m\u001b[0;34m\u001b[0m\u001b[0m\n",
      "\u001b[0;32m~/anaconda3/envs/senadores/lib/python3.8/site-packages/pandas/io/sql.py\u001b[0m in \u001b[0;36mto_sql\u001b[0;34m(self, frame, name, if_exists, index, index_label, schema, chunksize, dtype, method, **kwargs)\u001b[0m\n\u001b[1;32m   2223\u001b[0m             \u001b[0mdtype\u001b[0m\u001b[0;34m=\u001b[0m\u001b[0mdtype\u001b[0m\u001b[0;34m,\u001b[0m\u001b[0;34m\u001b[0m\u001b[0;34m\u001b[0m\u001b[0m\n\u001b[1;32m   2224\u001b[0m         )\n\u001b[0;32m-> 2225\u001b[0;31m         \u001b[0mtable\u001b[0m\u001b[0;34m.\u001b[0m\u001b[0mcreate\u001b[0m\u001b[0;34m(\u001b[0m\u001b[0;34m)\u001b[0m\u001b[0;34m\u001b[0m\u001b[0;34m\u001b[0m\u001b[0m\n\u001b[0m\u001b[1;32m   2226\u001b[0m         \u001b[0mtable\u001b[0m\u001b[0;34m.\u001b[0m\u001b[0minsert\u001b[0m\u001b[0;34m(\u001b[0m\u001b[0mchunksize\u001b[0m\u001b[0;34m,\u001b[0m \u001b[0mmethod\u001b[0m\u001b[0;34m)\u001b[0m\u001b[0;34m\u001b[0m\u001b[0;34m\u001b[0m\u001b[0m\n\u001b[1;32m   2227\u001b[0m \u001b[0;34m\u001b[0m\u001b[0m\n",
      "\u001b[0;32m~/anaconda3/envs/senadores/lib/python3.8/site-packages/pandas/io/sql.py\u001b[0m in \u001b[0;36mcreate\u001b[0;34m(self)\u001b[0m\n\u001b[1;32m    854\u001b[0m \u001b[0;34m\u001b[0m\u001b[0m\n\u001b[1;32m    855\u001b[0m     \u001b[0;32mdef\u001b[0m \u001b[0mcreate\u001b[0m\u001b[0;34m(\u001b[0m\u001b[0mself\u001b[0m\u001b[0;34m)\u001b[0m\u001b[0;34m:\u001b[0m\u001b[0;34m\u001b[0m\u001b[0;34m\u001b[0m\u001b[0m\n\u001b[0;32m--> 856\u001b[0;31m         \u001b[0;32mif\u001b[0m \u001b[0mself\u001b[0m\u001b[0;34m.\u001b[0m\u001b[0mexists\u001b[0m\u001b[0;34m(\u001b[0m\u001b[0;34m)\u001b[0m\u001b[0;34m:\u001b[0m\u001b[0;34m\u001b[0m\u001b[0;34m\u001b[0m\u001b[0m\n\u001b[0m\u001b[1;32m    857\u001b[0m             \u001b[0;32mif\u001b[0m \u001b[0mself\u001b[0m\u001b[0;34m.\u001b[0m\u001b[0mif_exists\u001b[0m \u001b[0;34m==\u001b[0m \u001b[0;34m\"fail\"\u001b[0m\u001b[0;34m:\u001b[0m\u001b[0;34m\u001b[0m\u001b[0;34m\u001b[0m\u001b[0m\n\u001b[1;32m    858\u001b[0m                 \u001b[0;32mraise\u001b[0m \u001b[0mValueError\u001b[0m\u001b[0;34m(\u001b[0m\u001b[0;34mf\"Table '{self.name}' already exists.\"\u001b[0m\u001b[0;34m)\u001b[0m\u001b[0;34m\u001b[0m\u001b[0;34m\u001b[0m\u001b[0m\n",
      "\u001b[0;32m~/anaconda3/envs/senadores/lib/python3.8/site-packages/pandas/io/sql.py\u001b[0m in \u001b[0;36mexists\u001b[0;34m(self)\u001b[0m\n\u001b[1;32m    838\u001b[0m \u001b[0;34m\u001b[0m\u001b[0m\n\u001b[1;32m    839\u001b[0m     \u001b[0;32mdef\u001b[0m \u001b[0mexists\u001b[0m\u001b[0;34m(\u001b[0m\u001b[0mself\u001b[0m\u001b[0;34m)\u001b[0m\u001b[0;34m:\u001b[0m\u001b[0;34m\u001b[0m\u001b[0;34m\u001b[0m\u001b[0m\n\u001b[0;32m--> 840\u001b[0;31m         \u001b[0;32mreturn\u001b[0m \u001b[0mself\u001b[0m\u001b[0;34m.\u001b[0m\u001b[0mpd_sql\u001b[0m\u001b[0;34m.\u001b[0m\u001b[0mhas_table\u001b[0m\u001b[0;34m(\u001b[0m\u001b[0mself\u001b[0m\u001b[0;34m.\u001b[0m\u001b[0mname\u001b[0m\u001b[0;34m,\u001b[0m \u001b[0mself\u001b[0m\u001b[0;34m.\u001b[0m\u001b[0mschema\u001b[0m\u001b[0;34m)\u001b[0m\u001b[0;34m\u001b[0m\u001b[0;34m\u001b[0m\u001b[0m\n\u001b[0m\u001b[1;32m    841\u001b[0m \u001b[0;34m\u001b[0m\u001b[0m\n\u001b[1;32m    842\u001b[0m     \u001b[0;32mdef\u001b[0m \u001b[0msql_schema\u001b[0m\u001b[0;34m(\u001b[0m\u001b[0mself\u001b[0m\u001b[0;34m)\u001b[0m\u001b[0;34m:\u001b[0m\u001b[0;34m\u001b[0m\u001b[0;34m\u001b[0m\u001b[0m\n",
      "\u001b[0;32m~/anaconda3/envs/senadores/lib/python3.8/site-packages/pandas/io/sql.py\u001b[0m in \u001b[0;36mhas_table\u001b[0;34m(self, name, schema)\u001b[0m\n\u001b[1;32m   2234\u001b[0m         \u001b[0mquery\u001b[0m \u001b[0;34m=\u001b[0m \u001b[0;34mf\"SELECT name FROM sqlite_master WHERE type='table' AND name={wld};\"\u001b[0m\u001b[0;34m\u001b[0m\u001b[0;34m\u001b[0m\u001b[0m\n\u001b[1;32m   2235\u001b[0m \u001b[0;34m\u001b[0m\u001b[0m\n\u001b[0;32m-> 2236\u001b[0;31m         \u001b[0;32mreturn\u001b[0m \u001b[0mlen\u001b[0m\u001b[0;34m(\u001b[0m\u001b[0mself\u001b[0m\u001b[0;34m.\u001b[0m\u001b[0mexecute\u001b[0m\u001b[0;34m(\u001b[0m\u001b[0mquery\u001b[0m\u001b[0;34m,\u001b[0m \u001b[0;34m[\u001b[0m\u001b[0mname\u001b[0m\u001b[0;34m]\u001b[0m\u001b[0;34m)\u001b[0m\u001b[0;34m.\u001b[0m\u001b[0mfetchall\u001b[0m\u001b[0;34m(\u001b[0m\u001b[0;34m)\u001b[0m\u001b[0;34m)\u001b[0m \u001b[0;34m>\u001b[0m \u001b[0;36m0\u001b[0m\u001b[0;34m\u001b[0m\u001b[0;34m\u001b[0m\u001b[0m\n\u001b[0m\u001b[1;32m   2237\u001b[0m \u001b[0;34m\u001b[0m\u001b[0m\n\u001b[1;32m   2238\u001b[0m     \u001b[0;32mdef\u001b[0m \u001b[0mget_table\u001b[0m\u001b[0;34m(\u001b[0m\u001b[0mself\u001b[0m\u001b[0;34m,\u001b[0m \u001b[0mtable_name\u001b[0m\u001b[0;34m:\u001b[0m \u001b[0mstr\u001b[0m\u001b[0;34m,\u001b[0m \u001b[0mschema\u001b[0m\u001b[0;34m:\u001b[0m \u001b[0mstr\u001b[0m \u001b[0;34m|\u001b[0m \u001b[0;32mNone\u001b[0m \u001b[0;34m=\u001b[0m \u001b[0;32mNone\u001b[0m\u001b[0;34m)\u001b[0m\u001b[0;34m:\u001b[0m\u001b[0;34m\u001b[0m\u001b[0;34m\u001b[0m\u001b[0m\n",
      "\u001b[0;32m~/anaconda3/envs/senadores/lib/python3.8/site-packages/pandas/io/sql.py\u001b[0m in \u001b[0;36mexecute\u001b[0;34m(self, *args, **kwargs)\u001b[0m\n\u001b[1;32m   2066\u001b[0m \u001b[0;34m\u001b[0m\u001b[0m\n\u001b[1;32m   2067\u001b[0m             \u001b[0mex\u001b[0m \u001b[0;34m=\u001b[0m \u001b[0mDatabaseError\u001b[0m\u001b[0;34m(\u001b[0m\u001b[0;34mf\"Execution failed on sql '{args[0]}': {exc}\"\u001b[0m\u001b[0;34m)\u001b[0m\u001b[0;34m\u001b[0m\u001b[0;34m\u001b[0m\u001b[0m\n\u001b[0;32m-> 2068\u001b[0;31m             \u001b[0;32mraise\u001b[0m \u001b[0mex\u001b[0m \u001b[0;32mfrom\u001b[0m \u001b[0mexc\u001b[0m\u001b[0;34m\u001b[0m\u001b[0;34m\u001b[0m\u001b[0m\n\u001b[0m\u001b[1;32m   2069\u001b[0m \u001b[0;34m\u001b[0m\u001b[0m\n\u001b[1;32m   2070\u001b[0m     \u001b[0;34m@\u001b[0m\u001b[0mstaticmethod\u001b[0m\u001b[0;34m\u001b[0m\u001b[0;34m\u001b[0m\u001b[0m\n",
      "\u001b[0;31mDatabaseError\u001b[0m: Execution failed on sql 'SELECT name FROM sqlite_master WHERE type='table' AND name=?;': relation \"sqlite_master\" does not exist\nLINE 1: SELECT name FROM sqlite_master WHERE type='table' AND name=?...\n                         ^\n"
     ]
    }
   ],
   "source": [
    "def insert_into_table(dataframe, table):\n",
    "    sql = \"INSERT INTO deputados() VALUES(%s)\"\n",
    "    conn = None\n",
    "    try:\n",
    "        # read database configuration\n",
    "        params = config()\n",
    "        # connect to the PostgreSQL database\n",
    "        conn = psycopg2.connect(**params)\n",
    "        # create a new cursor\n",
    "        cur = conn.cursor()\n",
    "        # execute the INSERT statement\n",
    "        cur.executemany(sql,vendor_list)\n",
    "        # commit the changes to the database\n",
    "        conn.commit()\n",
    "        # close communication with the database\n",
    "        cur.close()\n",
    "    except (Exception, psycopg2.DatabaseError) as error:\n",
    "        print(error)\n",
    "    finally:\n",
    "        if conn is not None:\n",
    "            conn.close()\n",
    "\n",
    "db_string = \"postgresql://yetusbwb@kesavan.db.elephantsql.com:5432/yetusbwb\"\n",
    "db = create_engine(db_string).raw_connection()\n",
    "# conn = psycopg2.connect(\"dbname='yetusbwb' user='yetusbwb' host='kesavan.db.elephantsql.com'\");\n",
    "# cursor = conn.cursor()\n",
    "# deputadosdf.drop(['despesas'], axis=1).to_sql('deputado', con=db, schema=\"yetusbwb\",)\n",
    "# conn.commit()\n",
    "# cursor.close()\n",
    "# conn.close()"
   ]
  },
  {
   "cell_type": "code",
   "execution_count": 1,
   "id": "f8751295-43e2-4394-95a7-0fc22f1e8119",
   "metadata": {},
   "outputs": [
    {
     "ename": "NameError",
     "evalue": "name 'deputadosdf' is not defined",
     "output_type": "error",
     "traceback": [
      "\u001b[0;31m---------------------------------------------------------------------------\u001b[0m",
      "\u001b[0;31mNameError\u001b[0m                                 Traceback (most recent call last)",
      "\u001b[0;32m<ipython-input-1-deaf5010acdc>\u001b[0m in \u001b[0;36m<module>\u001b[0;34m\u001b[0m\n\u001b[0;32m----> 1\u001b[0;31m \u001b[0mdeputadosdf\u001b[0m\u001b[0;34m.\u001b[0m\u001b[0mdrop\u001b[0m\u001b[0;34m(\u001b[0m\u001b[0;34m[\u001b[0m\u001b[0;34m'despesas'\u001b[0m\u001b[0;34m]\u001b[0m\u001b[0;34m,\u001b[0m \u001b[0maxis\u001b[0m\u001b[0;34m=\u001b[0m\u001b[0;36m1\u001b[0m\u001b[0;34m)\u001b[0m\u001b[0;34m\u001b[0m\u001b[0;34m\u001b[0m\u001b[0m\n\u001b[0m",
      "\u001b[0;31mNameError\u001b[0m: name 'deputadosdf' is not defined"
     ]
    }
   ],
   "source": [
    "deputadosdf.drop(['despesas'], axis=1)"
   ]
  },
  {
   "cell_type": "code",
   "execution_count": 79,
   "id": "dd8e76b7-c614-4b4b-853f-a961c4688e4e",
   "metadata": {},
   "outputs": [
    {
     "data": {
      "text/plain": [
       "True"
      ]
     },
     "execution_count": 79,
     "metadata": {},
     "output_type": "execute_result"
    }
   ],
   "source": [
    "pdf = requests.get(dep_filter_url).json()\n",
    "\n",
    "def getnextlink(link):\n",
    "    pdf = requests.get(link).json()\n",
    "    for row in pdf['links']:\n",
    "        if row['rel'] == \"next\":\n",
    "            return row['href']\n",
    "    return None\n",
    "        \n",
    "getnextlink('https://dadosabertos.camara.leg.br/api/v2/deputados/204554/despesas?pagina=10') is None"
   ]
  },
  {
   "cell_type": "code",
   "execution_count": 165,
   "id": "b896506f-2829-4402-95ab-951923b9ca6a",
   "metadata": {},
   "outputs": [],
   "source": [
    "df = requests.get(\"https://dadosabertos.camara.leg.br/api/v2/deputados/204554/despesas?pagina=10&itens=15\").json()"
   ]
  },
  {
   "cell_type": "code",
   "execution_count": 166,
   "id": "47bfc6a7-ead0-4ac2-9f3c-5f85c52b0d02",
   "metadata": {},
   "outputs": [
    {
     "name": "stdout",
     "output_type": "stream",
     "text": [
      "True\n"
     ]
    }
   ],
   "source": [
    "pdf = pd.DataFrame(df['links'])\n",
    "if(len(pdf[pdf['rel'] == 'next']) == 0):\n",
    "    print('True')\n",
    "else:\n",
    "    print('False')"
   ]
  },
  {
   "cell_type": "markdown",
   "id": "d3e1d98c-cd63-4d01-b5db-dff422d250fe",
   "metadata": {},
   "source": [
    "1. REST API: Key Concepts, Best Practices, and Benefits [Online]. https://www.altexsoft.com/blog/rest-api-design/.\n",
    "2. LEI Nº 12.527, DE 18 DE NOVEMBRO DE 2011. [Online]. http://www.planalto.gov.br/ccivil_03/_ato2011-2014/2011/lei/l12527.htm.\n",
    "3. DADOS ABERTOS - CÂMARA DOS DEPUTADOS. [Online]. https://dadosabertos.camara.leg.br/swagger/api.html"
   ]
  }
 ],
 "metadata": {
  "kernelspec": {
   "display_name": "Python 3 (ipykernel)",
   "language": "python",
   "name": "python3"
  },
  "language_info": {
   "codemirror_mode": {
    "name": "ipython",
    "version": 3
   },
   "file_extension": ".py",
   "mimetype": "text/x-python",
   "name": "python",
   "nbconvert_exporter": "python",
   "pygments_lexer": "ipython3",
   "version": "3.9.13"
  }
 },
 "nbformat": 4,
 "nbformat_minor": 5
}
